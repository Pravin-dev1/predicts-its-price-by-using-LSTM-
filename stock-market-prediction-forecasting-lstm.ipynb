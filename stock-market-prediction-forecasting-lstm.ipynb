{
 "cells": [
  {
   "cell_type": "code",
   "execution_count": 1,
   "id": "454b43fa",
   "metadata": {
    "_cell_guid": "b1076dfc-b9ad-4769-8c92-a6c4dae69d19",
    "_uuid": "8f2839f25d086af736a60e9eeb907d3b93b6e0e5",
    "execution": {
     "iopub.execute_input": "2023-12-12T20:58:14.952724Z",
     "iopub.status.busy": "2023-12-12T20:58:14.951651Z",
     "iopub.status.idle": "2023-12-12T20:58:15.415001Z",
     "shell.execute_reply": "2023-12-12T20:58:15.413587Z"
    },
    "papermill": {
     "duration": 0.494871,
     "end_time": "2023-12-12T20:58:15.417727",
     "exception": false,
     "start_time": "2023-12-12T20:58:14.922856",
     "status": "completed"
    },
    "tags": []
   },
   "outputs": [
    {
     "name": "stdout",
     "output_type": "stream",
     "text": [
      "/kaggle/input/stock-market/NSE-TATAGLOBAL.csv\n"
     ]
    }
   ],
   "source": [
    "# This Python 3 environment comes with many helpful analytics libraries installed\n",
    "# It is defined by the kaggle/python Docker image: https://github.com/kaggle/docker-python\n",
    "# For example, here's several helpful packages to load\n",
    "\n",
    "import numpy as np # linear algebra\n",
    "import pandas as pd # data processing, CSV file I/O (e.g. pd.read_csv)\n",
    "\n",
    "# Input data files are available in the read-only \"../input/\" directory\n",
    "# For example, running this (by clicking run or pressing Shift+Enter) will list all files under the input directory\n",
    "\n",
    "import os\n",
    "for dirname, _, filenames in os.walk('/kaggle/input'):\n",
    "    for filename in filenames:\n",
    "        print(os.path.join(dirname, filename))\n",
    "\n",
    "# You can write up to 20GB to the current directory (/kaggle/working/) that gets preserved as output when you create a version using \"Save & Run All\" \n",
    "# You can also write temporary files to /kaggle/temp/, but they won't be saved outside of the current session"
   ]
  },
  {
   "cell_type": "markdown",
   "id": "5ca815e1",
   "metadata": {
    "papermill": {
     "duration": 0.027864,
     "end_time": "2023-12-12T20:58:15.473210",
     "exception": false,
     "start_time": "2023-12-12T20:58:15.445346",
     "status": "completed"
    },
    "tags": []
   },
   "source": [
    "# Import necessary libraries"
   ]
  },
  {
   "cell_type": "code",
   "execution_count": 2,
   "id": "8d0e89d9",
   "metadata": {
    "execution": {
     "iopub.execute_input": "2023-12-12T20:58:15.529603Z",
     "iopub.status.busy": "2023-12-12T20:58:15.529002Z",
     "iopub.status.idle": "2023-12-12T20:58:17.066888Z",
     "shell.execute_reply": "2023-12-12T20:58:17.065731Z"
    },
    "papermill": {
     "duration": 1.568977,
     "end_time": "2023-12-12T20:58:17.069959",
     "exception": false,
     "start_time": "2023-12-12T20:58:15.500982",
     "status": "completed"
    },
    "tags": []
   },
   "outputs": [],
   "source": [
    "import pandas as pd\n",
    "import numpy as np\n",
    "import matplotlib.pyplot as plt\n",
    "import seaborn as sns"
   ]
  },
  {
   "cell_type": "code",
   "execution_count": 3,
   "id": "a86e014a",
   "metadata": {
    "execution": {
     "iopub.execute_input": "2023-12-12T20:58:17.126001Z",
     "iopub.status.busy": "2023-12-12T20:58:17.125600Z",
     "iopub.status.idle": "2023-12-12T20:58:17.132047Z",
     "shell.execute_reply": "2023-12-12T20:58:17.130741Z"
    },
    "papermill": {
     "duration": 0.03729,
     "end_time": "2023-12-12T20:58:17.134503",
     "exception": false,
     "start_time": "2023-12-12T20:58:17.097213",
     "status": "completed"
    },
    "tags": []
   },
   "outputs": [],
   "source": [
    "pd.options.display.float_format = '{:.2f}'.format\n",
    "sns.set(rc={'figure.figsize':(20, 20)})"
   ]
  },
  {
   "cell_type": "code",
   "execution_count": 4,
   "id": "f831d72c",
   "metadata": {
    "execution": {
     "iopub.execute_input": "2023-12-12T20:58:17.189614Z",
     "iopub.status.busy": "2023-12-12T20:58:17.189194Z",
     "iopub.status.idle": "2023-12-12T20:58:32.070316Z",
     "shell.execute_reply": "2023-12-12T20:58:32.069136Z"
    },
    "papermill": {
     "duration": 14.911854,
     "end_time": "2023-12-12T20:58:32.073064",
     "exception": false,
     "start_time": "2023-12-12T20:58:17.161210",
     "status": "completed"
    },
    "tags": []
   },
   "outputs": [
    {
     "name": "stdout",
     "output_type": "stream",
     "text": [
      "Python version: 3.10.12 | packaged by conda-forge | (main, Jun 23 2023, 22:40:32) [GCC 12.3.0]\n",
      "pandas version: 2.0.3\n",
      "matplotlib version: 3.7.4\n",
      "NumPy version: 1.24.3\n",
      "SciPy version: 1.11.4\n",
      "IPython version: 8.14.0\n",
      "scikit-learn version: 1.2.2\n",
      "keras version: 2.13.1\n",
      "tensorflow version: 2.13.0\n"
     ]
    }
   ],
   "source": [
    "import sys\n",
    "print(\"Python version: {}\". format(sys.version))\n",
    "\n",
    "import pandas as pd \n",
    "print(\"pandas version: {}\". format(pd.__version__))\n",
    "\n",
    "import matplotlib \n",
    "print(\"matplotlib version: {}\". format(matplotlib.__version__))\n",
    "\n",
    "import numpy as np \n",
    "print(\"NumPy version: {}\". format(np.__version__))\n",
    "\n",
    "import scipy as sp \n",
    "print(\"SciPy version: {}\". format(sp.__version__)) \n",
    "\n",
    "import IPython\n",
    "from IPython import display \n",
    "print(\"IPython version: {}\". format(IPython.__version__)) \n",
    "\n",
    "import sklearn \n",
    "print(\"scikit-learn version: {}\". format(sklearn.__version__))\n",
    "\n",
    "import keras\n",
    "print(\"keras version: {}\".format(keras.__version__))\n",
    "\n",
    "import tensorflow as tf\n",
    "print(\"tensorflow version: {}\".format(tf.__version__))"
   ]
  },
  {
   "cell_type": "markdown",
   "id": "a35037ec",
   "metadata": {
    "papermill": {
     "duration": 0.027146,
     "end_time": "2023-12-12T20:58:32.192187",
     "exception": false,
     "start_time": "2023-12-12T20:58:32.165041",
     "status": "completed"
    },
    "tags": []
   },
   "source": [
    "# Load the stock market dataset"
   ]
  },
  {
   "cell_type": "code",
   "execution_count": 5,
   "id": "c87f2cc2",
   "metadata": {
    "execution": {
     "iopub.execute_input": "2023-12-12T20:58:32.248744Z",
     "iopub.status.busy": "2023-12-12T20:58:32.247967Z",
     "iopub.status.idle": "2023-12-12T20:58:32.273741Z",
     "shell.execute_reply": "2023-12-12T20:58:32.272709Z"
    },
    "papermill": {
     "duration": 0.057197,
     "end_time": "2023-12-12T20:58:32.276532",
     "exception": false,
     "start_time": "2023-12-12T20:58:32.219335",
     "status": "completed"
    },
    "tags": []
   },
   "outputs": [],
   "source": [
    "df = pd.read_csv(\"/kaggle/input/stock-market/NSE-TATAGLOBAL.csv\")"
   ]
  },
  {
   "cell_type": "markdown",
   "id": "d678d1c0",
   "metadata": {
    "papermill": {
     "duration": 0.026656,
     "end_time": "2023-12-12T20:58:32.330618",
     "exception": false,
     "start_time": "2023-12-12T20:58:32.303962",
     "status": "completed"
    },
    "tags": []
   },
   "source": [
    "# Explore the dataset"
   ]
  },
  {
   "cell_type": "code",
   "execution_count": 6,
   "id": "c38904b0",
   "metadata": {
    "execution": {
     "iopub.execute_input": "2023-12-12T20:58:32.386632Z",
     "iopub.status.busy": "2023-12-12T20:58:32.385901Z",
     "iopub.status.idle": "2023-12-12T20:58:32.418959Z",
     "shell.execute_reply": "2023-12-12T20:58:32.417786Z"
    },
    "papermill": {
     "duration": 0.064108,
     "end_time": "2023-12-12T20:58:32.421479",
     "exception": false,
     "start_time": "2023-12-12T20:58:32.357371",
     "status": "completed"
    },
    "tags": []
   },
   "outputs": [
    {
     "data": {
      "text/html": [
       "<div>\n",
       "<style scoped>\n",
       "    .dataframe tbody tr th:only-of-type {\n",
       "        vertical-align: middle;\n",
       "    }\n",
       "\n",
       "    .dataframe tbody tr th {\n",
       "        vertical-align: top;\n",
       "    }\n",
       "\n",
       "    .dataframe thead th {\n",
       "        text-align: right;\n",
       "    }\n",
       "</style>\n",
       "<table border=\"1\" class=\"dataframe\">\n",
       "  <thead>\n",
       "    <tr style=\"text-align: right;\">\n",
       "      <th></th>\n",
       "      <th>Date</th>\n",
       "      <th>Open</th>\n",
       "      <th>High</th>\n",
       "      <th>Low</th>\n",
       "      <th>Last</th>\n",
       "      <th>Close</th>\n",
       "      <th>Total Trade Quantity</th>\n",
       "      <th>Turnover (Lacs)</th>\n",
       "    </tr>\n",
       "  </thead>\n",
       "  <tbody>\n",
       "    <tr>\n",
       "      <th>0</th>\n",
       "      <td>2018-09-28</td>\n",
       "      <td>234.05</td>\n",
       "      <td>235.95</td>\n",
       "      <td>230.20</td>\n",
       "      <td>233.50</td>\n",
       "      <td>233.75</td>\n",
       "      <td>3069914</td>\n",
       "      <td>7162.35</td>\n",
       "    </tr>\n",
       "    <tr>\n",
       "      <th>1</th>\n",
       "      <td>2018-09-27</td>\n",
       "      <td>234.55</td>\n",
       "      <td>236.80</td>\n",
       "      <td>231.10</td>\n",
       "      <td>233.80</td>\n",
       "      <td>233.25</td>\n",
       "      <td>5082859</td>\n",
       "      <td>11859.95</td>\n",
       "    </tr>\n",
       "    <tr>\n",
       "      <th>2</th>\n",
       "      <td>2018-09-26</td>\n",
       "      <td>240.00</td>\n",
       "      <td>240.00</td>\n",
       "      <td>232.50</td>\n",
       "      <td>235.00</td>\n",
       "      <td>234.25</td>\n",
       "      <td>2240909</td>\n",
       "      <td>5248.60</td>\n",
       "    </tr>\n",
       "    <tr>\n",
       "      <th>3</th>\n",
       "      <td>2018-09-25</td>\n",
       "      <td>233.30</td>\n",
       "      <td>236.75</td>\n",
       "      <td>232.00</td>\n",
       "      <td>236.25</td>\n",
       "      <td>236.10</td>\n",
       "      <td>2349368</td>\n",
       "      <td>5503.90</td>\n",
       "    </tr>\n",
       "    <tr>\n",
       "      <th>4</th>\n",
       "      <td>2018-09-24</td>\n",
       "      <td>233.55</td>\n",
       "      <td>239.20</td>\n",
       "      <td>230.75</td>\n",
       "      <td>234.00</td>\n",
       "      <td>233.30</td>\n",
       "      <td>3423509</td>\n",
       "      <td>7999.55</td>\n",
       "    </tr>\n",
       "    <tr>\n",
       "      <th>...</th>\n",
       "      <td>...</td>\n",
       "      <td>...</td>\n",
       "      <td>...</td>\n",
       "      <td>...</td>\n",
       "      <td>...</td>\n",
       "      <td>...</td>\n",
       "      <td>...</td>\n",
       "      <td>...</td>\n",
       "    </tr>\n",
       "    <tr>\n",
       "      <th>2030</th>\n",
       "      <td>2010-07-27</td>\n",
       "      <td>117.60</td>\n",
       "      <td>119.50</td>\n",
       "      <td>112.00</td>\n",
       "      <td>118.80</td>\n",
       "      <td>118.65</td>\n",
       "      <td>586100</td>\n",
       "      <td>694.98</td>\n",
       "    </tr>\n",
       "    <tr>\n",
       "      <th>2031</th>\n",
       "      <td>2010-07-26</td>\n",
       "      <td>120.10</td>\n",
       "      <td>121.00</td>\n",
       "      <td>117.10</td>\n",
       "      <td>117.10</td>\n",
       "      <td>117.60</td>\n",
       "      <td>658440</td>\n",
       "      <td>780.01</td>\n",
       "    </tr>\n",
       "    <tr>\n",
       "      <th>2032</th>\n",
       "      <td>2010-07-23</td>\n",
       "      <td>121.80</td>\n",
       "      <td>121.95</td>\n",
       "      <td>120.25</td>\n",
       "      <td>120.35</td>\n",
       "      <td>120.65</td>\n",
       "      <td>281312</td>\n",
       "      <td>340.31</td>\n",
       "    </tr>\n",
       "    <tr>\n",
       "      <th>2033</th>\n",
       "      <td>2010-07-22</td>\n",
       "      <td>120.30</td>\n",
       "      <td>122.00</td>\n",
       "      <td>120.25</td>\n",
       "      <td>120.75</td>\n",
       "      <td>120.90</td>\n",
       "      <td>293312</td>\n",
       "      <td>355.17</td>\n",
       "    </tr>\n",
       "    <tr>\n",
       "      <th>2034</th>\n",
       "      <td>2010-07-21</td>\n",
       "      <td>122.10</td>\n",
       "      <td>123.00</td>\n",
       "      <td>121.05</td>\n",
       "      <td>121.10</td>\n",
       "      <td>121.55</td>\n",
       "      <td>658666</td>\n",
       "      <td>803.56</td>\n",
       "    </tr>\n",
       "  </tbody>\n",
       "</table>\n",
       "<p>2035 rows × 8 columns</p>\n",
       "</div>"
      ],
      "text/plain": [
       "            Date   Open   High    Low   Last  Close  Total Trade Quantity  \\\n",
       "0     2018-09-28 234.05 235.95 230.20 233.50 233.75               3069914   \n",
       "1     2018-09-27 234.55 236.80 231.10 233.80 233.25               5082859   \n",
       "2     2018-09-26 240.00 240.00 232.50 235.00 234.25               2240909   \n",
       "3     2018-09-25 233.30 236.75 232.00 236.25 236.10               2349368   \n",
       "4     2018-09-24 233.55 239.20 230.75 234.00 233.30               3423509   \n",
       "...          ...    ...    ...    ...    ...    ...                   ...   \n",
       "2030  2010-07-27 117.60 119.50 112.00 118.80 118.65                586100   \n",
       "2031  2010-07-26 120.10 121.00 117.10 117.10 117.60                658440   \n",
       "2032  2010-07-23 121.80 121.95 120.25 120.35 120.65                281312   \n",
       "2033  2010-07-22 120.30 122.00 120.25 120.75 120.90                293312   \n",
       "2034  2010-07-21 122.10 123.00 121.05 121.10 121.55                658666   \n",
       "\n",
       "      Turnover (Lacs)  \n",
       "0             7162.35  \n",
       "1            11859.95  \n",
       "2             5248.60  \n",
       "3             5503.90  \n",
       "4             7999.55  \n",
       "...               ...  \n",
       "2030           694.98  \n",
       "2031           780.01  \n",
       "2032           340.31  \n",
       "2033           355.17  \n",
       "2034           803.56  \n",
       "\n",
       "[2035 rows x 8 columns]"
      ]
     },
     "execution_count": 6,
     "metadata": {},
     "output_type": "execute_result"
    }
   ],
   "source": [
    "df"
   ]
  },
  {
   "cell_type": "code",
   "execution_count": 7,
   "id": "77ceb782",
   "metadata": {
    "execution": {
     "iopub.execute_input": "2023-12-12T20:58:32.478961Z",
     "iopub.status.busy": "2023-12-12T20:58:32.478259Z",
     "iopub.status.idle": "2023-12-12T20:58:32.491748Z",
     "shell.execute_reply": "2023-12-12T20:58:32.490565Z"
    },
    "papermill": {
     "duration": 0.045854,
     "end_time": "2023-12-12T20:58:32.494713",
     "exception": false,
     "start_time": "2023-12-12T20:58:32.448859",
     "status": "completed"
    },
    "tags": []
   },
   "outputs": [
    {
     "data": {
      "text/html": [
       "<div>\n",
       "<style scoped>\n",
       "    .dataframe tbody tr th:only-of-type {\n",
       "        vertical-align: middle;\n",
       "    }\n",
       "\n",
       "    .dataframe tbody tr th {\n",
       "        vertical-align: top;\n",
       "    }\n",
       "\n",
       "    .dataframe thead th {\n",
       "        text-align: right;\n",
       "    }\n",
       "</style>\n",
       "<table border=\"1\" class=\"dataframe\">\n",
       "  <thead>\n",
       "    <tr style=\"text-align: right;\">\n",
       "      <th></th>\n",
       "      <th>Date</th>\n",
       "      <th>Open</th>\n",
       "      <th>High</th>\n",
       "      <th>Low</th>\n",
       "      <th>Last</th>\n",
       "      <th>Close</th>\n",
       "      <th>Total Trade Quantity</th>\n",
       "      <th>Turnover (Lacs)</th>\n",
       "    </tr>\n",
       "  </thead>\n",
       "  <tbody>\n",
       "    <tr>\n",
       "      <th>0</th>\n",
       "      <td>2018-09-28</td>\n",
       "      <td>234.05</td>\n",
       "      <td>235.95</td>\n",
       "      <td>230.20</td>\n",
       "      <td>233.50</td>\n",
       "      <td>233.75</td>\n",
       "      <td>3069914</td>\n",
       "      <td>7162.35</td>\n",
       "    </tr>\n",
       "    <tr>\n",
       "      <th>1</th>\n",
       "      <td>2018-09-27</td>\n",
       "      <td>234.55</td>\n",
       "      <td>236.80</td>\n",
       "      <td>231.10</td>\n",
       "      <td>233.80</td>\n",
       "      <td>233.25</td>\n",
       "      <td>5082859</td>\n",
       "      <td>11859.95</td>\n",
       "    </tr>\n",
       "    <tr>\n",
       "      <th>2</th>\n",
       "      <td>2018-09-26</td>\n",
       "      <td>240.00</td>\n",
       "      <td>240.00</td>\n",
       "      <td>232.50</td>\n",
       "      <td>235.00</td>\n",
       "      <td>234.25</td>\n",
       "      <td>2240909</td>\n",
       "      <td>5248.60</td>\n",
       "    </tr>\n",
       "    <tr>\n",
       "      <th>3</th>\n",
       "      <td>2018-09-25</td>\n",
       "      <td>233.30</td>\n",
       "      <td>236.75</td>\n",
       "      <td>232.00</td>\n",
       "      <td>236.25</td>\n",
       "      <td>236.10</td>\n",
       "      <td>2349368</td>\n",
       "      <td>5503.90</td>\n",
       "    </tr>\n",
       "    <tr>\n",
       "      <th>4</th>\n",
       "      <td>2018-09-24</td>\n",
       "      <td>233.55</td>\n",
       "      <td>239.20</td>\n",
       "      <td>230.75</td>\n",
       "      <td>234.00</td>\n",
       "      <td>233.30</td>\n",
       "      <td>3423509</td>\n",
       "      <td>7999.55</td>\n",
       "    </tr>\n",
       "  </tbody>\n",
       "</table>\n",
       "</div>"
      ],
      "text/plain": [
       "         Date   Open   High    Low   Last  Close  Total Trade Quantity  \\\n",
       "0  2018-09-28 234.05 235.95 230.20 233.50 233.75               3069914   \n",
       "1  2018-09-27 234.55 236.80 231.10 233.80 233.25               5082859   \n",
       "2  2018-09-26 240.00 240.00 232.50 235.00 234.25               2240909   \n",
       "3  2018-09-25 233.30 236.75 232.00 236.25 236.10               2349368   \n",
       "4  2018-09-24 233.55 239.20 230.75 234.00 233.30               3423509   \n",
       "\n",
       "   Turnover (Lacs)  \n",
       "0          7162.35  \n",
       "1         11859.95  \n",
       "2          5248.60  \n",
       "3          5503.90  \n",
       "4          7999.55  "
      ]
     },
     "execution_count": 7,
     "metadata": {},
     "output_type": "execute_result"
    }
   ],
   "source": [
    "df.head()"
   ]
  },
  {
   "cell_type": "markdown",
   "id": "18295f28",
   "metadata": {
    "papermill": {
     "duration": 0.028908,
     "end_time": "2023-12-12T20:58:32.552915",
     "exception": false,
     "start_time": "2023-12-12T20:58:32.524007",
     "status": "completed"
    },
    "tags": []
   },
   "source": [
    "Display descriptive statistics of numerical columns"
   ]
  },
  {
   "cell_type": "code",
   "execution_count": 8,
   "id": "5c07c4da",
   "metadata": {
    "execution": {
     "iopub.execute_input": "2023-12-12T20:58:32.610463Z",
     "iopub.status.busy": "2023-12-12T20:58:32.610037Z",
     "iopub.status.idle": "2023-12-12T20:58:32.645035Z",
     "shell.execute_reply": "2023-12-12T20:58:32.644030Z"
    },
    "papermill": {
     "duration": 0.06655,
     "end_time": "2023-12-12T20:58:32.647442",
     "exception": false,
     "start_time": "2023-12-12T20:58:32.580892",
     "status": "completed"
    },
    "tags": []
   },
   "outputs": [
    {
     "data": {
      "text/html": [
       "<div>\n",
       "<style scoped>\n",
       "    .dataframe tbody tr th:only-of-type {\n",
       "        vertical-align: middle;\n",
       "    }\n",
       "\n",
       "    .dataframe tbody tr th {\n",
       "        vertical-align: top;\n",
       "    }\n",
       "\n",
       "    .dataframe thead th {\n",
       "        text-align: right;\n",
       "    }\n",
       "</style>\n",
       "<table border=\"1\" class=\"dataframe\">\n",
       "  <thead>\n",
       "    <tr style=\"text-align: right;\">\n",
       "      <th></th>\n",
       "      <th>Open</th>\n",
       "      <th>High</th>\n",
       "      <th>Low</th>\n",
       "      <th>Last</th>\n",
       "      <th>Close</th>\n",
       "      <th>Total Trade Quantity</th>\n",
       "      <th>Turnover (Lacs)</th>\n",
       "    </tr>\n",
       "  </thead>\n",
       "  <tbody>\n",
       "    <tr>\n",
       "      <th>count</th>\n",
       "      <td>2035.00</td>\n",
       "      <td>2035.00</td>\n",
       "      <td>2035.00</td>\n",
       "      <td>2035.00</td>\n",
       "      <td>2035.00</td>\n",
       "      <td>2035.00</td>\n",
       "      <td>2035.00</td>\n",
       "    </tr>\n",
       "    <tr>\n",
       "      <th>mean</th>\n",
       "      <td>149.71</td>\n",
       "      <td>151.99</td>\n",
       "      <td>147.29</td>\n",
       "      <td>149.47</td>\n",
       "      <td>149.45</td>\n",
       "      <td>2335681.40</td>\n",
       "      <td>3899.98</td>\n",
       "    </tr>\n",
       "    <tr>\n",
       "      <th>std</th>\n",
       "      <td>48.66</td>\n",
       "      <td>49.41</td>\n",
       "      <td>47.93</td>\n",
       "      <td>48.73</td>\n",
       "      <td>48.71</td>\n",
       "      <td>2091778.13</td>\n",
       "      <td>4570.77</td>\n",
       "    </tr>\n",
       "    <tr>\n",
       "      <th>min</th>\n",
       "      <td>81.10</td>\n",
       "      <td>82.80</td>\n",
       "      <td>80.00</td>\n",
       "      <td>81.00</td>\n",
       "      <td>80.95</td>\n",
       "      <td>39610.00</td>\n",
       "      <td>37.04</td>\n",
       "    </tr>\n",
       "    <tr>\n",
       "      <th>25%</th>\n",
       "      <td>120.03</td>\n",
       "      <td>122.10</td>\n",
       "      <td>118.30</td>\n",
       "      <td>120.07</td>\n",
       "      <td>120.05</td>\n",
       "      <td>1146444.50</td>\n",
       "      <td>1427.46</td>\n",
       "    </tr>\n",
       "    <tr>\n",
       "      <th>50%</th>\n",
       "      <td>141.50</td>\n",
       "      <td>143.40</td>\n",
       "      <td>139.60</td>\n",
       "      <td>141.10</td>\n",
       "      <td>141.25</td>\n",
       "      <td>1783456.00</td>\n",
       "      <td>2512.03</td>\n",
       "    </tr>\n",
       "    <tr>\n",
       "      <th>75%</th>\n",
       "      <td>157.18</td>\n",
       "      <td>159.40</td>\n",
       "      <td>155.15</td>\n",
       "      <td>156.93</td>\n",
       "      <td>156.90</td>\n",
       "      <td>2813594.00</td>\n",
       "      <td>4539.02</td>\n",
       "    </tr>\n",
       "    <tr>\n",
       "      <th>max</th>\n",
       "      <td>327.70</td>\n",
       "      <td>328.75</td>\n",
       "      <td>321.65</td>\n",
       "      <td>325.95</td>\n",
       "      <td>325.75</td>\n",
       "      <td>29191015.00</td>\n",
       "      <td>55755.08</td>\n",
       "    </tr>\n",
       "  </tbody>\n",
       "</table>\n",
       "</div>"
      ],
      "text/plain": [
       "         Open    High     Low    Last   Close  Total Trade Quantity  \\\n",
       "count 2035.00 2035.00 2035.00 2035.00 2035.00               2035.00   \n",
       "mean   149.71  151.99  147.29  149.47  149.45            2335681.40   \n",
       "std     48.66   49.41   47.93   48.73   48.71            2091778.13   \n",
       "min     81.10   82.80   80.00   81.00   80.95              39610.00   \n",
       "25%    120.03  122.10  118.30  120.07  120.05            1146444.50   \n",
       "50%    141.50  143.40  139.60  141.10  141.25            1783456.00   \n",
       "75%    157.18  159.40  155.15  156.93  156.90            2813594.00   \n",
       "max    327.70  328.75  321.65  325.95  325.75           29191015.00   \n",
       "\n",
       "       Turnover (Lacs)  \n",
       "count          2035.00  \n",
       "mean           3899.98  \n",
       "std            4570.77  \n",
       "min              37.04  \n",
       "25%            1427.46  \n",
       "50%            2512.03  \n",
       "75%            4539.02  \n",
       "max           55755.08  "
      ]
     },
     "execution_count": 8,
     "metadata": {},
     "output_type": "execute_result"
    }
   ],
   "source": [
    "df.describe()"
   ]
  },
  {
   "cell_type": "markdown",
   "id": "2f152f2f",
   "metadata": {
    "papermill": {
     "duration": 0.027474,
     "end_time": "2023-12-12T20:58:32.703185",
     "exception": false,
     "start_time": "2023-12-12T20:58:32.675711",
     "status": "completed"
    },
    "tags": []
   },
   "source": [
    "Display descriptive statistics of all columns, including categorical ones"
   ]
  },
  {
   "cell_type": "code",
   "execution_count": 9,
   "id": "8b38cdb3",
   "metadata": {
    "execution": {
     "iopub.execute_input": "2023-12-12T20:58:32.761020Z",
     "iopub.status.busy": "2023-12-12T20:58:32.760597Z",
     "iopub.status.idle": "2023-12-12T20:58:32.807057Z",
     "shell.execute_reply": "2023-12-12T20:58:32.805926Z"
    },
    "papermill": {
     "duration": 0.07867,
     "end_time": "2023-12-12T20:58:32.809719",
     "exception": false,
     "start_time": "2023-12-12T20:58:32.731049",
     "status": "completed"
    },
    "tags": []
   },
   "outputs": [
    {
     "data": {
      "text/html": [
       "<div>\n",
       "<style scoped>\n",
       "    .dataframe tbody tr th:only-of-type {\n",
       "        vertical-align: middle;\n",
       "    }\n",
       "\n",
       "    .dataframe tbody tr th {\n",
       "        vertical-align: top;\n",
       "    }\n",
       "\n",
       "    .dataframe thead th {\n",
       "        text-align: right;\n",
       "    }\n",
       "</style>\n",
       "<table border=\"1\" class=\"dataframe\">\n",
       "  <thead>\n",
       "    <tr style=\"text-align: right;\">\n",
       "      <th></th>\n",
       "      <th>Date</th>\n",
       "      <th>Open</th>\n",
       "      <th>High</th>\n",
       "      <th>Low</th>\n",
       "      <th>Last</th>\n",
       "      <th>Close</th>\n",
       "      <th>Total Trade Quantity</th>\n",
       "      <th>Turnover (Lacs)</th>\n",
       "    </tr>\n",
       "  </thead>\n",
       "  <tbody>\n",
       "    <tr>\n",
       "      <th>count</th>\n",
       "      <td>2035</td>\n",
       "      <td>2035.00</td>\n",
       "      <td>2035.00</td>\n",
       "      <td>2035.00</td>\n",
       "      <td>2035.00</td>\n",
       "      <td>2035.00</td>\n",
       "      <td>2035.00</td>\n",
       "      <td>2035.00</td>\n",
       "    </tr>\n",
       "    <tr>\n",
       "      <th>unique</th>\n",
       "      <td>2035</td>\n",
       "      <td>NaN</td>\n",
       "      <td>NaN</td>\n",
       "      <td>NaN</td>\n",
       "      <td>NaN</td>\n",
       "      <td>NaN</td>\n",
       "      <td>NaN</td>\n",
       "      <td>NaN</td>\n",
       "    </tr>\n",
       "    <tr>\n",
       "      <th>top</th>\n",
       "      <td>2018-09-28</td>\n",
       "      <td>NaN</td>\n",
       "      <td>NaN</td>\n",
       "      <td>NaN</td>\n",
       "      <td>NaN</td>\n",
       "      <td>NaN</td>\n",
       "      <td>NaN</td>\n",
       "      <td>NaN</td>\n",
       "    </tr>\n",
       "    <tr>\n",
       "      <th>freq</th>\n",
       "      <td>1</td>\n",
       "      <td>NaN</td>\n",
       "      <td>NaN</td>\n",
       "      <td>NaN</td>\n",
       "      <td>NaN</td>\n",
       "      <td>NaN</td>\n",
       "      <td>NaN</td>\n",
       "      <td>NaN</td>\n",
       "    </tr>\n",
       "    <tr>\n",
       "      <th>mean</th>\n",
       "      <td>NaN</td>\n",
       "      <td>149.71</td>\n",
       "      <td>151.99</td>\n",
       "      <td>147.29</td>\n",
       "      <td>149.47</td>\n",
       "      <td>149.45</td>\n",
       "      <td>2335681.40</td>\n",
       "      <td>3899.98</td>\n",
       "    </tr>\n",
       "    <tr>\n",
       "      <th>std</th>\n",
       "      <td>NaN</td>\n",
       "      <td>48.66</td>\n",
       "      <td>49.41</td>\n",
       "      <td>47.93</td>\n",
       "      <td>48.73</td>\n",
       "      <td>48.71</td>\n",
       "      <td>2091778.13</td>\n",
       "      <td>4570.77</td>\n",
       "    </tr>\n",
       "    <tr>\n",
       "      <th>min</th>\n",
       "      <td>NaN</td>\n",
       "      <td>81.10</td>\n",
       "      <td>82.80</td>\n",
       "      <td>80.00</td>\n",
       "      <td>81.00</td>\n",
       "      <td>80.95</td>\n",
       "      <td>39610.00</td>\n",
       "      <td>37.04</td>\n",
       "    </tr>\n",
       "    <tr>\n",
       "      <th>25%</th>\n",
       "      <td>NaN</td>\n",
       "      <td>120.03</td>\n",
       "      <td>122.10</td>\n",
       "      <td>118.30</td>\n",
       "      <td>120.07</td>\n",
       "      <td>120.05</td>\n",
       "      <td>1146444.50</td>\n",
       "      <td>1427.46</td>\n",
       "    </tr>\n",
       "    <tr>\n",
       "      <th>50%</th>\n",
       "      <td>NaN</td>\n",
       "      <td>141.50</td>\n",
       "      <td>143.40</td>\n",
       "      <td>139.60</td>\n",
       "      <td>141.10</td>\n",
       "      <td>141.25</td>\n",
       "      <td>1783456.00</td>\n",
       "      <td>2512.03</td>\n",
       "    </tr>\n",
       "    <tr>\n",
       "      <th>75%</th>\n",
       "      <td>NaN</td>\n",
       "      <td>157.18</td>\n",
       "      <td>159.40</td>\n",
       "      <td>155.15</td>\n",
       "      <td>156.93</td>\n",
       "      <td>156.90</td>\n",
       "      <td>2813594.00</td>\n",
       "      <td>4539.02</td>\n",
       "    </tr>\n",
       "    <tr>\n",
       "      <th>max</th>\n",
       "      <td>NaN</td>\n",
       "      <td>327.70</td>\n",
       "      <td>328.75</td>\n",
       "      <td>321.65</td>\n",
       "      <td>325.95</td>\n",
       "      <td>325.75</td>\n",
       "      <td>29191015.00</td>\n",
       "      <td>55755.08</td>\n",
       "    </tr>\n",
       "  </tbody>\n",
       "</table>\n",
       "</div>"
      ],
      "text/plain": [
       "              Date    Open    High     Low    Last   Close  \\\n",
       "count         2035 2035.00 2035.00 2035.00 2035.00 2035.00   \n",
       "unique        2035     NaN     NaN     NaN     NaN     NaN   \n",
       "top     2018-09-28     NaN     NaN     NaN     NaN     NaN   \n",
       "freq             1     NaN     NaN     NaN     NaN     NaN   \n",
       "mean           NaN  149.71  151.99  147.29  149.47  149.45   \n",
       "std            NaN   48.66   49.41   47.93   48.73   48.71   \n",
       "min            NaN   81.10   82.80   80.00   81.00   80.95   \n",
       "25%            NaN  120.03  122.10  118.30  120.07  120.05   \n",
       "50%            NaN  141.50  143.40  139.60  141.10  141.25   \n",
       "75%            NaN  157.18  159.40  155.15  156.93  156.90   \n",
       "max            NaN  327.70  328.75  321.65  325.95  325.75   \n",
       "\n",
       "        Total Trade Quantity  Turnover (Lacs)  \n",
       "count                2035.00          2035.00  \n",
       "unique                   NaN              NaN  \n",
       "top                      NaN              NaN  \n",
       "freq                     NaN              NaN  \n",
       "mean              2335681.40          3899.98  \n",
       "std               2091778.13          4570.77  \n",
       "min                 39610.00            37.04  \n",
       "25%               1146444.50          1427.46  \n",
       "50%               1783456.00          2512.03  \n",
       "75%               2813594.00          4539.02  \n",
       "max              29191015.00         55755.08  "
      ]
     },
     "execution_count": 9,
     "metadata": {},
     "output_type": "execute_result"
    }
   ],
   "source": [
    "df.describe(include='all')"
   ]
  },
  {
   "cell_type": "markdown",
   "id": "578e5808",
   "metadata": {
    "papermill": {
     "duration": 0.028111,
     "end_time": "2023-12-12T20:58:32.866025",
     "exception": false,
     "start_time": "2023-12-12T20:58:32.837914",
     "status": "completed"
    },
    "tags": []
   },
   "source": [
    "Display information about the DataFrame"
   ]
  },
  {
   "cell_type": "code",
   "execution_count": 10,
   "id": "52dc6359",
   "metadata": {
    "execution": {
     "iopub.execute_input": "2023-12-12T20:58:32.925601Z",
     "iopub.status.busy": "2023-12-12T20:58:32.924781Z",
     "iopub.status.idle": "2023-12-12T20:58:32.948456Z",
     "shell.execute_reply": "2023-12-12T20:58:32.947636Z"
    },
    "papermill": {
     "duration": 0.056203,
     "end_time": "2023-12-12T20:58:32.951151",
     "exception": false,
     "start_time": "2023-12-12T20:58:32.894948",
     "status": "completed"
    },
    "tags": []
   },
   "outputs": [
    {
     "name": "stdout",
     "output_type": "stream",
     "text": [
      "<class 'pandas.core.frame.DataFrame'>\n",
      "RangeIndex: 2035 entries, 0 to 2034\n",
      "Data columns (total 8 columns):\n",
      " #   Column                Non-Null Count  Dtype  \n",
      "---  ------                --------------  -----  \n",
      " 0   Date                  2035 non-null   object \n",
      " 1   Open                  2035 non-null   float64\n",
      " 2   High                  2035 non-null   float64\n",
      " 3   Low                   2035 non-null   float64\n",
      " 4   Last                  2035 non-null   float64\n",
      " 5   Close                 2035 non-null   float64\n",
      " 6   Total Trade Quantity  2035 non-null   int64  \n",
      " 7   Turnover (Lacs)       2035 non-null   float64\n",
      "dtypes: float64(6), int64(1), object(1)\n",
      "memory usage: 127.3+ KB\n"
     ]
    }
   ],
   "source": [
    "df.info()"
   ]
  },
  {
   "cell_type": "code",
   "execution_count": 11,
   "id": "1ef3b862",
   "metadata": {
    "execution": {
     "iopub.execute_input": "2023-12-12T20:58:33.011728Z",
     "iopub.status.busy": "2023-12-12T20:58:33.010976Z",
     "iopub.status.idle": "2023-12-12T20:58:33.017516Z",
     "shell.execute_reply": "2023-12-12T20:58:33.016463Z"
    },
    "papermill": {
     "duration": 0.039878,
     "end_time": "2023-12-12T20:58:33.020088",
     "exception": false,
     "start_time": "2023-12-12T20:58:32.980210",
     "status": "completed"
    },
    "tags": []
   },
   "outputs": [
    {
     "data": {
      "text/plain": [
       "(2035, 8)"
      ]
     },
     "execution_count": 11,
     "metadata": {},
     "output_type": "execute_result"
    }
   ],
   "source": [
    "df.shape"
   ]
  },
  {
   "cell_type": "code",
   "execution_count": 12,
   "id": "7d375aa0",
   "metadata": {
    "execution": {
     "iopub.execute_input": "2023-12-12T20:58:33.079513Z",
     "iopub.status.busy": "2023-12-12T20:58:33.078782Z",
     "iopub.status.idle": "2023-12-12T20:58:33.091177Z",
     "shell.execute_reply": "2023-12-12T20:58:33.089901Z"
    },
    "papermill": {
     "duration": 0.045311,
     "end_time": "2023-12-12T20:58:33.094133",
     "exception": false,
     "start_time": "2023-12-12T20:58:33.048822",
     "status": "completed"
    },
    "tags": []
   },
   "outputs": [],
   "source": [
    "df.Date = pd.to_datetime(df.Date)"
   ]
  },
  {
   "cell_type": "code",
   "execution_count": 13,
   "id": "a76ed34e",
   "metadata": {
    "execution": {
     "iopub.execute_input": "2023-12-12T20:58:33.156384Z",
     "iopub.status.busy": "2023-12-12T20:58:33.155964Z",
     "iopub.status.idle": "2023-12-12T20:58:33.193648Z",
     "shell.execute_reply": "2023-12-12T20:58:33.192458Z"
    },
    "papermill": {
     "duration": 0.071179,
     "end_time": "2023-12-12T20:58:33.196268",
     "exception": false,
     "start_time": "2023-12-12T20:58:33.125089",
     "status": "completed"
    },
    "tags": []
   },
   "outputs": [
    {
     "data": {
      "text/html": [
       "<div>\n",
       "<style scoped>\n",
       "    .dataframe tbody tr th:only-of-type {\n",
       "        vertical-align: middle;\n",
       "    }\n",
       "\n",
       "    .dataframe tbody tr th {\n",
       "        vertical-align: top;\n",
       "    }\n",
       "\n",
       "    .dataframe thead th {\n",
       "        text-align: right;\n",
       "    }\n",
       "</style>\n",
       "<table border=\"1\" class=\"dataframe\">\n",
       "  <thead>\n",
       "    <tr style=\"text-align: right;\">\n",
       "      <th></th>\n",
       "      <th>Date</th>\n",
       "      <th>Open</th>\n",
       "      <th>High</th>\n",
       "      <th>Low</th>\n",
       "      <th>Last</th>\n",
       "      <th>Close</th>\n",
       "      <th>Total Trade Quantity</th>\n",
       "      <th>Turnover (Lacs)</th>\n",
       "    </tr>\n",
       "  </thead>\n",
       "  <tbody>\n",
       "    <tr>\n",
       "      <th>count</th>\n",
       "      <td>2035</td>\n",
       "      <td>2035.00</td>\n",
       "      <td>2035.00</td>\n",
       "      <td>2035.00</td>\n",
       "      <td>2035.00</td>\n",
       "      <td>2035.00</td>\n",
       "      <td>2035.00</td>\n",
       "      <td>2035.00</td>\n",
       "    </tr>\n",
       "    <tr>\n",
       "      <th>mean</th>\n",
       "      <td>2014-08-20 14:43:06.339066112</td>\n",
       "      <td>149.71</td>\n",
       "      <td>151.99</td>\n",
       "      <td>147.29</td>\n",
       "      <td>149.47</td>\n",
       "      <td>149.45</td>\n",
       "      <td>2335681.40</td>\n",
       "      <td>3899.98</td>\n",
       "    </tr>\n",
       "    <tr>\n",
       "      <th>min</th>\n",
       "      <td>2010-07-21 00:00:00</td>\n",
       "      <td>81.10</td>\n",
       "      <td>82.80</td>\n",
       "      <td>80.00</td>\n",
       "      <td>81.00</td>\n",
       "      <td>80.95</td>\n",
       "      <td>39610.00</td>\n",
       "      <td>37.04</td>\n",
       "    </tr>\n",
       "    <tr>\n",
       "      <th>25%</th>\n",
       "      <td>2012-07-28 12:00:00</td>\n",
       "      <td>120.03</td>\n",
       "      <td>122.10</td>\n",
       "      <td>118.30</td>\n",
       "      <td>120.07</td>\n",
       "      <td>120.05</td>\n",
       "      <td>1146444.50</td>\n",
       "      <td>1427.46</td>\n",
       "    </tr>\n",
       "    <tr>\n",
       "      <th>50%</th>\n",
       "      <td>2014-08-14 00:00:00</td>\n",
       "      <td>141.50</td>\n",
       "      <td>143.40</td>\n",
       "      <td>139.60</td>\n",
       "      <td>141.10</td>\n",
       "      <td>141.25</td>\n",
       "      <td>1783456.00</td>\n",
       "      <td>2512.03</td>\n",
       "    </tr>\n",
       "    <tr>\n",
       "      <th>75%</th>\n",
       "      <td>2016-09-10 12:00:00</td>\n",
       "      <td>157.18</td>\n",
       "      <td>159.40</td>\n",
       "      <td>155.15</td>\n",
       "      <td>156.93</td>\n",
       "      <td>156.90</td>\n",
       "      <td>2813594.00</td>\n",
       "      <td>4539.02</td>\n",
       "    </tr>\n",
       "    <tr>\n",
       "      <th>max</th>\n",
       "      <td>2018-09-28 00:00:00</td>\n",
       "      <td>327.70</td>\n",
       "      <td>328.75</td>\n",
       "      <td>321.65</td>\n",
       "      <td>325.95</td>\n",
       "      <td>325.75</td>\n",
       "      <td>29191015.00</td>\n",
       "      <td>55755.08</td>\n",
       "    </tr>\n",
       "    <tr>\n",
       "      <th>std</th>\n",
       "      <td>NaN</td>\n",
       "      <td>48.66</td>\n",
       "      <td>49.41</td>\n",
       "      <td>47.93</td>\n",
       "      <td>48.73</td>\n",
       "      <td>48.71</td>\n",
       "      <td>2091778.13</td>\n",
       "      <td>4570.77</td>\n",
       "    </tr>\n",
       "  </tbody>\n",
       "</table>\n",
       "</div>"
      ],
      "text/plain": [
       "                                Date    Open    High     Low    Last   Close  \\\n",
       "count                           2035 2035.00 2035.00 2035.00 2035.00 2035.00   \n",
       "mean   2014-08-20 14:43:06.339066112  149.71  151.99  147.29  149.47  149.45   \n",
       "min              2010-07-21 00:00:00   81.10   82.80   80.00   81.00   80.95   \n",
       "25%              2012-07-28 12:00:00  120.03  122.10  118.30  120.07  120.05   \n",
       "50%              2014-08-14 00:00:00  141.50  143.40  139.60  141.10  141.25   \n",
       "75%              2016-09-10 12:00:00  157.18  159.40  155.15  156.93  156.90   \n",
       "max              2018-09-28 00:00:00  327.70  328.75  321.65  325.95  325.75   \n",
       "std                              NaN   48.66   49.41   47.93   48.73   48.71   \n",
       "\n",
       "       Total Trade Quantity  Turnover (Lacs)  \n",
       "count               2035.00          2035.00  \n",
       "mean             2335681.40          3899.98  \n",
       "min                39610.00            37.04  \n",
       "25%              1146444.50          1427.46  \n",
       "50%              1783456.00          2512.03  \n",
       "75%              2813594.00          4539.02  \n",
       "max             29191015.00         55755.08  \n",
       "std              2091778.13          4570.77  "
      ]
     },
     "execution_count": 13,
     "metadata": {},
     "output_type": "execute_result"
    }
   ],
   "source": [
    "df.describe()"
   ]
  },
  {
   "cell_type": "markdown",
   "id": "88a9f41c",
   "metadata": {
    "papermill": {
     "duration": 0.028677,
     "end_time": "2023-12-12T20:58:33.255156",
     "exception": false,
     "start_time": "2023-12-12T20:58:33.226479",
     "status": "completed"
    },
    "tags": []
   },
   "source": [
    "We have some information missing in the dataset. Let's look into it and figure out how to fill in the gaps"
   ]
  },
  {
   "cell_type": "code",
   "execution_count": 14,
   "id": "f497ea25",
   "metadata": {
    "execution": {
     "iopub.execute_input": "2023-12-12T20:58:33.315256Z",
     "iopub.status.busy": "2023-12-12T20:58:33.314828Z",
     "iopub.status.idle": "2023-12-12T20:58:33.324853Z",
     "shell.execute_reply": "2023-12-12T20:58:33.323667Z"
    },
    "papermill": {
     "duration": 0.0432,
     "end_time": "2023-12-12T20:58:33.327238",
     "exception": false,
     "start_time": "2023-12-12T20:58:33.284038",
     "status": "completed"
    },
    "tags": []
   },
   "outputs": [
    {
     "data": {
      "text/plain": [
       "Date                    0\n",
       "Open                    0\n",
       "High                    0\n",
       "Low                     0\n",
       "Last                    0\n",
       "Close                   0\n",
       "Total Trade Quantity    0\n",
       "Turnover (Lacs)         0\n",
       "dtype: int64"
      ]
     },
     "execution_count": 14,
     "metadata": {},
     "output_type": "execute_result"
    }
   ],
   "source": [
    "df.isnull().sum()"
   ]
  },
  {
   "cell_type": "markdown",
   "id": "b37c6371",
   "metadata": {
    "papermill": {
     "duration": 0.028892,
     "end_time": "2023-12-12T20:58:33.385691",
     "exception": false,
     "start_time": "2023-12-12T20:58:33.356799",
     "status": "completed"
    },
    "tags": []
   },
   "source": [
    "The 'Open' column has the most missing values. Let's identify the rows where these values are not present"
   ]
  },
  {
   "cell_type": "code",
   "execution_count": 15,
   "id": "c479ef6a",
   "metadata": {
    "execution": {
     "iopub.execute_input": "2023-12-12T20:58:33.447209Z",
     "iopub.status.busy": "2023-12-12T20:58:33.446754Z",
     "iopub.status.idle": "2023-12-12T20:58:33.459668Z",
     "shell.execute_reply": "2023-12-12T20:58:33.458391Z"
    },
    "papermill": {
     "duration": 0.046595,
     "end_time": "2023-12-12T20:58:33.462209",
     "exception": false,
     "start_time": "2023-12-12T20:58:33.415614",
     "status": "completed"
    },
    "tags": []
   },
   "outputs": [
    {
     "data": {
      "text/html": [
       "<div>\n",
       "<style scoped>\n",
       "    .dataframe tbody tr th:only-of-type {\n",
       "        vertical-align: middle;\n",
       "    }\n",
       "\n",
       "    .dataframe tbody tr th {\n",
       "        vertical-align: top;\n",
       "    }\n",
       "\n",
       "    .dataframe thead th {\n",
       "        text-align: right;\n",
       "    }\n",
       "</style>\n",
       "<table border=\"1\" class=\"dataframe\">\n",
       "  <thead>\n",
       "    <tr style=\"text-align: right;\">\n",
       "      <th></th>\n",
       "      <th>Date</th>\n",
       "      <th>Open</th>\n",
       "      <th>High</th>\n",
       "      <th>Low</th>\n",
       "      <th>Last</th>\n",
       "      <th>Close</th>\n",
       "      <th>Total Trade Quantity</th>\n",
       "      <th>Turnover (Lacs)</th>\n",
       "    </tr>\n",
       "  </thead>\n",
       "  <tbody>\n",
       "  </tbody>\n",
       "</table>\n",
       "</div>"
      ],
      "text/plain": [
       "Empty DataFrame\n",
       "Columns: [Date, Open, High, Low, Last, Close, Total Trade Quantity, Turnover (Lacs)]\n",
       "Index: []"
      ]
     },
     "execution_count": 15,
     "metadata": {},
     "output_type": "execute_result"
    }
   ],
   "source": [
    "df[df.Open.isnull()]"
   ]
  },
  {
   "cell_type": "code",
   "execution_count": 16,
   "id": "bdb62986",
   "metadata": {
    "execution": {
     "iopub.execute_input": "2023-12-12T20:58:33.525938Z",
     "iopub.status.busy": "2023-12-12T20:58:33.525516Z",
     "iopub.status.idle": "2023-12-12T20:58:33.531418Z",
     "shell.execute_reply": "2023-12-12T20:58:33.530115Z"
    },
    "papermill": {
     "duration": 0.041104,
     "end_time": "2023-12-12T20:58:33.533954",
     "exception": false,
     "start_time": "2023-12-12T20:58:33.492850",
     "status": "completed"
    },
    "tags": []
   },
   "outputs": [
    {
     "name": "stdout",
     "output_type": "stream",
     "text": [
      "Index(['Date', 'Open', 'High', 'Low', 'Last', 'Close', 'Total Trade Quantity',\n",
      "       'Turnover (Lacs)'],\n",
      "      dtype='object')\n"
     ]
    }
   ],
   "source": [
    "print(df.columns)"
   ]
  },
  {
   "cell_type": "code",
   "execution_count": 17,
   "id": "3ef7a3a8",
   "metadata": {
    "execution": {
     "iopub.execute_input": "2023-12-12T20:58:33.595257Z",
     "iopub.status.busy": "2023-12-12T20:58:33.594867Z",
     "iopub.status.idle": "2023-12-12T20:58:33.604030Z",
     "shell.execute_reply": "2023-12-12T20:58:33.602845Z"
    },
    "papermill": {
     "duration": 0.042956,
     "end_time": "2023-12-12T20:58:33.606604",
     "exception": false,
     "start_time": "2023-12-12T20:58:33.563648",
     "status": "completed"
    },
    "tags": []
   },
   "outputs": [],
   "source": [
    "df[\"Date\"] = pd.to_datetime(df[\"Date\"])"
   ]
  },
  {
   "cell_type": "code",
   "execution_count": 18,
   "id": "81d93dd4",
   "metadata": {
    "execution": {
     "iopub.execute_input": "2023-12-12T20:58:33.669957Z",
     "iopub.status.busy": "2023-12-12T20:58:33.669554Z",
     "iopub.status.idle": "2023-12-12T20:58:33.678785Z",
     "shell.execute_reply": "2023-12-12T20:58:33.677479Z"
    },
    "papermill": {
     "duration": 0.043915,
     "end_time": "2023-12-12T20:58:33.681181",
     "exception": false,
     "start_time": "2023-12-12T20:58:33.637266",
     "status": "completed"
    },
    "tags": []
   },
   "outputs": [],
   "source": [
    "df[\"Date\"] = pd.to_datetime(df[\"Date\"], format=\"%Y-%m-%d\")"
   ]
  },
  {
   "cell_type": "markdown",
   "id": "c5fbd929",
   "metadata": {
    "papermill": {
     "duration": 0.029607,
     "end_time": "2023-12-12T20:58:33.740137",
     "exception": false,
     "start_time": "2023-12-12T20:58:33.710530",
     "status": "completed"
    },
    "tags": []
   },
   "source": [
    "df=df[::-1#].reset_index().drop(columns=[\"index\"])"
   ]
  },
  {
   "cell_type": "code",
   "execution_count": 19,
   "id": "a6740670",
   "metadata": {
    "execution": {
     "iopub.execute_input": "2023-12-12T20:58:33.802454Z",
     "iopub.status.busy": "2023-12-12T20:58:33.802017Z",
     "iopub.status.idle": "2023-12-12T20:58:33.825240Z",
     "shell.execute_reply": "2023-12-12T20:58:33.823621Z"
    },
    "papermill": {
     "duration": 0.057426,
     "end_time": "2023-12-12T20:58:33.827972",
     "exception": false,
     "start_time": "2023-12-12T20:58:33.770546",
     "status": "completed"
    },
    "tags": []
   },
   "outputs": [
    {
     "data": {
      "text/html": [
       "<div>\n",
       "<style scoped>\n",
       "    .dataframe tbody tr th:only-of-type {\n",
       "        vertical-align: middle;\n",
       "    }\n",
       "\n",
       "    .dataframe tbody tr th {\n",
       "        vertical-align: top;\n",
       "    }\n",
       "\n",
       "    .dataframe thead th {\n",
       "        text-align: right;\n",
       "    }\n",
       "</style>\n",
       "<table border=\"1\" class=\"dataframe\">\n",
       "  <thead>\n",
       "    <tr style=\"text-align: right;\">\n",
       "      <th></th>\n",
       "      <th>Date</th>\n",
       "      <th>Open</th>\n",
       "      <th>High</th>\n",
       "      <th>Low</th>\n",
       "      <th>Last</th>\n",
       "      <th>Close</th>\n",
       "      <th>Total Trade Quantity</th>\n",
       "      <th>Turnover (Lacs)</th>\n",
       "    </tr>\n",
       "  </thead>\n",
       "  <tbody>\n",
       "    <tr>\n",
       "      <th>0</th>\n",
       "      <td>2018-09-28</td>\n",
       "      <td>234.05</td>\n",
       "      <td>235.95</td>\n",
       "      <td>230.20</td>\n",
       "      <td>233.50</td>\n",
       "      <td>233.75</td>\n",
       "      <td>3069914</td>\n",
       "      <td>7162.35</td>\n",
       "    </tr>\n",
       "    <tr>\n",
       "      <th>1</th>\n",
       "      <td>2018-09-27</td>\n",
       "      <td>234.55</td>\n",
       "      <td>236.80</td>\n",
       "      <td>231.10</td>\n",
       "      <td>233.80</td>\n",
       "      <td>233.25</td>\n",
       "      <td>5082859</td>\n",
       "      <td>11859.95</td>\n",
       "    </tr>\n",
       "    <tr>\n",
       "      <th>2</th>\n",
       "      <td>2018-09-26</td>\n",
       "      <td>240.00</td>\n",
       "      <td>240.00</td>\n",
       "      <td>232.50</td>\n",
       "      <td>235.00</td>\n",
       "      <td>234.25</td>\n",
       "      <td>2240909</td>\n",
       "      <td>5248.60</td>\n",
       "    </tr>\n",
       "    <tr>\n",
       "      <th>3</th>\n",
       "      <td>2018-09-25</td>\n",
       "      <td>233.30</td>\n",
       "      <td>236.75</td>\n",
       "      <td>232.00</td>\n",
       "      <td>236.25</td>\n",
       "      <td>236.10</td>\n",
       "      <td>2349368</td>\n",
       "      <td>5503.90</td>\n",
       "    </tr>\n",
       "    <tr>\n",
       "      <th>4</th>\n",
       "      <td>2018-09-24</td>\n",
       "      <td>233.55</td>\n",
       "      <td>239.20</td>\n",
       "      <td>230.75</td>\n",
       "      <td>234.00</td>\n",
       "      <td>233.30</td>\n",
       "      <td>3423509</td>\n",
       "      <td>7999.55</td>\n",
       "    </tr>\n",
       "    <tr>\n",
       "      <th>...</th>\n",
       "      <td>...</td>\n",
       "      <td>...</td>\n",
       "      <td>...</td>\n",
       "      <td>...</td>\n",
       "      <td>...</td>\n",
       "      <td>...</td>\n",
       "      <td>...</td>\n",
       "      <td>...</td>\n",
       "    </tr>\n",
       "    <tr>\n",
       "      <th>2030</th>\n",
       "      <td>2010-07-27</td>\n",
       "      <td>117.60</td>\n",
       "      <td>119.50</td>\n",
       "      <td>112.00</td>\n",
       "      <td>118.80</td>\n",
       "      <td>118.65</td>\n",
       "      <td>586100</td>\n",
       "      <td>694.98</td>\n",
       "    </tr>\n",
       "    <tr>\n",
       "      <th>2031</th>\n",
       "      <td>2010-07-26</td>\n",
       "      <td>120.10</td>\n",
       "      <td>121.00</td>\n",
       "      <td>117.10</td>\n",
       "      <td>117.10</td>\n",
       "      <td>117.60</td>\n",
       "      <td>658440</td>\n",
       "      <td>780.01</td>\n",
       "    </tr>\n",
       "    <tr>\n",
       "      <th>2032</th>\n",
       "      <td>2010-07-23</td>\n",
       "      <td>121.80</td>\n",
       "      <td>121.95</td>\n",
       "      <td>120.25</td>\n",
       "      <td>120.35</td>\n",
       "      <td>120.65</td>\n",
       "      <td>281312</td>\n",
       "      <td>340.31</td>\n",
       "    </tr>\n",
       "    <tr>\n",
       "      <th>2033</th>\n",
       "      <td>2010-07-22</td>\n",
       "      <td>120.30</td>\n",
       "      <td>122.00</td>\n",
       "      <td>120.25</td>\n",
       "      <td>120.75</td>\n",
       "      <td>120.90</td>\n",
       "      <td>293312</td>\n",
       "      <td>355.17</td>\n",
       "    </tr>\n",
       "    <tr>\n",
       "      <th>2034</th>\n",
       "      <td>2010-07-21</td>\n",
       "      <td>122.10</td>\n",
       "      <td>123.00</td>\n",
       "      <td>121.05</td>\n",
       "      <td>121.10</td>\n",
       "      <td>121.55</td>\n",
       "      <td>658666</td>\n",
       "      <td>803.56</td>\n",
       "    </tr>\n",
       "  </tbody>\n",
       "</table>\n",
       "<p>2035 rows × 8 columns</p>\n",
       "</div>"
      ],
      "text/plain": [
       "           Date   Open   High    Low   Last  Close  Total Trade Quantity  \\\n",
       "0    2018-09-28 234.05 235.95 230.20 233.50 233.75               3069914   \n",
       "1    2018-09-27 234.55 236.80 231.10 233.80 233.25               5082859   \n",
       "2    2018-09-26 240.00 240.00 232.50 235.00 234.25               2240909   \n",
       "3    2018-09-25 233.30 236.75 232.00 236.25 236.10               2349368   \n",
       "4    2018-09-24 233.55 239.20 230.75 234.00 233.30               3423509   \n",
       "...         ...    ...    ...    ...    ...    ...                   ...   \n",
       "2030 2010-07-27 117.60 119.50 112.00 118.80 118.65                586100   \n",
       "2031 2010-07-26 120.10 121.00 117.10 117.10 117.60                658440   \n",
       "2032 2010-07-23 121.80 121.95 120.25 120.35 120.65                281312   \n",
       "2033 2010-07-22 120.30 122.00 120.25 120.75 120.90                293312   \n",
       "2034 2010-07-21 122.10 123.00 121.05 121.10 121.55                658666   \n",
       "\n",
       "      Turnover (Lacs)  \n",
       "0             7162.35  \n",
       "1            11859.95  \n",
       "2             5248.60  \n",
       "3             5503.90  \n",
       "4             7999.55  \n",
       "...               ...  \n",
       "2030           694.98  \n",
       "2031           780.01  \n",
       "2032           340.31  \n",
       "2033           355.17  \n",
       "2034           803.56  \n",
       "\n",
       "[2035 rows x 8 columns]"
      ]
     },
     "execution_count": 19,
     "metadata": {},
     "output_type": "execute_result"
    }
   ],
   "source": [
    "df[\"Date\"]=pd.to_datetime(df[\"Date\"],unit=\"s\")\n",
    "df"
   ]
  },
  {
   "cell_type": "code",
   "execution_count": 20,
   "id": "348c8005",
   "metadata": {
    "execution": {
     "iopub.execute_input": "2023-12-12T20:58:33.890925Z",
     "iopub.status.busy": "2023-12-12T20:58:33.890485Z",
     "iopub.status.idle": "2023-12-12T20:58:33.900473Z",
     "shell.execute_reply": "2023-12-12T20:58:33.899249Z"
    },
    "papermill": {
     "duration": 0.045026,
     "end_time": "2023-12-12T20:58:33.903345",
     "exception": false,
     "start_time": "2023-12-12T20:58:33.858319",
     "status": "completed"
    },
    "tags": []
   },
   "outputs": [],
   "source": [
    "df1=df.reset_index()['Close']\n",
    "df11=pd.to_datetime(df[\"Date\"])"
   ]
  },
  {
   "cell_type": "code",
   "execution_count": 21,
   "id": "7b738531",
   "metadata": {
    "execution": {
     "iopub.execute_input": "2023-12-12T20:58:33.967796Z",
     "iopub.status.busy": "2023-12-12T20:58:33.967365Z",
     "iopub.status.idle": "2023-12-12T20:58:33.976568Z",
     "shell.execute_reply": "2023-12-12T20:58:33.975428Z"
    },
    "papermill": {
     "duration": 0.045068,
     "end_time": "2023-12-12T20:58:33.979005",
     "exception": false,
     "start_time": "2023-12-12T20:58:33.933937",
     "status": "completed"
    },
    "tags": []
   },
   "outputs": [
    {
     "data": {
      "text/plain": [
       "0      2018-09-28\n",
       "1      2018-09-27\n",
       "2      2018-09-26\n",
       "3      2018-09-25\n",
       "4      2018-09-24\n",
       "          ...    \n",
       "2030   2010-07-27\n",
       "2031   2010-07-26\n",
       "2032   2010-07-23\n",
       "2033   2010-07-22\n",
       "2034   2010-07-21\n",
       "Name: Date, Length: 2035, dtype: datetime64[ns]"
      ]
     },
     "execution_count": 21,
     "metadata": {},
     "output_type": "execute_result"
    }
   ],
   "source": [
    "df11"
   ]
  },
  {
   "cell_type": "markdown",
   "id": "fbd70707",
   "metadata": {
    "papermill": {
     "duration": 0.030004,
     "end_time": "2023-12-12T20:58:34.039532",
     "exception": false,
     "start_time": "2023-12-12T20:58:34.009528",
     "status": "completed"
    },
    "tags": []
   },
   "source": [
    "It seems like you are assigning the variable dgp to the DataFrame df1 in a programming context. If you intend to display the contents of the DataFrame dgp"
   ]
  },
  {
   "cell_type": "code",
   "execution_count": 22,
   "id": "50f08f49",
   "metadata": {
    "execution": {
     "iopub.execute_input": "2023-12-12T20:58:34.102102Z",
     "iopub.status.busy": "2023-12-12T20:58:34.101697Z",
     "iopub.status.idle": "2023-12-12T20:58:34.110283Z",
     "shell.execute_reply": "2023-12-12T20:58:34.109153Z"
    },
    "papermill": {
     "duration": 0.04293,
     "end_time": "2023-12-12T20:58:34.112932",
     "exception": false,
     "start_time": "2023-12-12T20:58:34.070002",
     "status": "completed"
    },
    "tags": []
   },
   "outputs": [
    {
     "data": {
      "text/plain": [
       "0      233.75\n",
       "1      233.25\n",
       "2      234.25\n",
       "3      236.10\n",
       "4      233.30\n",
       "        ...  \n",
       "2030   118.65\n",
       "2031   117.60\n",
       "2032   120.65\n",
       "2033   120.90\n",
       "2034   121.55\n",
       "Name: Close, Length: 2035, dtype: float64"
      ]
     },
     "execution_count": 22,
     "metadata": {},
     "output_type": "execute_result"
    }
   ],
   "source": [
    "dgp=df1\n",
    "\n",
    "dgp"
   ]
  },
  {
   "cell_type": "code",
   "execution_count": 23,
   "id": "cd2d19d5",
   "metadata": {
    "execution": {
     "iopub.execute_input": "2023-12-12T20:58:34.176259Z",
     "iopub.status.busy": "2023-12-12T20:58:34.175869Z",
     "iopub.status.idle": "2023-12-12T20:58:34.714745Z",
     "shell.execute_reply": "2023-12-12T20:58:34.713475Z"
    },
    "papermill": {
     "duration": 0.573639,
     "end_time": "2023-12-12T20:58:34.717292",
     "exception": false,
     "start_time": "2023-12-12T20:58:34.143653",
     "status": "completed"
    },
    "tags": []
   },
   "outputs": [
    {
     "data": {
      "text/html": [
       "        <script type=\"text/javascript\">\n",
       "        window.PlotlyConfig = {MathJaxConfig: 'local'};\n",
       "        if (window.MathJax && window.MathJax.Hub && window.MathJax.Hub.Config) {window.MathJax.Hub.Config({SVG: {font: \"STIX-Web\"}});}\n",
       "        if (typeof require !== 'undefined') {\n",
       "        require.undef(\"plotly\");\n",
       "        requirejs.config({\n",
       "            paths: {\n",
       "                'plotly': ['https://cdn.plot.ly/plotly-2.25.2.min']\n",
       "            }\n",
       "        });\n",
       "        require(['plotly'], function(Plotly) {\n",
       "            window._Plotly = Plotly;\n",
       "        });\n",
       "        }\n",
       "        </script>\n",
       "        "
      ]
     },
     "metadata": {},
     "output_type": "display_data"
    },
    {
     "data": {
      "text/html": [
       "<div>                            <div id=\"a55d11ca-a650-465b-b425-6b2e5e42275d\" class=\"plotly-graph-div\" style=\"height:525px; width:100%;\"></div>            <script type=\"text/javascript\">                require([\"plotly\"], function(Plotly) {                    window.PLOTLYENV=window.PLOTLYENV || {};                                    if (document.getElementById(\"a55d11ca-a650-465b-b425-6b2e5e42275d\")) {                    Plotly.newPlot(                        \"a55d11ca-a650-465b-b425-6b2e5e42275d\",                        [{\"marker\":{\"color\":\"seagreen\"},\"mode\":\"lines\",\"x\":[\"2018-09-28T00:00:00\",\"2018-09-27T00:00:00\",\"2018-09-26T00:00:00\",\"2018-09-25T00:00:00\",\"2018-09-24T00:00:00\",\"2018-09-21T00:00:00\",\"2018-09-19T00:00:00\",\"2018-09-18T00:00:00\",\"2018-09-17T00:00:00\",\"2018-09-14T00:00:00\",\"2018-09-12T00:00:00\",\"2018-09-11T00:00:00\",\"2018-09-10T00:00:00\",\"2018-09-07T00:00:00\",\"2018-09-06T00:00:00\",\"2018-09-05T00:00:00\",\"2018-09-04T00:00:00\",\"2018-09-03T00:00:00\",\"2018-08-31T00:00:00\",\"2018-08-30T00:00:00\",\"2018-08-29T00:00:00\",\"2018-08-28T00:00:00\",\"2018-08-27T00:00:00\",\"2018-08-24T00:00:00\",\"2018-08-23T00:00:00\",\"2018-08-21T00:00:00\",\"2018-08-20T00:00:00\",\"2018-08-17T00:00:00\",\"2018-08-16T00:00:00\",\"2018-08-14T00:00:00\",\"2018-08-13T00:00:00\",\"2018-08-10T00:00:00\",\"2018-08-09T00:00:00\",\"2018-08-08T00:00:00\",\"2018-08-07T00:00:00\",\"2018-08-06T00:00:00\",\"2018-08-03T00:00:00\",\"2018-08-02T00:00:00\",\"2018-08-01T00:00:00\",\"2018-07-31T00:00:00\",\"2018-07-30T00:00:00\",\"2018-07-27T00:00:00\",\"2018-07-26T00:00:00\",\"2018-07-25T00:00:00\",\"2018-07-24T00:00:00\",\"2018-07-23T00:00:00\",\"2018-07-20T00:00:00\",\"2018-07-19T00:00:00\",\"2018-07-18T00:00:00\",\"2018-07-17T00:00:00\",\"2018-07-16T00:00:00\",\"2018-07-13T00:00:00\",\"2018-07-12T00:00:00\",\"2018-07-11T00:00:00\",\"2018-07-10T00:00:00\",\"2018-07-09T00:00:00\",\"2018-07-06T00:00:00\",\"2018-07-05T00:00:00\",\"2018-07-04T00:00:00\",\"2018-07-03T00:00:00\",\"2018-07-02T00:00:00\",\"2018-06-29T00:00:00\",\"2018-06-28T00:00:00\",\"2018-06-27T00:00:00\",\"2018-06-26T00:00:00\",\"2018-06-25T00:00:00\",\"2018-06-22T00:00:00\",\"2018-06-21T00:00:00\",\"2018-06-20T00:00:00\",\"2018-06-19T00:00:00\",\"2018-06-18T00:00:00\",\"2018-06-15T00:00:00\",\"2018-06-14T00:00:00\",\"2018-06-13T00:00:00\",\"2018-06-12T00:00:00\",\"2018-06-11T00:00:00\",\"2018-06-08T00:00:00\",\"2018-06-07T00:00:00\",\"2018-06-06T00:00:00\",\"2018-06-05T00:00:00\",\"2018-06-04T00:00:00\",\"2018-06-01T00:00:00\",\"2018-05-31T00:00:00\",\"2018-05-30T00:00:00\",\"2018-05-29T00:00:00\",\"2018-05-28T00:00:00\",\"2018-05-25T00:00:00\",\"2018-05-24T00:00:00\",\"2018-05-23T00:00:00\",\"2018-05-22T00:00:00\",\"2018-05-21T00:00:00\",\"2018-05-18T00:00:00\",\"2018-05-17T00:00:00\",\"2018-05-16T00:00:00\",\"2018-05-15T00:00:00\",\"2018-05-14T00:00:00\",\"2018-05-11T00:00:00\",\"2018-05-10T00:00:00\",\"2018-05-09T00:00:00\",\"2018-05-08T00:00:00\",\"2018-05-07T00:00:00\",\"2018-05-04T00:00:00\",\"2018-05-03T00:00:00\",\"2018-05-02T00:00:00\",\"2018-04-30T00:00:00\",\"2018-04-27T00:00:00\",\"2018-04-26T00:00:00\",\"2018-04-25T00:00:00\",\"2018-04-24T00:00:00\",\"2018-04-23T00:00:00\",\"2018-04-20T00:00:00\",\"2018-04-19T00:00:00\",\"2018-04-18T00:00:00\",\"2018-04-17T00:00:00\",\"2018-04-16T00:00:00\",\"2018-04-13T00:00:00\",\"2018-04-12T00:00:00\",\"2018-04-11T00:00:00\",\"2018-04-10T00:00:00\",\"2018-04-09T00:00:00\",\"2018-04-06T00:00:00\",\"2018-04-05T00:00:00\",\"2018-04-04T00:00:00\",\"2018-04-03T00:00:00\",\"2018-04-02T00:00:00\",\"2018-03-28T00:00:00\",\"2018-03-27T00:00:00\",\"2018-03-26T00:00:00\",\"2018-03-23T00:00:00\",\"2018-03-22T00:00:00\",\"2018-03-21T00:00:00\",\"2018-03-20T00:00:00\",\"2018-03-19T00:00:00\",\"2018-03-16T00:00:00\",\"2018-03-15T00:00:00\",\"2018-03-14T00:00:00\",\"2018-03-13T00:00:00\",\"2018-03-12T00:00:00\",\"2018-03-09T00:00:00\",\"2018-03-08T00:00:00\",\"2018-03-07T00:00:00\",\"2018-03-06T00:00:00\",\"2018-03-05T00:00:00\",\"2018-03-01T00:00:00\",\"2018-02-28T00:00:00\",\"2018-02-27T00:00:00\",\"2018-02-26T00:00:00\",\"2018-02-23T00:00:00\",\"2018-02-22T00:00:00\",\"2018-02-21T00:00:00\",\"2018-02-20T00:00:00\",\"2018-02-19T00:00:00\",\"2018-02-16T00:00:00\",\"2018-02-15T00:00:00\",\"2018-02-14T00:00:00\",\"2018-02-12T00:00:00\",\"2018-02-09T00:00:00\",\"2018-02-08T00:00:00\",\"2018-02-07T00:00:00\",\"2018-02-06T00:00:00\",\"2018-02-05T00:00:00\",\"2018-02-02T00:00:00\",\"2018-02-01T00:00:00\",\"2018-01-31T00:00:00\",\"2018-01-30T00:00:00\",\"2018-01-29T00:00:00\",\"2018-01-25T00:00:00\",\"2018-01-24T00:00:00\",\"2018-01-23T00:00:00\",\"2018-01-22T00:00:00\",\"2018-01-19T00:00:00\",\"2018-01-18T00:00:00\",\"2018-01-17T00:00:00\",\"2018-01-16T00:00:00\",\"2018-01-15T00:00:00\",\"2018-01-12T00:00:00\",\"2018-01-11T00:00:00\",\"2018-01-10T00:00:00\",\"2018-01-09T00:00:00\",\"2018-01-08T00:00:00\",\"2018-01-05T00:00:00\",\"2018-01-04T00:00:00\",\"2018-01-03T00:00:00\",\"2018-01-02T00:00:00\",\"2018-01-01T00:00:00\",\"2017-12-29T00:00:00\",\"2017-12-28T00:00:00\",\"2017-12-27T00:00:00\",\"2017-12-26T00:00:00\",\"2017-12-22T00:00:00\",\"2017-12-21T00:00:00\",\"2017-12-20T00:00:00\",\"2017-12-19T00:00:00\",\"2017-12-18T00:00:00\",\"2017-12-15T00:00:00\",\"2017-12-14T00:00:00\",\"2017-12-13T00:00:00\",\"2017-12-12T00:00:00\",\"2017-12-11T00:00:00\",\"2017-12-08T00:00:00\",\"2017-12-07T00:00:00\",\"2017-12-06T00:00:00\",\"2017-12-05T00:00:00\",\"2017-12-04T00:00:00\",\"2017-12-01T00:00:00\",\"2017-11-30T00:00:00\",\"2017-11-29T00:00:00\",\"2017-11-28T00:00:00\",\"2017-11-27T00:00:00\",\"2017-11-24T00:00:00\",\"2017-11-23T00:00:00\",\"2017-11-22T00:00:00\",\"2017-11-21T00:00:00\",\"2017-11-20T00:00:00\",\"2017-11-17T00:00:00\",\"2017-11-16T00:00:00\",\"2017-11-15T00:00:00\",\"2017-11-14T00:00:00\",\"2017-11-13T00:00:00\",\"2017-11-10T00:00:00\",\"2017-11-09T00:00:00\",\"2017-11-08T00:00:00\",\"2017-11-07T00:00:00\",\"2017-11-06T00:00:00\",\"2017-11-03T00:00:00\",\"2017-11-02T00:00:00\",\"2017-11-01T00:00:00\",\"2017-10-31T00:00:00\",\"2017-10-30T00:00:00\",\"2017-10-27T00:00:00\",\"2017-10-26T00:00:00\",\"2017-10-25T00:00:00\",\"2017-10-24T00:00:00\",\"2017-10-23T00:00:00\",\"2017-10-19T00:00:00\",\"2017-10-18T00:00:00\",\"2017-10-17T00:00:00\",\"2017-10-16T00:00:00\",\"2017-10-13T00:00:00\",\"2017-10-12T00:00:00\",\"2017-10-11T00:00:00\",\"2017-10-10T00:00:00\",\"2017-10-09T00:00:00\",\"2017-10-06T00:00:00\",\"2017-10-05T00:00:00\",\"2017-10-04T00:00:00\",\"2017-10-03T00:00:00\",\"2017-09-29T00:00:00\",\"2017-09-28T00:00:00\",\"2017-09-27T00:00:00\",\"2017-09-26T00:00:00\",\"2017-09-25T00:00:00\",\"2017-09-22T00:00:00\",\"2017-09-21T00:00:00\",\"2017-09-20T00:00:00\",\"2017-09-19T00:00:00\",\"2017-09-18T00:00:00\",\"2017-09-15T00:00:00\",\"2017-09-14T00:00:00\",\"2017-09-13T00:00:00\",\"2017-09-12T00:00:00\",\"2017-09-11T00:00:00\",\"2017-09-08T00:00:00\",\"2017-09-07T00:00:00\",\"2017-09-06T00:00:00\",\"2017-09-05T00:00:00\",\"2017-09-04T00:00:00\",\"2017-09-01T00:00:00\",\"2017-08-31T00:00:00\",\"2017-08-30T00:00:00\",\"2017-08-29T00:00:00\",\"2017-08-28T00:00:00\",\"2017-08-24T00:00:00\",\"2017-08-23T00:00:00\",\"2017-08-22T00:00:00\",\"2017-08-21T00:00:00\",\"2017-08-18T00:00:00\",\"2017-08-17T00:00:00\",\"2017-08-16T00:00:00\",\"2017-08-14T00:00:00\",\"2017-08-11T00:00:00\",\"2017-08-10T00:00:00\",\"2017-08-09T00:00:00\",\"2017-08-08T00:00:00\",\"2017-08-07T00:00:00\",\"2017-08-04T00:00:00\",\"2017-08-03T00:00:00\",\"2017-08-02T00:00:00\",\"2017-08-01T00:00:00\",\"2017-07-31T00:00:00\",\"2017-07-28T00:00:00\",\"2017-07-27T00:00:00\",\"2017-07-26T00:00:00\",\"2017-07-25T00:00:00\",\"2017-07-24T00:00:00\",\"2017-07-21T00:00:00\",\"2017-07-20T00:00:00\",\"2017-07-19T00:00:00\",\"2017-07-18T00:00:00\",\"2017-07-17T00:00:00\",\"2017-07-14T00:00:00\",\"2017-07-13T00:00:00\",\"2017-07-12T00:00:00\",\"2017-07-11T00:00:00\",\"2017-07-10T00:00:00\",\"2017-07-07T00:00:00\",\"2017-07-06T00:00:00\",\"2017-07-05T00:00:00\",\"2017-07-04T00:00:00\",\"2017-07-03T00:00:00\",\"2017-06-30T00:00:00\",\"2017-06-29T00:00:00\",\"2017-06-28T00:00:00\",\"2017-06-27T00:00:00\",\"2017-06-23T00:00:00\",\"2017-06-22T00:00:00\",\"2017-06-21T00:00:00\",\"2017-06-20T00:00:00\",\"2017-06-19T00:00:00\",\"2017-06-16T00:00:00\",\"2017-06-15T00:00:00\",\"2017-06-14T00:00:00\",\"2017-06-13T00:00:00\",\"2017-06-12T00:00:00\",\"2017-06-09T00:00:00\",\"2017-06-08T00:00:00\",\"2017-06-07T00:00:00\",\"2017-06-06T00:00:00\",\"2017-06-05T00:00:00\",\"2017-06-02T00:00:00\",\"2017-06-01T00:00:00\",\"2017-05-31T00:00:00\",\"2017-05-30T00:00:00\",\"2017-05-29T00:00:00\",\"2017-05-26T00:00:00\",\"2017-05-25T00:00:00\",\"2017-05-24T00:00:00\",\"2017-05-23T00:00:00\",\"2017-05-22T00:00:00\",\"2017-05-19T00:00:00\",\"2017-05-18T00:00:00\",\"2017-05-17T00:00:00\",\"2017-05-16T00:00:00\",\"2017-05-15T00:00:00\",\"2017-05-12T00:00:00\",\"2017-05-11T00:00:00\",\"2017-05-10T00:00:00\",\"2017-05-09T00:00:00\",\"2017-05-08T00:00:00\",\"2017-05-05T00:00:00\",\"2017-05-04T00:00:00\",\"2017-05-03T00:00:00\",\"2017-05-02T00:00:00\",\"2017-04-28T00:00:00\",\"2017-04-27T00:00:00\",\"2017-04-26T00:00:00\",\"2017-04-25T00:00:00\",\"2017-04-24T00:00:00\",\"2017-04-21T00:00:00\",\"2017-04-20T00:00:00\",\"2017-04-19T00:00:00\",\"2017-04-18T00:00:00\",\"2017-04-17T00:00:00\",\"2017-04-13T00:00:00\",\"2017-04-12T00:00:00\",\"2017-04-11T00:00:00\",\"2017-04-10T00:00:00\",\"2017-04-07T00:00:00\",\"2017-04-06T00:00:00\",\"2017-04-05T00:00:00\",\"2017-04-03T00:00:00\",\"2017-03-31T00:00:00\",\"2017-03-30T00:00:00\",\"2017-03-29T00:00:00\",\"2017-03-28T00:00:00\",\"2017-03-27T00:00:00\",\"2017-03-24T00:00:00\",\"2017-03-23T00:00:00\",\"2017-03-22T00:00:00\",\"2017-03-21T00:00:00\",\"2017-03-20T00:00:00\",\"2017-03-17T00:00:00\",\"2017-03-16T00:00:00\",\"2017-03-15T00:00:00\",\"2017-03-14T00:00:00\",\"2017-03-10T00:00:00\",\"2017-03-09T00:00:00\",\"2017-03-08T00:00:00\",\"2017-03-07T00:00:00\",\"2017-03-06T00:00:00\",\"2017-03-03T00:00:00\",\"2017-03-02T00:00:00\",\"2017-03-01T00:00:00\",\"2017-02-28T00:00:00\",\"2017-02-27T00:00:00\",\"2017-02-23T00:00:00\",\"2017-02-22T00:00:00\",\"2017-02-21T00:00:00\",\"2017-02-20T00:00:00\",\"2017-02-17T00:00:00\",\"2017-02-16T00:00:00\",\"2017-02-15T00:00:00\",\"2017-02-14T00:00:00\",\"2017-02-13T00:00:00\",\"2017-02-10T00:00:00\",\"2017-02-09T00:00:00\",\"2017-02-08T00:00:00\",\"2017-02-07T00:00:00\",\"2017-02-06T00:00:00\",\"2017-02-03T00:00:00\",\"2017-02-02T00:00:00\",\"2017-02-01T00:00:00\",\"2017-01-31T00:00:00\",\"2017-01-30T00:00:00\",\"2017-01-27T00:00:00\",\"2017-01-25T00:00:00\",\"2017-01-24T00:00:00\",\"2017-01-23T00:00:00\",\"2017-01-20T00:00:00\",\"2017-01-19T00:00:00\",\"2017-01-18T00:00:00\",\"2017-01-17T00:00:00\",\"2017-01-16T00:00:00\",\"2017-01-13T00:00:00\",\"2017-01-12T00:00:00\",\"2017-01-11T00:00:00\",\"2017-01-10T00:00:00\",\"2017-01-09T00:00:00\",\"2017-01-06T00:00:00\",\"2017-01-05T00:00:00\",\"2017-01-04T00:00:00\",\"2017-01-03T00:00:00\",\"2017-01-02T00:00:00\",\"2016-12-30T00:00:00\",\"2016-12-29T00:00:00\",\"2016-12-28T00:00:00\",\"2016-12-27T00:00:00\",\"2016-12-26T00:00:00\",\"2016-12-23T00:00:00\",\"2016-12-22T00:00:00\",\"2016-12-21T00:00:00\",\"2016-12-20T00:00:00\",\"2016-12-19T00:00:00\",\"2016-12-16T00:00:00\",\"2016-12-15T00:00:00\",\"2016-12-14T00:00:00\",\"2016-12-13T00:00:00\",\"2016-12-12T00:00:00\",\"2016-12-09T00:00:00\",\"2016-12-08T00:00:00\",\"2016-12-07T00:00:00\",\"2016-12-06T00:00:00\",\"2016-12-05T00:00:00\",\"2016-12-02T00:00:00\",\"2016-12-01T00:00:00\",\"2016-11-30T00:00:00\",\"2016-11-29T00:00:00\",\"2016-11-28T00:00:00\",\"2016-11-25T00:00:00\",\"2016-11-24T00:00:00\",\"2016-11-23T00:00:00\",\"2016-11-22T00:00:00\",\"2016-11-21T00:00:00\",\"2016-11-18T00:00:00\",\"2016-11-17T00:00:00\",\"2016-11-16T00:00:00\",\"2016-11-15T00:00:00\",\"2016-11-11T00:00:00\",\"2016-11-10T00:00:00\",\"2016-11-09T00:00:00\",\"2016-11-08T00:00:00\",\"2016-11-07T00:00:00\",\"2016-11-04T00:00:00\",\"2016-11-03T00:00:00\",\"2016-11-02T00:00:00\",\"2016-11-01T00:00:00\",\"2016-10-30T00:00:00\",\"2016-10-28T00:00:00\",\"2016-10-27T00:00:00\",\"2016-10-26T00:00:00\",\"2016-10-25T00:00:00\",\"2016-10-24T00:00:00\",\"2016-10-21T00:00:00\",\"2016-10-20T00:00:00\",\"2016-10-19T00:00:00\",\"2016-10-18T00:00:00\",\"2016-10-17T00:00:00\",\"2016-10-14T00:00:00\",\"2016-10-13T00:00:00\",\"2016-10-10T00:00:00\",\"2016-10-07T00:00:00\",\"2016-10-06T00:00:00\",\"2016-10-05T00:00:00\",\"2016-10-04T00:00:00\",\"2016-10-03T00:00:00\",\"2016-09-30T00:00:00\",\"2016-09-29T00:00:00\",\"2016-09-28T00:00:00\",\"2016-09-27T00:00:00\",\"2016-09-26T00:00:00\",\"2016-09-23T00:00:00\",\"2016-09-22T00:00:00\",\"2016-09-21T00:00:00\",\"2016-09-20T00:00:00\",\"2016-09-19T00:00:00\",\"2016-09-16T00:00:00\",\"2016-09-15T00:00:00\",\"2016-09-14T00:00:00\",\"2016-09-12T00:00:00\",\"2016-09-09T00:00:00\",\"2016-09-08T00:00:00\",\"2016-09-07T00:00:00\",\"2016-09-06T00:00:00\",\"2016-09-02T00:00:00\",\"2016-09-01T00:00:00\",\"2016-08-31T00:00:00\",\"2016-08-30T00:00:00\",\"2016-08-29T00:00:00\",\"2016-08-26T00:00:00\",\"2016-08-25T00:00:00\",\"2016-08-24T00:00:00\",\"2016-08-23T00:00:00\",\"2016-08-22T00:00:00\",\"2016-08-19T00:00:00\",\"2016-08-18T00:00:00\",\"2016-08-17T00:00:00\",\"2016-08-16T00:00:00\",\"2016-08-12T00:00:00\",\"2016-08-11T00:00:00\",\"2016-08-10T00:00:00\",\"2016-08-09T00:00:00\",\"2016-08-08T00:00:00\",\"2016-08-05T00:00:00\",\"2016-08-04T00:00:00\",\"2016-08-03T00:00:00\",\"2016-08-02T00:00:00\",\"2016-08-01T00:00:00\",\"2016-07-29T00:00:00\",\"2016-07-28T00:00:00\",\"2016-07-27T00:00:00\",\"2016-07-26T00:00:00\",\"2016-07-25T00:00:00\",\"2016-07-22T00:00:00\",\"2016-07-21T00:00:00\",\"2016-07-20T00:00:00\",\"2016-07-19T00:00:00\",\"2016-07-18T00:00:00\",\"2016-07-15T00:00:00\",\"2016-07-14T00:00:00\",\"2016-07-13T00:00:00\",\"2016-07-12T00:00:00\",\"2016-07-11T00:00:00\",\"2016-07-08T00:00:00\",\"2016-07-07T00:00:00\",\"2016-07-05T00:00:00\",\"2016-07-04T00:00:00\",\"2016-07-01T00:00:00\",\"2016-06-30T00:00:00\",\"2016-06-29T00:00:00\",\"2016-06-28T00:00:00\",\"2016-06-27T00:00:00\",\"2016-06-24T00:00:00\",\"2016-06-23T00:00:00\",\"2016-06-22T00:00:00\",\"2016-06-21T00:00:00\",\"2016-06-20T00:00:00\",\"2016-06-17T00:00:00\",\"2016-06-16T00:00:00\",\"2016-06-15T00:00:00\",\"2016-06-14T00:00:00\",\"2016-06-13T00:00:00\",\"2016-06-10T00:00:00\",\"2016-06-09T00:00:00\",\"2016-06-08T00:00:00\",\"2016-06-07T00:00:00\",\"2016-06-06T00:00:00\",\"2016-06-03T00:00:00\",\"2016-06-02T00:00:00\",\"2016-06-01T00:00:00\",\"2016-05-31T00:00:00\",\"2016-05-30T00:00:00\",\"2016-05-27T00:00:00\",\"2016-05-26T00:00:00\",\"2016-05-25T00:00:00\",\"2016-05-24T00:00:00\",\"2016-05-23T00:00:00\",\"2016-05-20T00:00:00\",\"2016-05-19T00:00:00\",\"2016-05-18T00:00:00\",\"2016-05-17T00:00:00\",\"2016-05-16T00:00:00\",\"2016-05-13T00:00:00\",\"2016-05-12T00:00:00\",\"2016-05-11T00:00:00\",\"2016-05-10T00:00:00\",\"2016-05-09T00:00:00\",\"2016-05-06T00:00:00\",\"2016-05-05T00:00:00\",\"2016-05-04T00:00:00\",\"2016-05-03T00:00:00\",\"2016-05-02T00:00:00\",\"2016-04-29T00:00:00\",\"2016-04-28T00:00:00\",\"2016-04-27T00:00:00\",\"2016-04-26T00:00:00\",\"2016-04-25T00:00:00\",\"2016-04-22T00:00:00\",\"2016-04-21T00:00:00\",\"2016-04-20T00:00:00\",\"2016-04-18T00:00:00\",\"2016-04-13T00:00:00\",\"2016-04-12T00:00:00\",\"2016-04-11T00:00:00\",\"2016-04-08T00:00:00\",\"2016-04-07T00:00:00\",\"2016-04-06T00:00:00\",\"2016-04-05T00:00:00\",\"2016-04-04T00:00:00\",\"2016-04-01T00:00:00\",\"2016-03-31T00:00:00\",\"2016-03-30T00:00:00\",\"2016-03-29T00:00:00\",\"2016-03-28T00:00:00\",\"2016-03-23T00:00:00\",\"2016-03-22T00:00:00\",\"2016-03-21T00:00:00\",\"2016-03-18T00:00:00\",\"2016-03-17T00:00:00\",\"2016-03-16T00:00:00\",\"2016-03-15T00:00:00\",\"2016-03-14T00:00:00\",\"2016-03-11T00:00:00\",\"2016-03-10T00:00:00\",\"2016-03-09T00:00:00\",\"2016-03-08T00:00:00\",\"2016-03-04T00:00:00\",\"2016-03-03T00:00:00\",\"2016-03-02T00:00:00\",\"2016-03-01T00:00:00\",\"2016-02-29T00:00:00\",\"2016-02-26T00:00:00\",\"2016-02-25T00:00:00\",\"2016-02-24T00:00:00\",\"2016-02-23T00:00:00\",\"2016-02-22T00:00:00\",\"2016-02-19T00:00:00\",\"2016-02-18T00:00:00\",\"2016-02-17T00:00:00\",\"2016-02-16T00:00:00\",\"2016-02-15T00:00:00\",\"2016-02-12T00:00:00\",\"2016-02-11T00:00:00\",\"2016-02-10T00:00:00\",\"2016-02-09T00:00:00\",\"2016-02-08T00:00:00\",\"2016-02-05T00:00:00\",\"2016-02-04T00:00:00\",\"2016-02-03T00:00:00\",\"2016-02-02T00:00:00\",\"2016-02-01T00:00:00\",\"2016-01-29T00:00:00\",\"2016-01-28T00:00:00\",\"2016-01-27T00:00:00\",\"2016-01-25T00:00:00\",\"2016-01-22T00:00:00\",\"2016-01-21T00:00:00\",\"2016-01-20T00:00:00\",\"2016-01-19T00:00:00\",\"2016-01-18T00:00:00\",\"2016-01-15T00:00:00\",\"2016-01-14T00:00:00\",\"2016-01-13T00:00:00\",\"2016-01-12T00:00:00\",\"2016-01-11T00:00:00\",\"2016-01-08T00:00:00\",\"2016-01-07T00:00:00\",\"2016-01-06T00:00:00\",\"2016-01-05T00:00:00\",\"2016-01-04T00:00:00\",\"2016-01-01T00:00:00\",\"2015-12-31T00:00:00\",\"2015-12-30T00:00:00\",\"2015-12-29T00:00:00\",\"2015-12-28T00:00:00\",\"2015-12-24T00:00:00\",\"2015-12-23T00:00:00\",\"2015-12-22T00:00:00\",\"2015-12-21T00:00:00\",\"2015-12-18T00:00:00\",\"2015-12-17T00:00:00\",\"2015-12-16T00:00:00\",\"2015-12-15T00:00:00\",\"2015-12-14T00:00:00\",\"2015-12-11T00:00:00\",\"2015-12-10T00:00:00\",\"2015-12-09T00:00:00\",\"2015-12-08T00:00:00\",\"2015-12-07T00:00:00\",\"2015-12-04T00:00:00\",\"2015-12-03T00:00:00\",\"2015-12-02T00:00:00\",\"2015-12-01T00:00:00\",\"2015-11-30T00:00:00\",\"2015-11-27T00:00:00\",\"2015-11-26T00:00:00\",\"2015-11-24T00:00:00\",\"2015-11-23T00:00:00\",\"2015-11-20T00:00:00\",\"2015-11-19T00:00:00\",\"2015-11-18T00:00:00\",\"2015-11-17T00:00:00\",\"2015-11-16T00:00:00\",\"2015-11-13T00:00:00\",\"2015-11-11T00:00:00\",\"2015-11-10T00:00:00\",\"2015-11-09T00:00:00\",\"2015-11-06T00:00:00\",\"2015-11-05T00:00:00\",\"2015-11-04T00:00:00\",\"2015-11-03T00:00:00\",\"2015-11-02T00:00:00\",\"2015-10-30T00:00:00\",\"2015-10-29T00:00:00\",\"2015-10-28T00:00:00\",\"2015-10-27T00:00:00\",\"2015-10-26T00:00:00\",\"2015-10-23T00:00:00\",\"2015-10-21T00:00:00\",\"2015-10-20T00:00:00\",\"2015-10-19T00:00:00\",\"2015-10-16T00:00:00\",\"2015-10-15T00:00:00\",\"2015-10-14T00:00:00\",\"2015-10-13T00:00:00\",\"2015-10-12T00:00:00\",\"2015-10-09T00:00:00\",\"2015-10-08T00:00:00\",\"2015-10-07T00:00:00\",\"2015-10-06T00:00:00\",\"2015-10-05T00:00:00\",\"2015-10-01T00:00:00\",\"2015-09-30T00:00:00\",\"2015-09-29T00:00:00\",\"2015-09-28T00:00:00\",\"2015-09-24T00:00:00\",\"2015-09-23T00:00:00\",\"2015-09-22T00:00:00\",\"2015-09-21T00:00:00\",\"2015-09-18T00:00:00\",\"2015-09-16T00:00:00\",\"2015-09-15T00:00:00\",\"2015-09-14T00:00:00\",\"2015-09-11T00:00:00\",\"2015-09-10T00:00:00\",\"2015-09-09T00:00:00\",\"2015-09-08T00:00:00\",\"2015-09-07T00:00:00\",\"2015-09-04T00:00:00\",\"2015-09-03T00:00:00\",\"2015-09-02T00:00:00\",\"2015-09-01T00:00:00\",\"2015-08-31T00:00:00\",\"2015-08-28T00:00:00\",\"2015-08-27T00:00:00\",\"2015-08-26T00:00:00\",\"2015-08-25T00:00:00\",\"2015-08-24T00:00:00\",\"2015-08-21T00:00:00\",\"2015-08-20T00:00:00\",\"2015-08-19T00:00:00\",\"2015-08-18T00:00:00\",\"2015-08-17T00:00:00\",\"2015-08-14T00:00:00\",\"2015-08-13T00:00:00\",\"2015-08-12T00:00:00\",\"2015-08-11T00:00:00\",\"2015-08-10T00:00:00\",\"2015-08-07T00:00:00\",\"2015-08-06T00:00:00\",\"2015-08-05T00:00:00\",\"2015-08-04T00:00:00\",\"2015-08-03T00:00:00\",\"2015-07-31T00:00:00\",\"2015-07-30T00:00:00\",\"2015-07-29T00:00:00\",\"2015-07-28T00:00:00\",\"2015-07-27T00:00:00\",\"2015-07-24T00:00:00\",\"2015-07-23T00:00:00\",\"2015-07-22T00:00:00\",\"2015-07-21T00:00:00\",\"2015-07-20T00:00:00\",\"2015-07-17T00:00:00\",\"2015-07-16T00:00:00\",\"2015-07-15T00:00:00\",\"2015-07-14T00:00:00\",\"2015-07-13T00:00:00\",\"2015-07-10T00:00:00\",\"2015-07-09T00:00:00\",\"2015-07-08T00:00:00\",\"2015-07-07T00:00:00\",\"2015-07-06T00:00:00\",\"2015-07-03T00:00:00\",\"2015-07-02T00:00:00\",\"2015-07-01T00:00:00\",\"2015-06-30T00:00:00\",\"2015-06-29T00:00:00\",\"2015-06-26T00:00:00\",\"2015-06-25T00:00:00\",\"2015-06-24T00:00:00\",\"2015-06-23T00:00:00\",\"2015-06-22T00:00:00\",\"2015-06-19T00:00:00\",\"2015-06-18T00:00:00\",\"2015-06-17T00:00:00\",\"2015-06-16T00:00:00\",\"2015-06-15T00:00:00\",\"2015-06-12T00:00:00\",\"2015-06-11T00:00:00\",\"2015-06-10T00:00:00\",\"2015-06-09T00:00:00\",\"2015-06-08T00:00:00\",\"2015-06-05T00:00:00\",\"2015-06-04T00:00:00\",\"2015-06-03T00:00:00\",\"2015-06-02T00:00:00\",\"2015-06-01T00:00:00\",\"2015-05-29T00:00:00\",\"2015-05-28T00:00:00\",\"2015-05-27T00:00:00\",\"2015-05-26T00:00:00\",\"2015-05-25T00:00:00\",\"2015-05-22T00:00:00\",\"2015-05-21T00:00:00\",\"2015-05-20T00:00:00\",\"2015-05-19T00:00:00\",\"2015-05-18T00:00:00\",\"2015-05-15T00:00:00\",\"2015-05-14T00:00:00\",\"2015-05-13T00:00:00\",\"2015-05-12T00:00:00\",\"2015-05-11T00:00:00\",\"2015-05-08T00:00:00\",\"2015-05-07T00:00:00\",\"2015-05-06T00:00:00\",\"2015-05-05T00:00:00\",\"2015-05-04T00:00:00\",\"2015-04-30T00:00:00\",\"2015-04-29T00:00:00\",\"2015-04-28T00:00:00\",\"2015-04-27T00:00:00\",\"2015-04-24T00:00:00\",\"2015-04-23T00:00:00\",\"2015-04-22T00:00:00\",\"2015-04-21T00:00:00\",\"2015-04-20T00:00:00\",\"2015-04-17T00:00:00\",\"2015-04-16T00:00:00\",\"2015-04-15T00:00:00\",\"2015-04-13T00:00:00\",\"2015-04-10T00:00:00\",\"2015-04-09T00:00:00\",\"2015-04-08T00:00:00\",\"2015-04-07T00:00:00\",\"2015-04-06T00:00:00\",\"2015-04-01T00:00:00\",\"2015-03-31T00:00:00\",\"2015-03-30T00:00:00\",\"2015-03-27T00:00:00\",\"2015-03-26T00:00:00\",\"2015-03-25T00:00:00\",\"2015-03-24T00:00:00\",\"2015-03-23T00:00:00\",\"2015-03-20T00:00:00\",\"2015-03-19T00:00:00\",\"2015-03-18T00:00:00\",\"2015-03-17T00:00:00\",\"2015-03-16T00:00:00\",\"2015-03-13T00:00:00\",\"2015-03-12T00:00:00\",\"2015-03-11T00:00:00\",\"2015-03-10T00:00:00\",\"2015-03-09T00:00:00\",\"2015-03-05T00:00:00\",\"2015-03-04T00:00:00\",\"2015-03-03T00:00:00\",\"2015-03-02T00:00:00\",\"2015-02-28T00:00:00\",\"2015-02-27T00:00:00\",\"2015-02-26T00:00:00\",\"2015-02-25T00:00:00\",\"2015-02-24T00:00:00\",\"2015-02-23T00:00:00\",\"2015-02-20T00:00:00\",\"2015-02-19T00:00:00\",\"2015-02-18T00:00:00\",\"2015-02-16T00:00:00\",\"2015-02-13T00:00:00\",\"2015-02-12T00:00:00\",\"2015-02-11T00:00:00\",\"2015-02-10T00:00:00\",\"2015-02-09T00:00:00\",\"2015-02-06T00:00:00\",\"2015-02-05T00:00:00\",\"2015-02-04T00:00:00\",\"2015-02-03T00:00:00\",\"2015-02-02T00:00:00\",\"2015-01-30T00:00:00\",\"2015-01-29T00:00:00\",\"2015-01-28T00:00:00\",\"2015-01-27T00:00:00\",\"2015-01-23T00:00:00\",\"2015-01-22T00:00:00\",\"2015-01-21T00:00:00\",\"2015-01-20T00:00:00\",\"2015-01-19T00:00:00\",\"2015-01-16T00:00:00\",\"2015-01-15T00:00:00\",\"2015-01-14T00:00:00\",\"2015-01-13T00:00:00\",\"2015-01-12T00:00:00\",\"2015-01-09T00:00:00\",\"2015-01-08T00:00:00\",\"2015-01-07T00:00:00\",\"2015-01-06T00:00:00\",\"2015-01-05T00:00:00\",\"2015-01-02T00:00:00\",\"2015-01-01T00:00:00\",\"2014-12-31T00:00:00\",\"2014-12-30T00:00:00\",\"2014-12-29T00:00:00\",\"2014-12-26T00:00:00\",\"2014-12-24T00:00:00\",\"2014-12-23T00:00:00\",\"2014-12-22T00:00:00\",\"2014-12-19T00:00:00\",\"2014-12-18T00:00:00\",\"2014-12-17T00:00:00\",\"2014-12-16T00:00:00\",\"2014-12-15T00:00:00\",\"2014-12-12T00:00:00\",\"2014-12-11T00:00:00\",\"2014-12-10T00:00:00\",\"2014-12-09T00:00:00\",\"2014-12-08T00:00:00\",\"2014-12-05T00:00:00\",\"2014-12-04T00:00:00\",\"2014-12-03T00:00:00\",\"2014-12-02T00:00:00\",\"2014-12-01T00:00:00\",\"2014-11-28T00:00:00\",\"2014-11-27T00:00:00\",\"2014-11-26T00:00:00\",\"2014-11-25T00:00:00\",\"2014-11-24T00:00:00\",\"2014-11-21T00:00:00\",\"2014-11-20T00:00:00\",\"2014-11-19T00:00:00\",\"2014-11-18T00:00:00\",\"2014-11-17T00:00:00\",\"2014-11-14T00:00:00\",\"2014-11-13T00:00:00\",\"2014-11-12T00:00:00\",\"2014-11-11T00:00:00\",\"2014-11-10T00:00:00\",\"2014-11-07T00:00:00\",\"2014-11-05T00:00:00\",\"2014-11-03T00:00:00\",\"2014-10-31T00:00:00\",\"2014-10-30T00:00:00\",\"2014-10-29T00:00:00\",\"2014-10-28T00:00:00\",\"2014-10-27T00:00:00\",\"2014-10-23T00:00:00\",\"2014-10-22T00:00:00\",\"2014-10-21T00:00:00\",\"2014-10-20T00:00:00\",\"2014-10-17T00:00:00\",\"2014-10-16T00:00:00\",\"2014-10-14T00:00:00\",\"2014-10-13T00:00:00\",\"2014-10-10T00:00:00\",\"2014-10-09T00:00:00\",\"2014-10-08T00:00:00\",\"2014-10-07T00:00:00\",\"2014-10-01T00:00:00\",\"2014-09-30T00:00:00\",\"2014-09-29T00:00:00\",\"2014-09-26T00:00:00\",\"2014-09-25T00:00:00\",\"2014-09-24T00:00:00\",\"2014-09-23T00:00:00\",\"2014-09-22T00:00:00\",\"2014-09-19T00:00:00\",\"2014-09-18T00:00:00\",\"2014-09-17T00:00:00\",\"2014-09-16T00:00:00\",\"2014-09-15T00:00:00\",\"2014-09-12T00:00:00\",\"2014-09-11T00:00:00\",\"2014-09-10T00:00:00\",\"2014-09-09T00:00:00\",\"2014-09-08T00:00:00\",\"2014-09-05T00:00:00\",\"2014-09-04T00:00:00\",\"2014-09-03T00:00:00\",\"2014-09-02T00:00:00\",\"2014-09-01T00:00:00\",\"2014-08-28T00:00:00\",\"2014-08-27T00:00:00\",\"2014-08-26T00:00:00\",\"2014-08-25T00:00:00\",\"2014-08-22T00:00:00\",\"2014-08-21T00:00:00\",\"2014-08-20T00:00:00\",\"2014-08-19T00:00:00\",\"2014-08-18T00:00:00\",\"2014-08-14T00:00:00\",\"2014-08-13T00:00:00\",\"2014-08-12T00:00:00\",\"2014-08-11T00:00:00\",\"2014-08-08T00:00:00\",\"2014-08-07T00:00:00\",\"2014-08-06T00:00:00\",\"2014-08-05T00:00:00\",\"2014-08-04T00:00:00\",\"2014-08-01T00:00:00\",\"2014-07-31T00:00:00\",\"2014-07-30T00:00:00\",\"2014-07-28T00:00:00\",\"2014-07-25T00:00:00\",\"2014-07-24T00:00:00\",\"2014-07-23T00:00:00\",\"2014-07-22T00:00:00\",\"2014-07-21T00:00:00\",\"2014-07-18T00:00:00\",\"2014-07-17T00:00:00\",\"2014-07-16T00:00:00\",\"2014-07-15T00:00:00\",\"2014-07-14T00:00:00\",\"2014-07-11T00:00:00\",\"2014-07-10T00:00:00\",\"2014-07-09T00:00:00\",\"2014-07-08T00:00:00\",\"2014-07-07T00:00:00\",\"2014-07-04T00:00:00\",\"2014-07-03T00:00:00\",\"2014-07-02T00:00:00\",\"2014-07-01T00:00:00\",\"2014-06-30T00:00:00\",\"2014-06-27T00:00:00\",\"2014-06-26T00:00:00\",\"2014-06-25T00:00:00\",\"2014-06-24T00:00:00\",\"2014-06-23T00:00:00\",\"2014-06-20T00:00:00\",\"2014-06-19T00:00:00\",\"2014-06-18T00:00:00\",\"2014-06-17T00:00:00\",\"2014-06-16T00:00:00\",\"2014-06-13T00:00:00\",\"2014-06-12T00:00:00\",\"2014-06-11T00:00:00\",\"2014-06-10T00:00:00\",\"2014-06-09T00:00:00\",\"2014-06-06T00:00:00\",\"2014-06-05T00:00:00\",\"2014-06-04T00:00:00\",\"2014-06-03T00:00:00\",\"2014-06-02T00:00:00\",\"2014-05-30T00:00:00\",\"2014-05-29T00:00:00\",\"2014-05-28T00:00:00\",\"2014-05-27T00:00:00\",\"2014-05-26T00:00:00\",\"2014-05-23T00:00:00\",\"2014-05-22T00:00:00\",\"2014-05-21T00:00:00\",\"2014-05-20T00:00:00\",\"2014-05-19T00:00:00\",\"2014-05-16T00:00:00\",\"2014-05-15T00:00:00\",\"2014-05-14T00:00:00\",\"2014-05-13T00:00:00\",\"2014-05-12T00:00:00\",\"2014-05-09T00:00:00\",\"2014-05-08T00:00:00\",\"2014-05-07T00:00:00\",\"2014-05-06T00:00:00\",\"2014-05-05T00:00:00\",\"2014-05-02T00:00:00\",\"2014-04-30T00:00:00\",\"2014-04-29T00:00:00\",\"2014-04-28T00:00:00\",\"2014-04-25T00:00:00\",\"2014-04-23T00:00:00\",\"2014-04-22T00:00:00\",\"2014-04-21T00:00:00\",\"2014-04-17T00:00:00\",\"2014-04-16T00:00:00\",\"2014-04-15T00:00:00\",\"2014-04-11T00:00:00\",\"2014-04-10T00:00:00\",\"2014-04-09T00:00:00\",\"2014-04-07T00:00:00\",\"2014-04-04T00:00:00\",\"2014-04-03T00:00:00\",\"2014-04-02T00:00:00\",\"2014-04-01T00:00:00\",\"2014-03-31T00:00:00\",\"2014-03-28T00:00:00\",\"2014-03-27T00:00:00\",\"2014-03-26T00:00:00\",\"2014-03-25T00:00:00\",\"2014-03-24T00:00:00\",\"2014-03-22T00:00:00\",\"2014-03-21T00:00:00\",\"2014-03-20T00:00:00\",\"2014-03-19T00:00:00\",\"2014-03-18T00:00:00\",\"2014-03-14T00:00:00\",\"2014-03-13T00:00:00\",\"2014-03-12T00:00:00\",\"2014-03-11T00:00:00\",\"2014-03-10T00:00:00\",\"2014-03-07T00:00:00\",\"2014-03-06T00:00:00\",\"2014-03-05T00:00:00\",\"2014-03-04T00:00:00\",\"2014-03-03T00:00:00\",\"2014-02-28T00:00:00\",\"2014-02-26T00:00:00\",\"2014-02-25T00:00:00\",\"2014-02-24T00:00:00\",\"2014-02-21T00:00:00\",\"2014-02-20T00:00:00\",\"2014-02-19T00:00:00\",\"2014-02-18T00:00:00\",\"2014-02-17T00:00:00\",\"2014-02-14T00:00:00\",\"2014-02-13T00:00:00\",\"2014-02-12T00:00:00\",\"2014-02-11T00:00:00\",\"2014-02-10T00:00:00\",\"2014-02-07T00:00:00\",\"2014-02-06T00:00:00\",\"2014-02-05T00:00:00\",\"2014-02-04T00:00:00\",\"2014-02-03T00:00:00\",\"2014-01-31T00:00:00\",\"2014-01-30T00:00:00\",\"2014-01-29T00:00:00\",\"2014-01-28T00:00:00\",\"2014-01-27T00:00:00\",\"2014-01-24T00:00:00\",\"2014-01-23T00:00:00\",\"2014-01-22T00:00:00\",\"2014-01-21T00:00:00\",\"2014-01-20T00:00:00\",\"2014-01-17T00:00:00\",\"2014-01-16T00:00:00\",\"2014-01-15T00:00:00\",\"2014-01-14T00:00:00\",\"2014-01-13T00:00:00\",\"2014-01-10T00:00:00\",\"2014-01-09T00:00:00\",\"2014-01-08T00:00:00\",\"2014-01-07T00:00:00\",\"2014-01-06T00:00:00\",\"2014-01-03T00:00:00\",\"2014-01-02T00:00:00\",\"2014-01-01T00:00:00\",\"2013-12-31T00:00:00\",\"2013-12-30T00:00:00\",\"2013-12-27T00:00:00\",\"2013-12-26T00:00:00\",\"2013-12-24T00:00:00\",\"2013-12-23T00:00:00\",\"2013-12-20T00:00:00\",\"2013-12-19T00:00:00\",\"2013-12-18T00:00:00\",\"2013-12-17T00:00:00\",\"2013-12-16T00:00:00\",\"2013-12-13T00:00:00\",\"2013-12-12T00:00:00\",\"2013-12-11T00:00:00\",\"2013-12-10T00:00:00\",\"2013-12-09T00:00:00\",\"2013-12-06T00:00:00\",\"2013-12-05T00:00:00\",\"2013-12-04T00:00:00\",\"2013-12-03T00:00:00\",\"2013-12-02T00:00:00\",\"2013-11-29T00:00:00\",\"2013-11-28T00:00:00\",\"2013-11-27T00:00:00\",\"2013-11-26T00:00:00\",\"2013-11-25T00:00:00\",\"2013-11-22T00:00:00\",\"2013-11-21T00:00:00\",\"2013-11-20T00:00:00\",\"2013-11-19T00:00:00\",\"2013-11-18T00:00:00\",\"2013-11-14T00:00:00\",\"2013-11-13T00:00:00\",\"2013-11-12T00:00:00\",\"2013-11-11T00:00:00\",\"2013-11-08T00:00:00\",\"2013-11-07T00:00:00\",\"2013-11-06T00:00:00\",\"2013-11-05T00:00:00\",\"2013-11-03T00:00:00\",\"2013-11-01T00:00:00\",\"2013-10-31T00:00:00\",\"2013-10-30T00:00:00\",\"2013-10-29T00:00:00\",\"2013-10-28T00:00:00\",\"2013-10-25T00:00:00\",\"2013-10-24T00:00:00\",\"2013-10-23T00:00:00\",\"2013-10-22T00:00:00\",\"2013-10-21T00:00:00\",\"2013-10-18T00:00:00\",\"2013-10-17T00:00:00\",\"2013-10-15T00:00:00\",\"2013-10-14T00:00:00\",\"2013-10-11T00:00:00\",\"2013-10-10T00:00:00\",\"2013-10-09T00:00:00\",\"2013-10-08T00:00:00\",\"2013-10-07T00:00:00\",\"2013-10-04T00:00:00\",\"2013-10-03T00:00:00\",\"2013-10-01T00:00:00\",\"2013-09-30T00:00:00\",\"2013-09-27T00:00:00\",\"2013-09-26T00:00:00\",\"2013-09-25T00:00:00\",\"2013-09-24T00:00:00\",\"2013-09-23T00:00:00\",\"2013-09-20T00:00:00\",\"2013-09-19T00:00:00\",\"2013-09-18T00:00:00\",\"2013-09-17T00:00:00\",\"2013-09-16T00:00:00\",\"2013-09-13T00:00:00\",\"2013-09-12T00:00:00\",\"2013-09-11T00:00:00\",\"2013-09-10T00:00:00\",\"2013-09-06T00:00:00\",\"2013-09-05T00:00:00\",\"2013-09-04T00:00:00\",\"2013-09-03T00:00:00\",\"2013-09-02T00:00:00\",\"2013-08-30T00:00:00\",\"2013-08-29T00:00:00\",\"2013-08-28T00:00:00\",\"2013-08-27T00:00:00\",\"2013-08-26T00:00:00\",\"2013-08-23T00:00:00\",\"2013-08-22T00:00:00\",\"2013-08-21T00:00:00\",\"2013-08-20T00:00:00\",\"2013-08-19T00:00:00\",\"2013-08-16T00:00:00\",\"2013-08-14T00:00:00\",\"2013-08-13T00:00:00\",\"2013-08-12T00:00:00\",\"2013-08-08T00:00:00\",\"2013-08-07T00:00:00\",\"2013-08-06T00:00:00\",\"2013-08-05T00:00:00\",\"2013-08-02T00:00:00\",\"2013-08-01T00:00:00\",\"2013-07-31T00:00:00\",\"2013-07-30T00:00:00\",\"2013-07-29T00:00:00\",\"2013-07-26T00:00:00\",\"2013-07-25T00:00:00\",\"2013-07-24T00:00:00\",\"2013-07-23T00:00:00\",\"2013-07-22T00:00:00\",\"2013-07-19T00:00:00\",\"2013-07-18T00:00:00\",\"2013-07-17T00:00:00\",\"2013-07-16T00:00:00\",\"2013-07-15T00:00:00\",\"2013-07-12T00:00:00\",\"2013-07-11T00:00:00\",\"2013-07-10T00:00:00\",\"2013-07-09T00:00:00\",\"2013-07-08T00:00:00\",\"2013-07-05T00:00:00\",\"2013-07-04T00:00:00\",\"2013-07-03T00:00:00\",\"2013-07-02T00:00:00\",\"2013-07-01T00:00:00\",\"2013-06-28T00:00:00\",\"2013-06-27T00:00:00\",\"2013-06-26T00:00:00\",\"2013-06-25T00:00:00\",\"2013-06-24T00:00:00\",\"2013-06-21T00:00:00\",\"2013-06-20T00:00:00\",\"2013-06-19T00:00:00\",\"2013-06-18T00:00:00\",\"2013-06-17T00:00:00\",\"2013-06-14T00:00:00\",\"2013-06-13T00:00:00\",\"2013-06-12T00:00:00\",\"2013-06-11T00:00:00\",\"2013-06-10T00:00:00\",\"2013-06-07T00:00:00\",\"2013-06-06T00:00:00\",\"2013-06-05T00:00:00\",\"2013-06-04T00:00:00\",\"2013-06-03T00:00:00\",\"2013-05-31T00:00:00\",\"2013-05-30T00:00:00\",\"2013-05-29T00:00:00\",\"2013-05-28T00:00:00\",\"2013-05-27T00:00:00\",\"2013-05-24T00:00:00\",\"2013-05-23T00:00:00\",\"2013-05-22T00:00:00\",\"2013-05-21T00:00:00\",\"2013-05-20T00:00:00\",\"2013-05-17T00:00:00\",\"2013-05-16T00:00:00\",\"2013-05-15T00:00:00\",\"2013-05-14T00:00:00\",\"2013-05-13T00:00:00\",\"2013-05-11T00:00:00\",\"2013-05-10T00:00:00\",\"2013-05-09T00:00:00\",\"2013-05-08T00:00:00\",\"2013-05-07T00:00:00\",\"2013-05-06T00:00:00\",\"2013-05-03T00:00:00\",\"2013-05-02T00:00:00\",\"2013-04-30T00:00:00\",\"2013-04-29T00:00:00\",\"2013-04-26T00:00:00\",\"2013-04-25T00:00:00\",\"2013-04-23T00:00:00\",\"2013-04-22T00:00:00\",\"2013-04-18T00:00:00\",\"2013-04-17T00:00:00\",\"2013-04-16T00:00:00\",\"2013-04-15T00:00:00\",\"2013-04-12T00:00:00\",\"2013-04-11T00:00:00\",\"2013-04-10T00:00:00\",\"2013-04-09T00:00:00\",\"2013-04-08T00:00:00\",\"2013-04-05T00:00:00\",\"2013-04-04T00:00:00\",\"2013-04-03T00:00:00\",\"2013-04-02T00:00:00\",\"2013-04-01T00:00:00\",\"2013-03-28T00:00:00\",\"2013-03-26T00:00:00\",\"2013-03-25T00:00:00\",\"2013-03-22T00:00:00\",\"2013-03-21T00:00:00\",\"2013-03-20T00:00:00\",\"2013-03-19T00:00:00\",\"2013-03-18T00:00:00\",\"2013-03-15T00:00:00\",\"2013-03-14T00:00:00\",\"2013-03-13T00:00:00\",\"2013-03-12T00:00:00\",\"2013-03-11T00:00:00\",\"2013-03-08T00:00:00\",\"2013-03-07T00:00:00\",\"2013-03-06T00:00:00\",\"2013-03-05T00:00:00\",\"2013-03-04T00:00:00\",\"2013-03-01T00:00:00\",\"2013-02-28T00:00:00\",\"2013-02-27T00:00:00\",\"2013-02-26T00:00:00\",\"2013-02-25T00:00:00\",\"2013-02-22T00:00:00\",\"2013-02-21T00:00:00\",\"2013-02-20T00:00:00\",\"2013-02-19T00:00:00\",\"2013-02-18T00:00:00\",\"2013-02-15T00:00:00\",\"2013-02-14T00:00:00\",\"2013-02-13T00:00:00\",\"2013-02-12T00:00:00\",\"2013-02-11T00:00:00\",\"2013-02-08T00:00:00\",\"2013-02-07T00:00:00\",\"2013-02-06T00:00:00\",\"2013-02-05T00:00:00\",\"2013-02-04T00:00:00\",\"2013-02-01T00:00:00\",\"2013-01-31T00:00:00\",\"2013-01-30T00:00:00\",\"2013-01-29T00:00:00\",\"2013-01-28T00:00:00\",\"2013-01-25T00:00:00\",\"2013-01-24T00:00:00\",\"2013-01-23T00:00:00\",\"2013-01-22T00:00:00\",\"2013-01-21T00:00:00\",\"2013-01-18T00:00:00\",\"2013-01-17T00:00:00\",\"2013-01-16T00:00:00\",\"2013-01-15T00:00:00\",\"2013-01-14T00:00:00\",\"2013-01-11T00:00:00\",\"2013-01-10T00:00:00\",\"2013-01-09T00:00:00\",\"2013-01-08T00:00:00\",\"2013-01-07T00:00:00\",\"2013-01-04T00:00:00\",\"2013-01-03T00:00:00\",\"2013-01-02T00:00:00\",\"2013-01-01T00:00:00\",\"2012-12-31T00:00:00\",\"2012-12-28T00:00:00\",\"2012-12-27T00:00:00\",\"2012-12-26T00:00:00\",\"2012-12-24T00:00:00\",\"2012-12-21T00:00:00\",\"2012-12-20T00:00:00\",\"2012-12-19T00:00:00\",\"2012-12-18T00:00:00\",\"2012-12-17T00:00:00\",\"2012-12-14T00:00:00\",\"2012-12-13T00:00:00\",\"2012-12-12T00:00:00\",\"2012-12-11T00:00:00\",\"2012-12-10T00:00:00\",\"2012-12-07T00:00:00\",\"2012-12-06T00:00:00\",\"2012-12-05T00:00:00\",\"2012-12-04T00:00:00\",\"2012-12-03T00:00:00\",\"2012-11-30T00:00:00\",\"2012-11-29T00:00:00\",\"2012-11-27T00:00:00\",\"2012-11-26T00:00:00\",\"2012-11-23T00:00:00\",\"2012-11-22T00:00:00\",\"2012-11-21T00:00:00\",\"2012-11-20T00:00:00\",\"2012-11-19T00:00:00\",\"2012-11-16T00:00:00\",\"2012-11-15T00:00:00\",\"2012-11-13T00:00:00\",\"2012-11-12T00:00:00\",\"2012-11-09T00:00:00\",\"2012-11-08T00:00:00\",\"2012-11-07T00:00:00\",\"2012-11-06T00:00:00\",\"2012-11-05T00:00:00\",\"2012-11-02T00:00:00\",\"2012-11-01T00:00:00\",\"2012-10-31T00:00:00\",\"2012-10-30T00:00:00\",\"2012-10-29T00:00:00\",\"2012-10-26T00:00:00\",\"2012-10-25T00:00:00\",\"2012-10-23T00:00:00\",\"2012-10-22T00:00:00\",\"2012-10-19T00:00:00\",\"2012-10-18T00:00:00\",\"2012-10-17T00:00:00\",\"2012-10-16T00:00:00\",\"2012-10-15T00:00:00\",\"2012-10-12T00:00:00\",\"2012-10-11T00:00:00\",\"2012-10-10T00:00:00\",\"2012-10-09T00:00:00\",\"2012-10-08T00:00:00\",\"2012-10-05T00:00:00\",\"2012-10-04T00:00:00\",\"2012-10-03T00:00:00\",\"2012-10-01T00:00:00\",\"2012-09-28T00:00:00\",\"2012-09-27T00:00:00\",\"2012-09-26T00:00:00\",\"2012-09-25T00:00:00\",\"2012-09-24T00:00:00\",\"2012-09-21T00:00:00\",\"2012-09-20T00:00:00\",\"2012-09-18T00:00:00\",\"2012-09-17T00:00:00\",\"2012-09-14T00:00:00\",\"2012-09-13T00:00:00\",\"2012-09-12T00:00:00\",\"2012-09-11T00:00:00\",\"2012-09-10T00:00:00\",\"2012-09-08T00:00:00\",\"2012-09-07T00:00:00\",\"2012-09-06T00:00:00\",\"2012-09-05T00:00:00\",\"2012-09-04T00:00:00\",\"2012-09-03T00:00:00\",\"2012-08-31T00:00:00\",\"2012-08-30T00:00:00\",\"2012-08-29T00:00:00\",\"2012-08-28T00:00:00\",\"2012-08-27T00:00:00\",\"2012-08-24T00:00:00\",\"2012-08-23T00:00:00\",\"2012-08-22T00:00:00\",\"2012-08-21T00:00:00\",\"2012-08-17T00:00:00\",\"2012-08-16T00:00:00\",\"2012-08-14T00:00:00\",\"2012-08-13T00:00:00\",\"2012-08-10T00:00:00\",\"2012-08-09T00:00:00\",\"2012-08-08T00:00:00\",\"2012-08-07T00:00:00\",\"2012-08-06T00:00:00\",\"2012-08-03T00:00:00\",\"2012-08-02T00:00:00\",\"2012-08-01T00:00:00\",\"2012-07-31T00:00:00\",\"2012-07-30T00:00:00\",\"2012-07-27T00:00:00\",\"2012-07-26T00:00:00\",\"2012-07-25T00:00:00\",\"2012-07-24T00:00:00\",\"2012-07-23T00:00:00\",\"2012-07-20T00:00:00\",\"2012-07-19T00:00:00\",\"2012-07-18T00:00:00\",\"2012-07-17T00:00:00\",\"2012-07-16T00:00:00\",\"2012-07-13T00:00:00\",\"2012-07-12T00:00:00\",\"2012-07-11T00:00:00\",\"2012-07-10T00:00:00\",\"2012-07-09T00:00:00\",\"2012-07-06T00:00:00\",\"2012-07-05T00:00:00\",\"2012-07-04T00:00:00\",\"2012-07-03T00:00:00\",\"2012-07-02T00:00:00\",\"2012-06-29T00:00:00\",\"2012-06-28T00:00:00\",\"2012-06-27T00:00:00\",\"2012-06-26T00:00:00\",\"2012-06-25T00:00:00\",\"2012-06-22T00:00:00\",\"2012-06-21T00:00:00\",\"2012-06-20T00:00:00\",\"2012-06-19T00:00:00\",\"2012-06-18T00:00:00\",\"2012-06-15T00:00:00\",\"2012-06-14T00:00:00\",\"2012-06-13T00:00:00\",\"2012-06-12T00:00:00\",\"2012-06-11T00:00:00\",\"2012-06-08T00:00:00\",\"2012-06-07T00:00:00\",\"2012-06-06T00:00:00\",\"2012-06-05T00:00:00\",\"2012-06-04T00:00:00\",\"2012-06-01T00:00:00\",\"2012-05-31T00:00:00\",\"2012-05-30T00:00:00\",\"2012-05-29T00:00:00\",\"2012-05-28T00:00:00\",\"2012-05-25T00:00:00\",\"2012-05-24T00:00:00\",\"2012-05-23T00:00:00\",\"2012-05-22T00:00:00\",\"2012-05-21T00:00:00\",\"2012-05-18T00:00:00\",\"2012-05-17T00:00:00\",\"2012-05-16T00:00:00\",\"2012-05-15T00:00:00\",\"2012-05-14T00:00:00\",\"2012-05-11T00:00:00\",\"2012-05-10T00:00:00\",\"2012-05-09T00:00:00\",\"2012-05-08T00:00:00\",\"2012-05-07T00:00:00\",\"2012-05-04T00:00:00\",\"2012-05-03T00:00:00\",\"2012-05-02T00:00:00\",\"2012-04-30T00:00:00\",\"2012-04-28T00:00:00\",\"2012-04-27T00:00:00\",\"2012-04-26T00:00:00\",\"2012-04-25T00:00:00\",\"2012-04-24T00:00:00\",\"2012-04-23T00:00:00\",\"2012-04-20T00:00:00\",\"2012-04-19T00:00:00\",\"2012-04-18T00:00:00\",\"2012-04-17T00:00:00\",\"2012-04-16T00:00:00\",\"2012-04-13T00:00:00\",\"2012-04-12T00:00:00\",\"2012-04-11T00:00:00\",\"2012-04-10T00:00:00\",\"2012-04-09T00:00:00\",\"2012-04-04T00:00:00\",\"2012-04-03T00:00:00\",\"2012-04-02T00:00:00\",\"2012-03-30T00:00:00\",\"2012-03-29T00:00:00\",\"2012-03-28T00:00:00\",\"2012-03-27T00:00:00\",\"2012-03-26T00:00:00\",\"2012-03-23T00:00:00\",\"2012-03-22T00:00:00\",\"2012-03-21T00:00:00\",\"2012-03-20T00:00:00\",\"2012-03-19T00:00:00\",\"2012-03-16T00:00:00\",\"2012-03-15T00:00:00\",\"2012-03-14T00:00:00\",\"2012-03-13T00:00:00\",\"2012-03-12T00:00:00\",\"2012-03-09T00:00:00\",\"2012-03-07T00:00:00\",\"2012-03-06T00:00:00\",\"2012-03-05T00:00:00\",\"2012-03-03T00:00:00\",\"2012-03-02T00:00:00\",\"2012-03-01T00:00:00\",\"2012-02-29T00:00:00\",\"2012-02-28T00:00:00\",\"2012-02-27T00:00:00\",\"2012-02-24T00:00:00\",\"2012-02-23T00:00:00\",\"2012-02-22T00:00:00\",\"2012-02-21T00:00:00\",\"2012-02-17T00:00:00\",\"2012-02-16T00:00:00\",\"2012-02-15T00:00:00\",\"2012-02-14T00:00:00\",\"2012-02-13T00:00:00\",\"2012-02-10T00:00:00\",\"2012-02-09T00:00:00\",\"2012-02-08T00:00:00\",\"2012-02-07T00:00:00\",\"2012-02-06T00:00:00\",\"2012-02-03T00:00:00\",\"2012-02-02T00:00:00\",\"2012-02-01T00:00:00\",\"2012-01-31T00:00:00\",\"2012-01-30T00:00:00\",\"2012-01-27T00:00:00\",\"2012-01-25T00:00:00\",\"2012-01-24T00:00:00\",\"2012-01-23T00:00:00\",\"2012-01-20T00:00:00\",\"2012-01-19T00:00:00\",\"2012-01-18T00:00:00\",\"2012-01-17T00:00:00\",\"2012-01-16T00:00:00\",\"2012-01-13T00:00:00\",\"2012-01-12T00:00:00\",\"2012-01-11T00:00:00\",\"2012-01-10T00:00:00\",\"2012-01-09T00:00:00\",\"2012-01-07T00:00:00\",\"2012-01-06T00:00:00\",\"2012-01-05T00:00:00\",\"2012-01-04T00:00:00\",\"2012-01-03T00:00:00\",\"2012-01-02T00:00:00\",\"2011-12-30T00:00:00\",\"2011-12-29T00:00:00\",\"2011-12-28T00:00:00\",\"2011-12-27T00:00:00\",\"2011-12-26T00:00:00\",\"2011-12-23T00:00:00\",\"2011-12-22T00:00:00\",\"2011-12-21T00:00:00\",\"2011-12-20T00:00:00\",\"2011-12-19T00:00:00\",\"2011-12-16T00:00:00\",\"2011-12-15T00:00:00\",\"2011-12-14T00:00:00\",\"2011-12-13T00:00:00\",\"2011-12-12T00:00:00\",\"2011-12-09T00:00:00\",\"2011-12-08T00:00:00\",\"2011-12-07T00:00:00\",\"2011-12-05T00:00:00\",\"2011-12-02T00:00:00\",\"2011-12-01T00:00:00\",\"2011-11-30T00:00:00\",\"2011-11-29T00:00:00\",\"2011-11-28T00:00:00\",\"2011-11-25T00:00:00\",\"2011-11-24T00:00:00\",\"2011-11-23T00:00:00\",\"2011-11-22T00:00:00\",\"2011-11-21T00:00:00\",\"2011-11-18T00:00:00\",\"2011-11-17T00:00:00\",\"2011-11-16T00:00:00\",\"2011-11-15T00:00:00\",\"2011-11-14T00:00:00\",\"2011-11-11T00:00:00\",\"2011-11-09T00:00:00\",\"2011-11-08T00:00:00\",\"2011-11-04T00:00:00\",\"2011-11-03T00:00:00\",\"2011-11-02T00:00:00\",\"2011-11-01T00:00:00\",\"2011-10-31T00:00:00\",\"2011-10-28T00:00:00\",\"2011-10-26T00:00:00\",\"2011-10-25T00:00:00\",\"2011-10-24T00:00:00\",\"2011-10-21T00:00:00\",\"2011-10-20T00:00:00\",\"2011-10-19T00:00:00\",\"2011-10-18T00:00:00\",\"2011-10-17T00:00:00\",\"2011-10-14T00:00:00\",\"2011-10-13T00:00:00\",\"2011-10-12T00:00:00\",\"2011-10-11T00:00:00\",\"2011-10-10T00:00:00\",\"2011-10-07T00:00:00\",\"2011-10-05T00:00:00\",\"2011-10-04T00:00:00\",\"2011-10-03T00:00:00\",\"2011-09-30T00:00:00\",\"2011-09-29T00:00:00\",\"2011-09-28T00:00:00\",\"2011-09-27T00:00:00\",\"2011-09-26T00:00:00\",\"2011-09-23T00:00:00\",\"2011-09-22T00:00:00\",\"2011-09-21T00:00:00\",\"2011-09-20T00:00:00\",\"2011-09-19T00:00:00\",\"2011-09-16T00:00:00\",\"2011-09-15T00:00:00\",\"2011-09-14T00:00:00\",\"2011-09-13T00:00:00\",\"2011-09-12T00:00:00\",\"2011-09-09T00:00:00\",\"2011-09-08T00:00:00\",\"2011-09-07T00:00:00\",\"2011-09-06T00:00:00\",\"2011-09-05T00:00:00\",\"2011-09-02T00:00:00\",\"2011-08-30T00:00:00\",\"2011-08-29T00:00:00\",\"2011-08-26T00:00:00\",\"2011-08-25T00:00:00\",\"2011-08-24T00:00:00\",\"2011-08-23T00:00:00\",\"2011-08-22T00:00:00\",\"2011-08-19T00:00:00\",\"2011-08-18T00:00:00\",\"2011-08-17T00:00:00\",\"2011-08-16T00:00:00\",\"2011-08-12T00:00:00\",\"2011-08-11T00:00:00\",\"2011-08-10T00:00:00\",\"2011-08-09T00:00:00\",\"2011-08-08T00:00:00\",\"2011-08-05T00:00:00\",\"2011-08-04T00:00:00\",\"2011-08-03T00:00:00\",\"2011-08-02T00:00:00\",\"2011-08-01T00:00:00\",\"2011-07-29T00:00:00\",\"2011-07-28T00:00:00\",\"2011-07-27T00:00:00\",\"2011-07-26T00:00:00\",\"2011-07-25T00:00:00\",\"2011-07-22T00:00:00\",\"2011-07-21T00:00:00\",\"2011-07-20T00:00:00\",\"2011-07-19T00:00:00\",\"2011-07-18T00:00:00\",\"2011-07-15T00:00:00\",\"2011-07-14T00:00:00\",\"2011-07-13T00:00:00\",\"2011-07-12T00:00:00\",\"2011-07-11T00:00:00\",\"2011-07-08T00:00:00\",\"2011-07-07T00:00:00\",\"2011-07-06T00:00:00\",\"2011-07-05T00:00:00\",\"2011-07-04T00:00:00\",\"2011-07-01T00:00:00\",\"2011-06-30T00:00:00\",\"2011-06-29T00:00:00\",\"2011-06-28T00:00:00\",\"2011-06-27T00:00:00\",\"2011-06-24T00:00:00\",\"2011-06-23T00:00:00\",\"2011-06-22T00:00:00\",\"2011-06-21T00:00:00\",\"2011-06-20T00:00:00\",\"2011-06-17T00:00:00\",\"2011-06-16T00:00:00\",\"2011-06-15T00:00:00\",\"2011-06-14T00:00:00\",\"2011-06-13T00:00:00\",\"2011-06-10T00:00:00\",\"2011-06-09T00:00:00\",\"2011-06-08T00:00:00\",\"2011-06-07T00:00:00\",\"2011-06-06T00:00:00\",\"2011-06-03T00:00:00\",\"2011-06-02T00:00:00\",\"2011-06-01T00:00:00\",\"2011-05-31T00:00:00\",\"2011-05-30T00:00:00\",\"2011-05-27T00:00:00\",\"2011-05-26T00:00:00\",\"2011-05-25T00:00:00\",\"2011-05-24T00:00:00\",\"2011-05-23T00:00:00\",\"2011-05-20T00:00:00\",\"2011-05-19T00:00:00\",\"2011-05-18T00:00:00\",\"2011-05-17T00:00:00\",\"2011-05-16T00:00:00\",\"2011-05-13T00:00:00\",\"2011-05-12T00:00:00\",\"2011-05-11T00:00:00\",\"2011-05-10T00:00:00\",\"2011-05-09T00:00:00\",\"2011-05-06T00:00:00\",\"2011-05-05T00:00:00\",\"2011-05-04T00:00:00\",\"2011-05-03T00:00:00\",\"2011-05-02T00:00:00\",\"2011-04-29T00:00:00\",\"2011-04-28T00:00:00\",\"2011-04-27T00:00:00\",\"2011-04-26T00:00:00\",\"2011-04-25T00:00:00\",\"2011-04-21T00:00:00\",\"2011-04-20T00:00:00\",\"2011-04-19T00:00:00\",\"2011-04-18T00:00:00\",\"2011-04-15T00:00:00\",\"2011-04-13T00:00:00\",\"2011-04-11T00:00:00\",\"2011-04-08T00:00:00\",\"2011-04-07T00:00:00\",\"2011-04-06T00:00:00\",\"2011-04-05T00:00:00\",\"2011-04-04T00:00:00\",\"2011-04-01T00:00:00\",\"2011-03-31T00:00:00\",\"2011-03-30T00:00:00\",\"2011-03-29T00:00:00\",\"2011-03-28T00:00:00\",\"2011-03-25T00:00:00\",\"2011-03-24T00:00:00\",\"2011-03-23T00:00:00\",\"2011-03-22T00:00:00\",\"2011-03-21T00:00:00\",\"2011-03-18T00:00:00\",\"2011-03-17T00:00:00\",\"2011-03-16T00:00:00\",\"2011-03-15T00:00:00\",\"2011-03-14T00:00:00\",\"2011-03-11T00:00:00\",\"2011-03-10T00:00:00\",\"2011-03-09T00:00:00\",\"2011-03-08T00:00:00\",\"2011-03-07T00:00:00\",\"2011-03-04T00:00:00\",\"2011-03-03T00:00:00\",\"2011-03-01T00:00:00\",\"2011-02-28T00:00:00\",\"2011-02-25T00:00:00\",\"2011-02-24T00:00:00\",\"2011-02-23T00:00:00\",\"2011-02-22T00:00:00\",\"2011-02-21T00:00:00\",\"2011-02-18T00:00:00\",\"2011-02-17T00:00:00\",\"2011-02-16T00:00:00\",\"2011-02-15T00:00:00\",\"2011-02-14T00:00:00\",\"2011-02-11T00:00:00\",\"2011-02-10T00:00:00\",\"2011-02-09T00:00:00\",\"2011-02-08T00:00:00\",\"2011-02-07T00:00:00\",\"2011-02-04T00:00:00\",\"2011-02-03T00:00:00\",\"2011-02-02T00:00:00\",\"2011-02-01T00:00:00\",\"2011-01-31T00:00:00\",\"2011-01-28T00:00:00\",\"2011-01-27T00:00:00\",\"2011-01-25T00:00:00\",\"2011-01-24T00:00:00\",\"2011-01-21T00:00:00\",\"2011-01-20T00:00:00\",\"2011-01-19T00:00:00\",\"2011-01-18T00:00:00\",\"2011-01-17T00:00:00\",\"2011-01-14T00:00:00\",\"2011-01-13T00:00:00\",\"2011-01-12T00:00:00\",\"2011-01-11T00:00:00\",\"2011-01-10T00:00:00\",\"2011-01-07T00:00:00\",\"2011-01-06T00:00:00\",\"2011-01-05T00:00:00\",\"2011-01-04T00:00:00\",\"2011-01-03T00:00:00\",\"2010-12-31T00:00:00\",\"2010-12-30T00:00:00\",\"2010-12-29T00:00:00\",\"2010-12-28T00:00:00\",\"2010-12-27T00:00:00\",\"2010-12-24T00:00:00\",\"2010-12-23T00:00:00\",\"2010-12-22T00:00:00\",\"2010-12-21T00:00:00\",\"2010-12-20T00:00:00\",\"2010-12-16T00:00:00\",\"2010-12-15T00:00:00\",\"2010-12-14T00:00:00\",\"2010-12-13T00:00:00\",\"2010-12-10T00:00:00\",\"2010-12-09T00:00:00\",\"2010-12-08T00:00:00\",\"2010-12-07T00:00:00\",\"2010-12-06T00:00:00\",\"2010-12-03T00:00:00\",\"2010-12-02T00:00:00\",\"2010-12-01T00:00:00\",\"2010-11-30T00:00:00\",\"2010-11-29T00:00:00\",\"2010-11-26T00:00:00\",\"2010-11-25T00:00:00\",\"2010-11-24T00:00:00\",\"2010-11-23T00:00:00\",\"2010-11-22T00:00:00\",\"2010-11-19T00:00:00\",\"2010-11-18T00:00:00\",\"2010-11-16T00:00:00\",\"2010-11-15T00:00:00\",\"2010-11-12T00:00:00\",\"2010-11-11T00:00:00\",\"2010-11-10T00:00:00\",\"2010-11-09T00:00:00\",\"2010-11-08T00:00:00\",\"2010-11-05T00:00:00\",\"2010-11-04T00:00:00\",\"2010-11-03T00:00:00\",\"2010-11-02T00:00:00\",\"2010-11-01T00:00:00\",\"2010-10-29T00:00:00\",\"2010-10-28T00:00:00\",\"2010-10-27T00:00:00\",\"2010-10-26T00:00:00\",\"2010-10-25T00:00:00\",\"2010-10-22T00:00:00\",\"2010-10-21T00:00:00\",\"2010-10-20T00:00:00\",\"2010-10-19T00:00:00\",\"2010-10-18T00:00:00\",\"2010-10-15T00:00:00\",\"2010-10-14T00:00:00\",\"2010-10-13T00:00:00\",\"2010-10-12T00:00:00\",\"2010-10-11T00:00:00\",\"2010-10-08T00:00:00\",\"2010-10-07T00:00:00\",\"2010-10-06T00:00:00\",\"2010-10-05T00:00:00\",\"2010-10-04T00:00:00\",\"2010-10-01T00:00:00\",\"2010-09-30T00:00:00\",\"2010-09-29T00:00:00\",\"2010-09-28T00:00:00\",\"2010-09-27T00:00:00\",\"2010-09-24T00:00:00\",\"2010-09-23T00:00:00\",\"2010-09-22T00:00:00\",\"2010-09-21T00:00:00\",\"2010-09-20T00:00:00\",\"2010-09-17T00:00:00\",\"2010-09-16T00:00:00\",\"2010-09-15T00:00:00\",\"2010-09-14T00:00:00\",\"2010-09-13T00:00:00\",\"2010-09-09T00:00:00\",\"2010-09-08T00:00:00\",\"2010-09-07T00:00:00\",\"2010-09-06T00:00:00\",\"2010-09-03T00:00:00\",\"2010-09-02T00:00:00\",\"2010-09-01T00:00:00\",\"2010-08-31T00:00:00\",\"2010-08-30T00:00:00\",\"2010-08-27T00:00:00\",\"2010-08-26T00:00:00\",\"2010-08-25T00:00:00\",\"2010-08-24T00:00:00\",\"2010-08-23T00:00:00\",\"2010-08-20T00:00:00\",\"2010-08-19T00:00:00\",\"2010-08-18T00:00:00\",\"2010-08-17T00:00:00\",\"2010-08-16T00:00:00\",\"2010-08-13T00:00:00\",\"2010-08-12T00:00:00\",\"2010-08-11T00:00:00\",\"2010-08-10T00:00:00\",\"2010-08-09T00:00:00\",\"2010-08-06T00:00:00\",\"2010-08-05T00:00:00\",\"2010-08-04T00:00:00\",\"2010-08-03T00:00:00\",\"2010-08-02T00:00:00\",\"2010-07-30T00:00:00\",\"2010-07-29T00:00:00\",\"2010-07-28T00:00:00\",\"2010-07-27T00:00:00\",\"2010-07-26T00:00:00\",\"2010-07-23T00:00:00\",\"2010-07-22T00:00:00\",\"2010-07-21T00:00:00\"],\"y\":[233.75,233.25,234.25,236.1,233.3,234.6,234.9,235.05,236.6,233.95,222.65,216.0,222.0,222.95,221.05,222.4,223.7,236.7,234.3,236.0,234.55,233.35,237.05,231.0,235.45,240.55,245.15,243.0,239.35,237.55,234.55,233.55,237.3,236.35,237.6,239.5,234.65,235.45,235.65,246.9,242.2,242.25,239.1,236.9,246.3,243.3,238.6,233.1,238.65,247.9,243.25,258.9,265.2,269.8,274.75,275.25,266.3,271.25,277.3,281.0,264.45,269.35,263.95,265.6,267.35,264.5,262.1,258.2,260.85,267.05,275.35,272.15,277.8,269.6,267.6,263.7,266.95,267.1,265.75,263.75,255.25,263.25,269.2,264.5,257.5,260.65,257.85,254.5,250.2,247.15,243.55,244.7,247.5,241.1,242.65,255.9,287.5,285.25,292.0,289.7,294.2,287.8,286.65,292.75,297.55,292.1,291.2,289.1,283.15,283.6,286.3,286.2,284.1,280.95,279.65,275.5,273.85,273.85,275.5,277.8,272.7,273.0,270.25,274.8,276.95,258.75,263.8,262.2,257.9,258.85,263.2,262.05,260.6,272.4,279.6,278.5,278.2,276.05,268.35,273.4,268.9,274.15,275.65,274.85,275.5,275.0,273.5,270.7,262.15,266.6,262.85,267.95,275.6,279.05,281.95,285.1,278.25,280.45,280.15,266.7,273.1,274.85,288.35,290.65,304.0,301.8,304.25,304.25,307.2,308.85,308.35,305.45,313.55,316.4,323.0,325.75,313.3,314.1,315.3,317.6,312.95,312.25,311.2,311.15,312.9,316.4,306.6,305.55,305.95,302.75,300.15,300.85,300.65,290.85,286.85,284.3,284.45,287.8,298.35,288.45,284.0,274.95,279.95,279.05,283.55,287.1,280.2,287.75,277.45,278.7,274.8,274.05,273.15,274.9,259.9,251.95,250.9,246.7,234.4,236.15,240.45,224.5,225.0,234.7,225.3,226.35,227.8,226.95,226.8,220.5,209.8,205.3,209.65,203.1,204.6,206.8,210.3,209.6,210.25,212.0,209.4,208.45,208.3,209.6,209.45,204.95,206.45,205.8,203.15,198.6,204.65,196.65,201.15,212.2,213.7,216.2,213.3,210.55,212.05,207.3,212.05,209.25,206.9,205.75,205.95,196.7,193.3,197.6,198.0,197.05,190.35,193.3,194.25,196.55,189.85,196.15,194.4,190.6,193.85,178.75,164.2,156.0,162.1,166.0,170.45,166.45,166.65,165.1,167.5,169.55,169.15,168.4,172.2,171.15,170.0,172.2,171.3,175.15,173.75,177.0,174.2,175.4,173.75,169.5,166.55,157.75,153.35,156.15,150.05,151.6,150.65,148.5,149.15,147.35,151.15,154.75,156.8,156.85,156.4,158.2,159.1,158.45,156.45,152.1,154.4,154.6,155.55,153.0,154.95,154.85,152.4,149.4,145.55,145.4,146.9,143.05,141.7,144.75,147.8,149.5,147.5,152.85,154.45,154.6,152.65,154.0,154.85,154.05,152.6,152.3,155.35,156.2,157.7,153.1,152.1,153.75,151.7,151.95,151.3,152.15,150.2,148.15,149.45,150.5,151.75,153.4,150.95,150.6,153.05,152.65,151.9,150.55,150.15,150.6,150.55,148.6,151.15,151.6,143.1,145.9,146.45,144.8,144.7,140.9,139.5,137.1,140.8,141.4,142.75,143.25,143.35,141.1,143.6,138.05,138.9,139.25,140.0,141.6,141.6,140.15,140.1,138.75,141.2,141.95,143.95,143.9,146.15,141.65,142.75,141.85,137.65,130.1,128.85,130.45,129.2,128.35,128.45,127.9,126.4,130.5,128.65,127.6,127.65,128.35,125.15,127.55,124.45,124.75,124.65,125.2,124.45,124.45,123.55,122.0,121.1,119.6,120.55,117.0,118.85,119.4,121.6,121.25,124.3,124.3,124.45,122.75,123.35,123.35,123.9,123.85,122.3,123.4,123.65,121.55,121.9,123.85,121.95,120.95,118.5,115.1,117.65,117.3,115.65,120.1,118.6,121.3,117.0,118.65,125.4,121.9,127.45,128.0,126.85,131.35,134.95,138.6,139.4,139.95,137.75,145.4,150.0,154.05,152.5,152.35,154.6,151.9,150.25,153.2,147.85,151.65,151.25,150.9,153.3,141.8,142.35,139.6,137.0,146.75,144.55,140.65,142.4,138.9,138.05,138.0,139.9,139.85,137.0,137.45,135.3,139.7,142.2,142.2,141.75,141.6,141.1,140.25,140.2,139.0,139.9,140.45,140.25,139.6,138.4,141.25,138.85,137.65,138.05,136.95,137.3,137.75,143.25,142.9,139.1,138.3,135.75,138.4,141.0,142.15,140.15,137.45,131.15,133.45,131.5,131.8,133.85,130.05,129.95,132.6,132.6,132.15,132.9,133.1,132.6,134.45,133.9,134.1,134.9,131.2,129.7,127.85,125.95,124.25,126.75,127.25,125.45,126.15,125.7,126.1,127.0,126.5,128.15,123.65,124.95,124.4,119.35,119.3,120.2,119.25,118.05,117.75,117.95,117.3,118.6,119.5,121.75,120.4,120.05,119.95,120.95,120.35,120.65,119.55,118.95,117.3,118.2,118.75,118.1,116.35,116.95,119.45,121.1,120.05,120.3,122.4,121.8,121.2,120.25,120.1,121.85,120.0,120.65,118.35,119.5,117.7,118.7,118.85,118.25,121.2,122.55,121.25,121.4,119.3,119.4,119.45,121.4,119.9,118.9,115.8,115.1,115.45,115.65,115.85,116.45,116.85,115.65,113.25,109.5,109.9,108.9,103.55,104.75,106.2,106.7,106.65,109.1,107.3,104.55,104.0,102.65,106.0,104.3,105.25,118.35,120.75,123.9,122.5,121.6,121.75,124.25,126.6,126.5,123.15,124.45,124.3,125.55,121.75,122.55,126.4,121.85,128.5,134.05,135.6,139.5,141.9,144.45,140.05,145.25,148.35,143.7,146.4,146.2,146.35,141.9,144.05,144.8,142.0,141.2,142.9,141.9,142.2,136.55,133.85,134.35,133.2,135.3,132.15,135.0,135.35,133.65,134.9,136.2,136.25,137.55,136.95,134.95,134.35,132.95,133.8,130.9,128.75,132.5,128.15,128.0,127.9,125.7,128.8,125.85,128.0,131.75,131.75,132.65,133.45,135.9,135.6,135.8,138.9,137.8,137.55,139.4,134.7,134.0,134.7,134.0,132.3,134.55,134.7,133.35,133.05,130.55,131.85,130.05,127.8,126.6,127.1,124.2,125.0,123.9,125.5,125.45,123.1,125.4,124.05,123.25,123.75,123.65,120.95,120.45,120.2,124.15,118.85,115.2,119.6,118.15,116.35,117.3,117.55,114.85,130.4,132.9,133.8,134.15,131.0,132.1,130.0,133.05,137.7,138.95,141.95,143.75,142.15,143.3,140.85,140.2,137.15,138.65,137.45,137.55,140.8,140.85,139.5,137.5,141.75,139.0,138.0,138.15,137.05,136.8,134.55,133.95,134.9,138.2,135.0,136.1,137.1,135.55,132.2,129.55,133.85,135.7,133.2,133.85,135.0,133.75,132.6,132.35,128.7,129.1,128.15,134.4,136.6,137.55,134.85,138.5,137.75,137.35,140.8,145.15,146.25,144.9,148.7,148.8,147.45,147.95,146.65,145.95,147.55,147.95,147.4,146.3,144.55,142.85,143.35,141.05,137.75,139.8,144.55,143.55,142.1,142.55,141.95,142.15,147.25,150.2,149.65,150.2,153.25,157.55,159.3,158.95,161.5,161.2,152.05,151.6,151.1,151.45,151.1,148.8,149.75,145.75,147.3,149.0,147.95,147.2,149.95,153.85,155.85,156.7,154.75,154.85,160.0,157.85,157.25,159.05,159.3,158.35,163.55,158.35,154.9,156.05,152.55,153.5,155.55,155.95,159.7,157.0,156.85,155.15,157.4,155.2,154.35,151.55,149.55,152.4,154.75,158.55,160.45,163.6,158.7,158.25,158.75,159.4,161.15,158.85,158.0,156.35,156.55,154.3,155.65,154.85,155.25,157.35,155.6,153.7,148.45,148.15,152.95,152.5,150.7,150.95,149.05,148.65,146.85,146.9,148.3,147.5,147.4,147.5,145.0,144.25,151.6,152.95,155.65,156.0,154.85,158.3,161.1,163.4,163.25,163.35,159.55,161.3,161.0,155.3,154.2,156.95,156.75,156.95,157.85,159.4,159.9,155.25,154.2,155.85,158.25,157.75,160.9,161.65,163.75,160.1,157.45,157.3,156.35,156.3,158.35,156.5,155.55,154.7,153.35,152.35,156.4,157.5,160.25,161.25,160.25,158.8,158.85,159.35,159.0,159.65,160.3,164.75,164.45,170.6,168.6,164.85,161.6,159.45,167.2,169.55,167.4,162.55,165.2,164.6,162.25,162.2,154.25,155.4,153.9,150.5,153.1,152.95,155.45,155.45,157.1,158.5,156.5,154.4,152.1,151.15,154.45,151.9,150.65,154.15,153.8,154.9,155.5,154.3,153.5,152.9,155.2,153.5,156.55,156.8,158.7,159.2,160.65,160.35,157.2,153.75,151.8,149.8,155.45,154.95,158.7,167.05,167.85,169.2,174.35,174.8,172.75,171.1,167.8,169.5,167.3,167.95,162.35,162.9,163.55,167.05,166.0,163.7,168.65,169.35,174.85,171.2,171.1,154.05,153.0,150.3,147.5,149.1,148.9,156.25,156.4,156.45,157.55,155.55,153.1,153.45,150.7,144.75,144.2,147.3,146.4,144.55,145.0,142.45,144.6,145.1,146.7,148.35,149.45,151.3,152.85,152.95,156.1,157.85,156.15,157.45,150.5,153.05,152.75,153.1,154.4,151.45,152.2,151.55,153.5,154.25,150.05,148.0,141.8,142.75,142.9,142.85,143.65,143.4,141.4,141.3,143.15,142.7,142.55,145.65,145.15,143.8,143.3,142.55,140.9,140.4,135.95,139.7,139.8,141.2,142.7,142.0,141.1,140.35,140.2,138.9,140.55,141.75,144.05,144.85,143.6,143.35,141.15,143.05,143.15,140.7,141.0,140.45,142.15,138.95,141.35,144.25,148.2,149.85,147.85,148.3,146.2,149.05,152.05,152.05,152.9,155.95,157.25,157.1,156.5,156.8,156.35,154.95,160.5,160.45,159.8,158.05,161.05,157.25,154.7,153.1,147.5,148.2,144.75,143.45,145.15,146.75,147.0,147.45,146.7,146.2,146.65,145.55,146.8,149.3,148.9,147.65,145.05,145.5,142.4,141.8,143.65,145.35,144.55,147.7,143.95,144.3,154.55,156.55,160.1,160.35,163.55,167.6,169.5,167.7,164.0,165.0,162.4,163.25,163.85,165.45,158.75,161.85,159.6,164.2,162.0,158.05,159.45,160.05,160.15,155.55,155.8,156.2,153.0,155.2,149.8,143.85,146.2,145.95,145.9,143.15,144.9,149.0,150.55,147.65,148.05,150.05,152.15,150.75,150.7,146.65,147.0,147.2,143.85,141.55,143.8,139.0,137.95,136.05,141.3,144.05,146.75,146.25,141.9,140.9,141.65,140.45,147.65,146.55,145.5,146.5,141.9,137.95,142.8,146.4,147.05,159.7,158.85,159.4,156.7,151.75,153.55,154.75,154.6,155.7,154.95,157.05,153.75,154.05,147.6,147.65,149.1,145.1,147.45,145.15,143.5,141.6,140.1,141.5,134.4,129.3,133.45,133.9,133.35,136.4,140.8,143.5,142.9,140.4,139.95,139.1,141.6,142.6,146.0,149.1,149.6,150.2,149.9,147.05,145.9,148.0,143.0,144.7,143.7,141.3,138.75,142.65,144.4,144.05,146.6,143.25,147.3,141.0,146.45,147.7,146.15,148.05,151.0,149.05,147.55,147.35,149.0,147.25,144.25,140.4,136.05,138.35,140.55,138.75,137.1,133.65,132.3,131.75,131.4,131.0,130.15,132.8,128.2,127.4,130.65,134.2,131.45,127.85,123.5,123.55,125.9,124.6,128.35,130.15,131.1,133.4,134.35,133.5,133.2,132.75,134.1,131.65,130.05,132.05,126.6,127.95,125.2,132.2,131.85,133.4,138.15,138.0,145.05,146.35,141.9,141.05,139.05,141.55,142.05,140.8,142.5,144.85,142.25,141.5,145.15,146.8,149.35,143.9,147.75,147.65,148.0,145.5,149.0,151.85,154.0,153.0,154.95,156.5,158.55,159.45,158.65,161.0,162.45,163.75,162.75,164.15,165.85,166.65,160.8,159.95,160.45,159.65,160.15,160.65,160.85,162.95,165.15,165.2,165.65,168.75,168.05,172.05,169.8,172.85,169.85,165.75,165.6,166.25,168.55,165.95,162.6,163.05,163.4,163.4,159.95,160.85,159.0,164.15,173.4,178.85,171.45,168.8,168.9,167.35,159.55,157.85,158.65,158.3,159.8,150.15,150.7,148.0,151.4,154.85,156.95,159.6,157.95,162.05,162.45,161.25,160.0,161.25,160.05,156.15,153.4,155.55,150.2,151.9,155.4,145.65,142.85,131.65,130.55,128.85,128.8,131.05,127.4,129.75,128.5,133.65,133.9,134.4,134.8,135.35,136.65,136.6,135.6,133.65,131.6,130.4,129.8,130.3,125.2,127.9,128.45,128.85,131.0,131.8,132.9,134.7,133.9,133.9,135.15,132.85,131.25,130.1,129.85,129.95,131.15,130.05,127.05,127.0,122.65,120.65,120.05,120.8,123.4,115.65,118.75,121.35,119.05,116.35,114.45,114.2,115.4,116.45,115.7,114.15,117.8,119.45,118.8,119.55,117.95,115.95,115.75,117.15,115.15,109.45,108.2,107.7,106.25,104.9,105.65,107.65,105.85,108.5,112.05,110.85,112.05,109.15,107.9,105.35,104.55,105.65,107.6,107.55,110.0,111.1,107.95,109.6,107.9,107.0,106.8,105.55,107.35,107.85,104.85,103.05,108.45,112.45,110.5,112.85,116.2,114.4,117.45,119.35,116.9,116.4,115.7,115.45,116.65,118.5,117.4,121.7,124.0,119.15,118.95,118.5,116.8,121.2,118.25,117.4,116.95,117.7,118.95,115.35,112.35,108.3,109.85,110.05,109.15,112.7,110.95,114.7,113.1,109.7,112.95,116.0,120.4,118.1,116.8,118.2,116.1,113.8,116.0,120.4,120.55,123.35,125.55,120.7,113.05,119.95,120.0,117.2,120.8,119.2,120.9,121.0,120.8,121.45,118.95,123.05,117.75,113.4,116.05,119.75,110.0,109.15,107.75,97.9,97.1,95.25,93.3,92.05,92.65,93.9,93.0,97.2,98.5,94.15,92.9,92.9,93.95,93.1,93.35,93.5,93.1,95.4,94.55,90.95,90.1,90.1,87.45,88.0,88.7,88.7,89.85,86.35,85.05,84.5,86.4,89.8,87.5,88.8,87.55,89.7,89.75,90.85,90.55,91.75,88.25,83.95,84.1,83.75,81.55,82.4,80.95,82.7,82.0,82.6,82.5,83.7,85.75,87.7,88.3,89.15,90.75,90.95,90.7,91.15,91.65,92.6,89.75,87.9,86.85,85.15,84.7,85.25,87.55,87.55,90.3,87.9,86.75,88.1,86.65,85.65,82.55,81.1,82.9,84.0,85.8,85.7,86.45,88.6,86.7,87.05,86.2,92.8,92.15,90.65,90.55,92.6,92.0,91.15,91.05,93.3,94.55,94.4,94.2,91.6,92.7,93.55,93.35,89.35,92.15,91.2,92.1,90.6,87.6,88.6,95.35,98.45,102.3,102.95,106.65,102.75,106.3,106.35,111.0,107.65,104.6,107.0,106.55,108.0,108.55,104.95,105.4,102.8,99.25,100.95,102.8,103.15,100.85,102.55,101.65,100.4,101.45,100.0,105.0,103.2,103.0,104.35,97.75,96.55,93.05,92.7,92.05,91.8,90.6,90.25,92.35,93.4,98.6,96.95,98.65,100.05,99.9,95.85,96.65,98.2,94.2,93.15,93.6,94.0,91.6,87.4,86.85,88.2,85.75,88.2,92.15,95.45,97.3,96.2,96.4,96.35,97.25,99.15,97.95,100.75,99.8,97.7,97.55,96.35,97.9,99.45,100.0,100.75,102.6,103.95,104.45,102.15,103.05,101.8,101.45,100.4,103.25,103.3,102.5,104.65,108.9,106.65,105.4,101.85,100.65,97.75,97.05,96.0,98.5,98.15,99.25,97.65,97.9,98.25,97.6,97.3,99.1,98.5,102.1,101.3,96.4,96.35,93.6,88.75,90.75,90.4,91.0,89.25,88.6,87.4,95.3,96.4,96.15,94.5,101.65,94.45,95.75,94.6,91.7,88.1,87.85,92.5,95.75,95.3,96.05,97.35,98.3,99.45,99.8,106.35,106.2,106.25,105.65,106.5,104.95,104.75,104.9,104.4,103.25,103.75,101.9,104.25,108.3,111.0,112.3,113.1,111.5,108.1,107.25,109.4,109.55,109.75,112.5,112.4,113.6,115.8,115.45,115.15,114.8,114.1,112.8,110.95,111.5,114.85,115.25,114.95,114.1,115.25,114.75,112.95,112.95,112.45,109.95,116.8,117.2,119.9,120.1,119.6,121.2,124.75,124.85,128.1,131.9,127.4,125.15,125.6,124.3,124.55,125.15,124.55,124.65,128.95,127.25,127.35,128.45,128.55,130.4,129.35,129.75,129.6,129.85,133.05,133.75,131.0,134.25,132.6,133.4,129.3,127.0,124.65,123.5,120.2,121.5,122.85,123.6,125.1,123.55,120.8,122.5,124.55,122.65,122.15,123.25,123.9,125.95,127.8,127.25,127.7,123.15,122.15,122.4,123.0,120.5,117.6,117.75,118.15,117.0,116.45,116.7,111.5,113.05,108.85,110.1,111.25,114.15,112.55,113.9,112.3,112.85,112.1,114.05,116.5,118.3,117.3,116.05,116.6,118.25,118.65,117.6,120.65,120.9,121.55],\"type\":\"scatter\"}],                        {\"template\":{\"data\":{\"histogram2dcontour\":[{\"type\":\"histogram2dcontour\",\"colorbar\":{\"outlinewidth\":0,\"ticks\":\"\"},\"colorscale\":[[0.0,\"#0d0887\"],[0.1111111111111111,\"#46039f\"],[0.2222222222222222,\"#7201a8\"],[0.3333333333333333,\"#9c179e\"],[0.4444444444444444,\"#bd3786\"],[0.5555555555555556,\"#d8576b\"],[0.6666666666666666,\"#ed7953\"],[0.7777777777777778,\"#fb9f3a\"],[0.8888888888888888,\"#fdca26\"],[1.0,\"#f0f921\"]]}],\"choropleth\":[{\"type\":\"choropleth\",\"colorbar\":{\"outlinewidth\":0,\"ticks\":\"\"}}],\"histogram2d\":[{\"type\":\"histogram2d\",\"colorbar\":{\"outlinewidth\":0,\"ticks\":\"\"},\"colorscale\":[[0.0,\"#0d0887\"],[0.1111111111111111,\"#46039f\"],[0.2222222222222222,\"#7201a8\"],[0.3333333333333333,\"#9c179e\"],[0.4444444444444444,\"#bd3786\"],[0.5555555555555556,\"#d8576b\"],[0.6666666666666666,\"#ed7953\"],[0.7777777777777778,\"#fb9f3a\"],[0.8888888888888888,\"#fdca26\"],[1.0,\"#f0f921\"]]}],\"heatmap\":[{\"type\":\"heatmap\",\"colorbar\":{\"outlinewidth\":0,\"ticks\":\"\"},\"colorscale\":[[0.0,\"#0d0887\"],[0.1111111111111111,\"#46039f\"],[0.2222222222222222,\"#7201a8\"],[0.3333333333333333,\"#9c179e\"],[0.4444444444444444,\"#bd3786\"],[0.5555555555555556,\"#d8576b\"],[0.6666666666666666,\"#ed7953\"],[0.7777777777777778,\"#fb9f3a\"],[0.8888888888888888,\"#fdca26\"],[1.0,\"#f0f921\"]]}],\"heatmapgl\":[{\"type\":\"heatmapgl\",\"colorbar\":{\"outlinewidth\":0,\"ticks\":\"\"},\"colorscale\":[[0.0,\"#0d0887\"],[0.1111111111111111,\"#46039f\"],[0.2222222222222222,\"#7201a8\"],[0.3333333333333333,\"#9c179e\"],[0.4444444444444444,\"#bd3786\"],[0.5555555555555556,\"#d8576b\"],[0.6666666666666666,\"#ed7953\"],[0.7777777777777778,\"#fb9f3a\"],[0.8888888888888888,\"#fdca26\"],[1.0,\"#f0f921\"]]}],\"contourcarpet\":[{\"type\":\"contourcarpet\",\"colorbar\":{\"outlinewidth\":0,\"ticks\":\"\"}}],\"contour\":[{\"type\":\"contour\",\"colorbar\":{\"outlinewidth\":0,\"ticks\":\"\"},\"colorscale\":[[0.0,\"#0d0887\"],[0.1111111111111111,\"#46039f\"],[0.2222222222222222,\"#7201a8\"],[0.3333333333333333,\"#9c179e\"],[0.4444444444444444,\"#bd3786\"],[0.5555555555555556,\"#d8576b\"],[0.6666666666666666,\"#ed7953\"],[0.7777777777777778,\"#fb9f3a\"],[0.8888888888888888,\"#fdca26\"],[1.0,\"#f0f921\"]]}],\"surface\":[{\"type\":\"surface\",\"colorbar\":{\"outlinewidth\":0,\"ticks\":\"\"},\"colorscale\":[[0.0,\"#0d0887\"],[0.1111111111111111,\"#46039f\"],[0.2222222222222222,\"#7201a8\"],[0.3333333333333333,\"#9c179e\"],[0.4444444444444444,\"#bd3786\"],[0.5555555555555556,\"#d8576b\"],[0.6666666666666666,\"#ed7953\"],[0.7777777777777778,\"#fb9f3a\"],[0.8888888888888888,\"#fdca26\"],[1.0,\"#f0f921\"]]}],\"mesh3d\":[{\"type\":\"mesh3d\",\"colorbar\":{\"outlinewidth\":0,\"ticks\":\"\"}}],\"scatter\":[{\"fillpattern\":{\"fillmode\":\"overlay\",\"size\":10,\"solidity\":0.2},\"type\":\"scatter\"}],\"parcoords\":[{\"type\":\"parcoords\",\"line\":{\"colorbar\":{\"outlinewidth\":0,\"ticks\":\"\"}}}],\"scatterpolargl\":[{\"type\":\"scatterpolargl\",\"marker\":{\"colorbar\":{\"outlinewidth\":0,\"ticks\":\"\"}}}],\"bar\":[{\"error_x\":{\"color\":\"#2a3f5f\"},\"error_y\":{\"color\":\"#2a3f5f\"},\"marker\":{\"line\":{\"color\":\"#E5ECF6\",\"width\":0.5},\"pattern\":{\"fillmode\":\"overlay\",\"size\":10,\"solidity\":0.2}},\"type\":\"bar\"}],\"scattergeo\":[{\"type\":\"scattergeo\",\"marker\":{\"colorbar\":{\"outlinewidth\":0,\"ticks\":\"\"}}}],\"scatterpolar\":[{\"type\":\"scatterpolar\",\"marker\":{\"colorbar\":{\"outlinewidth\":0,\"ticks\":\"\"}}}],\"histogram\":[{\"marker\":{\"pattern\":{\"fillmode\":\"overlay\",\"size\":10,\"solidity\":0.2}},\"type\":\"histogram\"}],\"scattergl\":[{\"type\":\"scattergl\",\"marker\":{\"colorbar\":{\"outlinewidth\":0,\"ticks\":\"\"}}}],\"scatter3d\":[{\"type\":\"scatter3d\",\"line\":{\"colorbar\":{\"outlinewidth\":0,\"ticks\":\"\"}},\"marker\":{\"colorbar\":{\"outlinewidth\":0,\"ticks\":\"\"}}}],\"scattermapbox\":[{\"type\":\"scattermapbox\",\"marker\":{\"colorbar\":{\"outlinewidth\":0,\"ticks\":\"\"}}}],\"scatterternary\":[{\"type\":\"scatterternary\",\"marker\":{\"colorbar\":{\"outlinewidth\":0,\"ticks\":\"\"}}}],\"scattercarpet\":[{\"type\":\"scattercarpet\",\"marker\":{\"colorbar\":{\"outlinewidth\":0,\"ticks\":\"\"}}}],\"carpet\":[{\"aaxis\":{\"endlinecolor\":\"#2a3f5f\",\"gridcolor\":\"white\",\"linecolor\":\"white\",\"minorgridcolor\":\"white\",\"startlinecolor\":\"#2a3f5f\"},\"baxis\":{\"endlinecolor\":\"#2a3f5f\",\"gridcolor\":\"white\",\"linecolor\":\"white\",\"minorgridcolor\":\"white\",\"startlinecolor\":\"#2a3f5f\"},\"type\":\"carpet\"}],\"table\":[{\"cells\":{\"fill\":{\"color\":\"#EBF0F8\"},\"line\":{\"color\":\"white\"}},\"header\":{\"fill\":{\"color\":\"#C8D4E3\"},\"line\":{\"color\":\"white\"}},\"type\":\"table\"}],\"barpolar\":[{\"marker\":{\"line\":{\"color\":\"#E5ECF6\",\"width\":0.5},\"pattern\":{\"fillmode\":\"overlay\",\"size\":10,\"solidity\":0.2}},\"type\":\"barpolar\"}],\"pie\":[{\"automargin\":true,\"type\":\"pie\"}]},\"layout\":{\"autotypenumbers\":\"strict\",\"colorway\":[\"#636efa\",\"#EF553B\",\"#00cc96\",\"#ab63fa\",\"#FFA15A\",\"#19d3f3\",\"#FF6692\",\"#B6E880\",\"#FF97FF\",\"#FECB52\"],\"font\":{\"color\":\"#2a3f5f\"},\"hovermode\":\"closest\",\"hoverlabel\":{\"align\":\"left\"},\"paper_bgcolor\":\"white\",\"plot_bgcolor\":\"#E5ECF6\",\"polar\":{\"bgcolor\":\"#E5ECF6\",\"angularaxis\":{\"gridcolor\":\"white\",\"linecolor\":\"white\",\"ticks\":\"\"},\"radialaxis\":{\"gridcolor\":\"white\",\"linecolor\":\"white\",\"ticks\":\"\"}},\"ternary\":{\"bgcolor\":\"#E5ECF6\",\"aaxis\":{\"gridcolor\":\"white\",\"linecolor\":\"white\",\"ticks\":\"\"},\"baxis\":{\"gridcolor\":\"white\",\"linecolor\":\"white\",\"ticks\":\"\"},\"caxis\":{\"gridcolor\":\"white\",\"linecolor\":\"white\",\"ticks\":\"\"}},\"coloraxis\":{\"colorbar\":{\"outlinewidth\":0,\"ticks\":\"\"}},\"colorscale\":{\"sequential\":[[0.0,\"#0d0887\"],[0.1111111111111111,\"#46039f\"],[0.2222222222222222,\"#7201a8\"],[0.3333333333333333,\"#9c179e\"],[0.4444444444444444,\"#bd3786\"],[0.5555555555555556,\"#d8576b\"],[0.6666666666666666,\"#ed7953\"],[0.7777777777777778,\"#fb9f3a\"],[0.8888888888888888,\"#fdca26\"],[1.0,\"#f0f921\"]],\"sequentialminus\":[[0.0,\"#0d0887\"],[0.1111111111111111,\"#46039f\"],[0.2222222222222222,\"#7201a8\"],[0.3333333333333333,\"#9c179e\"],[0.4444444444444444,\"#bd3786\"],[0.5555555555555556,\"#d8576b\"],[0.6666666666666666,\"#ed7953\"],[0.7777777777777778,\"#fb9f3a\"],[0.8888888888888888,\"#fdca26\"],[1.0,\"#f0f921\"]],\"diverging\":[[0,\"#8e0152\"],[0.1,\"#c51b7d\"],[0.2,\"#de77ae\"],[0.3,\"#f1b6da\"],[0.4,\"#fde0ef\"],[0.5,\"#f7f7f7\"],[0.6,\"#e6f5d0\"],[0.7,\"#b8e186\"],[0.8,\"#7fbc41\"],[0.9,\"#4d9221\"],[1,\"#276419\"]]},\"xaxis\":{\"gridcolor\":\"white\",\"linecolor\":\"white\",\"ticks\":\"\",\"title\":{\"standoff\":15},\"zerolinecolor\":\"white\",\"automargin\":true,\"zerolinewidth\":2},\"yaxis\":{\"gridcolor\":\"white\",\"linecolor\":\"white\",\"ticks\":\"\",\"title\":{\"standoff\":15},\"zerolinecolor\":\"white\",\"automargin\":true,\"zerolinewidth\":2},\"scene\":{\"xaxis\":{\"backgroundcolor\":\"#E5ECF6\",\"gridcolor\":\"white\",\"linecolor\":\"white\",\"showbackground\":true,\"ticks\":\"\",\"zerolinecolor\":\"white\",\"gridwidth\":2},\"yaxis\":{\"backgroundcolor\":\"#E5ECF6\",\"gridcolor\":\"white\",\"linecolor\":\"white\",\"showbackground\":true,\"ticks\":\"\",\"zerolinecolor\":\"white\",\"gridwidth\":2},\"zaxis\":{\"backgroundcolor\":\"#E5ECF6\",\"gridcolor\":\"white\",\"linecolor\":\"white\",\"showbackground\":true,\"ticks\":\"\",\"zerolinecolor\":\"white\",\"gridwidth\":2}},\"shapedefaults\":{\"line\":{\"color\":\"#2a3f5f\"}},\"annotationdefaults\":{\"arrowcolor\":\"#2a3f5f\",\"arrowhead\":0,\"arrowwidth\":1},\"geo\":{\"bgcolor\":\"white\",\"landcolor\":\"#E5ECF6\",\"subunitcolor\":\"white\",\"showland\":true,\"showlakes\":true,\"lakecolor\":\"white\"},\"title\":{\"x\":0.05},\"mapbox\":{\"style\":\"light\"}}},\"xaxis\":{\"rangeslider\":{\"visible\":true}},\"title\":{\"text\":\"Stock\"}},                        {\"responsive\": true}                    ).then(function(){\n",
       "                            \n",
       "var gd = document.getElementById('a55d11ca-a650-465b-b425-6b2e5e42275d');\n",
       "var x = new MutationObserver(function (mutations, observer) {{\n",
       "        var display = window.getComputedStyle(gd).display;\n",
       "        if (!display || display === 'none') {{\n",
       "            console.log([gd, 'removed!']);\n",
       "            Plotly.purge(gd);\n",
       "            observer.disconnect();\n",
       "        }}\n",
       "}});\n",
       "\n",
       "// Listen for the removal of the full notebook cells\n",
       "var notebookContainer = gd.closest('#notebook-container');\n",
       "if (notebookContainer) {{\n",
       "    x.observe(notebookContainer, {childList: true});\n",
       "}}\n",
       "\n",
       "// Listen for the clearing of the current output cell\n",
       "var outputEl = gd.closest('.output');\n",
       "if (outputEl) {{\n",
       "    x.observe(outputEl, {childList: true});\n",
       "}}\n",
       "\n",
       "                        })                };                });            </script>        </div>"
      ]
     },
     "metadata": {},
     "output_type": "display_data"
    }
   ],
   "source": [
    "import plotly.graph_objects as go\n",
    "\n",
    "fig=go.Figure(data=go.Scatter(x=df11,y=df1,mode=\"lines\",marker_color=\"seagreen\"))\n",
    "fig.update_xaxes(rangeslider_visible=True)\n",
    "fig.update_layout(title=\"Stock\")\n",
    "fig.show()"
   ]
  },
  {
   "cell_type": "markdown",
   "id": "c8bc0c66",
   "metadata": {
    "papermill": {
     "duration": 0.031712,
     "end_time": "2023-12-12T20:58:34.780999",
     "exception": false,
     "start_time": "2023-12-12T20:58:34.749287",
     "status": "completed"
    },
    "tags": []
   },
   "source": [
    "LSTM models can be influenced by the range of values in the data, so we use MinMax scaler to adjust the scale"
   ]
  },
  {
   "cell_type": "code",
   "execution_count": 24,
   "id": "eccc897c",
   "metadata": {
    "execution": {
     "iopub.execute_input": "2023-12-12T20:58:34.848380Z",
     "iopub.status.busy": "2023-12-12T20:58:34.847586Z",
     "iopub.status.idle": "2023-12-12T20:58:34.852034Z",
     "shell.execute_reply": "2023-12-12T20:58:34.851194Z"
    },
    "papermill": {
     "duration": 0.040642,
     "end_time": "2023-12-12T20:58:34.854296",
     "exception": false,
     "start_time": "2023-12-12T20:58:34.813654",
     "status": "completed"
    },
    "tags": []
   },
   "outputs": [],
   "source": [
    "import numpy as np"
   ]
  },
  {
   "cell_type": "code",
   "execution_count": 25,
   "id": "9a1ae6a5",
   "metadata": {
    "execution": {
     "iopub.execute_input": "2023-12-12T20:58:34.920538Z",
     "iopub.status.busy": "2023-12-12T20:58:34.920096Z",
     "iopub.status.idle": "2023-12-12T20:58:34.928258Z",
     "shell.execute_reply": "2023-12-12T20:58:34.927461Z"
    },
    "papermill": {
     "duration": 0.044864,
     "end_time": "2023-12-12T20:58:34.930777",
     "exception": false,
     "start_time": "2023-12-12T20:58:34.885913",
     "status": "completed"
    },
    "tags": []
   },
   "outputs": [
    {
     "data": {
      "text/plain": [
       "0      233.75\n",
       "1      233.25\n",
       "2      234.25\n",
       "3      236.10\n",
       "4      233.30\n",
       "        ...  \n",
       "2030   118.65\n",
       "2031   117.60\n",
       "2032   120.65\n",
       "2033   120.90\n",
       "2034   121.55\n",
       "Name: Close, Length: 2035, dtype: float64"
      ]
     },
     "execution_count": 25,
     "metadata": {},
     "output_type": "execute_result"
    }
   ],
   "source": [
    "df1"
   ]
  },
  {
   "cell_type": "code",
   "execution_count": 26,
   "id": "1b1c4032",
   "metadata": {
    "execution": {
     "iopub.execute_input": "2023-12-12T20:58:34.996964Z",
     "iopub.status.busy": "2023-12-12T20:58:34.996257Z",
     "iopub.status.idle": "2023-12-12T20:58:35.043173Z",
     "shell.execute_reply": "2023-12-12T20:58:35.041752Z"
    },
    "papermill": {
     "duration": 0.082949,
     "end_time": "2023-12-12T20:58:35.046313",
     "exception": false,
     "start_time": "2023-12-12T20:58:34.963364",
     "status": "completed"
    },
    "tags": []
   },
   "outputs": [],
   "source": [
    "from sklearn.preprocessing import MinMaxScaler\n",
    "scaler=MinMaxScaler(feature_range=(0,1))\n",
    "df1=scaler.fit_transform(np.array(df1).reshape(-1,1))"
   ]
  },
  {
   "cell_type": "code",
   "execution_count": 27,
   "id": "54d56049",
   "metadata": {
    "execution": {
     "iopub.execute_input": "2023-12-12T20:58:35.112972Z",
     "iopub.status.busy": "2023-12-12T20:58:35.112547Z",
     "iopub.status.idle": "2023-12-12T20:58:35.119135Z",
     "shell.execute_reply": "2023-12-12T20:58:35.117672Z"
    },
    "papermill": {
     "duration": 0.042621,
     "end_time": "2023-12-12T20:58:35.121640",
     "exception": false,
     "start_time": "2023-12-12T20:58:35.079019",
     "status": "completed"
    },
    "tags": []
   },
   "outputs": [
    {
     "name": "stdout",
     "output_type": "stream",
     "text": [
      "[[0.62418301]\n",
      " [0.62214052]\n",
      " [0.62622549]\n",
      " ...\n",
      " [0.1621732 ]\n",
      " [0.16319444]\n",
      " [0.16584967]]\n"
     ]
    }
   ],
   "source": [
    "print(df1)"
   ]
  },
  {
   "cell_type": "markdown",
   "id": "f9f6b739",
   "metadata": {
    "papermill": {
     "duration": 0.031455,
     "end_time": "2023-12-12T20:58:35.185022",
     "exception": false,
     "start_time": "2023-12-12T20:58:35.153567",
     "status": "completed"
    },
    "tags": []
   },
   "source": [
    "Dividing the dataset into two parts: one for training and the other for testing"
   ]
  },
  {
   "cell_type": "code",
   "execution_count": 28,
   "id": "c3b75a15",
   "metadata": {
    "execution": {
     "iopub.execute_input": "2023-12-12T20:58:35.251552Z",
     "iopub.status.busy": "2023-12-12T20:58:35.250430Z",
     "iopub.status.idle": "2023-12-12T20:58:35.256801Z",
     "shell.execute_reply": "2023-12-12T20:58:35.255773Z"
    },
    "papermill": {
     "duration": 0.042285,
     "end_time": "2023-12-12T20:58:35.259141",
     "exception": false,
     "start_time": "2023-12-12T20:58:35.216856",
     "status": "completed"
    },
    "tags": []
   },
   "outputs": [],
   "source": [
    "training_size=int(len(df1)*0.85)\n",
    "test_size=len(df1)-training_size\n",
    "train_data,test_data=df1[0:training_size,:],df1[training_size:len(df1),:1]"
   ]
  },
  {
   "cell_type": "code",
   "execution_count": 29,
   "id": "056cda31",
   "metadata": {
    "execution": {
     "iopub.execute_input": "2023-12-12T20:58:35.328446Z",
     "iopub.status.busy": "2023-12-12T20:58:35.327284Z",
     "iopub.status.idle": "2023-12-12T20:58:35.334427Z",
     "shell.execute_reply": "2023-12-12T20:58:35.333250Z"
    },
    "papermill": {
     "duration": 0.04379,
     "end_time": "2023-12-12T20:58:35.336807",
     "exception": false,
     "start_time": "2023-12-12T20:58:35.293017",
     "status": "completed"
    },
    "tags": []
   },
   "outputs": [
    {
     "data": {
      "text/plain": [
       "(1729, 306)"
      ]
     },
     "execution_count": 29,
     "metadata": {},
     "output_type": "execute_result"
    }
   ],
   "source": [
    "training_size,test_size"
   ]
  },
  {
   "cell_type": "code",
   "execution_count": 30,
   "id": "ffcea678",
   "metadata": {
    "execution": {
     "iopub.execute_input": "2023-12-12T20:58:35.402898Z",
     "iopub.status.busy": "2023-12-12T20:58:35.402089Z",
     "iopub.status.idle": "2023-12-12T20:58:35.409857Z",
     "shell.execute_reply": "2023-12-12T20:58:35.408724Z"
    },
    "papermill": {
     "duration": 0.04408,
     "end_time": "2023-12-12T20:58:35.412712",
     "exception": false,
     "start_time": "2023-12-12T20:58:35.368632",
     "status": "completed"
    },
    "tags": []
   },
   "outputs": [
    {
     "data": {
      "text/plain": [
       "array([[0.62418301],\n",
       "       [0.62214052],\n",
       "       [0.62622549],\n",
       "       ...,\n",
       "       [0.02920752],\n",
       "       [0.02328431],\n",
       "       [0.01919935]])"
      ]
     },
     "execution_count": 30,
     "metadata": {},
     "output_type": "execute_result"
    }
   ],
   "source": [
    "train_data"
   ]
  },
  {
   "cell_type": "markdown",
   "id": "05fe23dd",
   "metadata": {
    "papermill": {
     "duration": 0.031854,
     "end_time": "2023-12-12T20:58:35.477336",
     "exception": false,
     "start_time": "2023-12-12T20:58:35.445482",
     "status": "completed"
    },
    "tags": []
   },
   "source": [
    "convert an array of values into a dataset matrix"
   ]
  },
  {
   "cell_type": "code",
   "execution_count": 31,
   "id": "a7c1a9ee",
   "metadata": {
    "execution": {
     "iopub.execute_input": "2023-12-12T20:58:35.544100Z",
     "iopub.status.busy": "2023-12-12T20:58:35.543185Z",
     "iopub.status.idle": "2023-12-12T20:58:35.550325Z",
     "shell.execute_reply": "2023-12-12T20:58:35.549434Z"
    },
    "papermill": {
     "duration": 0.043457,
     "end_time": "2023-12-12T20:58:35.552840",
     "exception": false,
     "start_time": "2023-12-12T20:58:35.509383",
     "status": "completed"
    },
    "tags": []
   },
   "outputs": [],
   "source": [
    "import numpy\n",
    "def create_dataset(dataset, time_step=1):\n",
    "\tdataX, dataY = [], []\n",
    "\tfor i in range(len(dataset)-time_step-1):\n",
    "\t\ta = dataset[i:(i+time_step), 0]   ###i=0, 0,1,2,3-----99   100 \n",
    "\t\tdataX.append(a)\n",
    "\t\tdataY.append(dataset[i + time_step, 0])\n",
    "\treturn numpy.array(dataX), numpy.array(dataY)"
   ]
  },
  {
   "cell_type": "markdown",
   "id": "2b83f040",
   "metadata": {
    "papermill": {
     "duration": 0.033174,
     "end_time": "2023-12-12T20:58:35.618220",
     "exception": false,
     "start_time": "2023-12-12T20:58:35.585046",
     "status": "completed"
    },
    "tags": []
   },
   "source": [
    "reshape into X=t,t+1,t+2,t+3 and Y=t+4"
   ]
  },
  {
   "cell_type": "code",
   "execution_count": 32,
   "id": "21551231",
   "metadata": {
    "execution": {
     "iopub.execute_input": "2023-12-12T20:58:35.686370Z",
     "iopub.status.busy": "2023-12-12T20:58:35.685890Z",
     "iopub.status.idle": "2023-12-12T20:58:35.695944Z",
     "shell.execute_reply": "2023-12-12T20:58:35.694524Z"
    },
    "papermill": {
     "duration": 0.046461,
     "end_time": "2023-12-12T20:58:35.698580",
     "exception": false,
     "start_time": "2023-12-12T20:58:35.652119",
     "status": "completed"
    },
    "tags": []
   },
   "outputs": [],
   "source": [
    "time_step = 100\n",
    "X_train, y_train = create_dataset(train_data, time_step)\n",
    "X_test, ytest = create_dataset(test_data, time_step)"
   ]
  },
  {
   "cell_type": "code",
   "execution_count": 33,
   "id": "653fb567",
   "metadata": {
    "execution": {
     "iopub.execute_input": "2023-12-12T20:58:35.767212Z",
     "iopub.status.busy": "2023-12-12T20:58:35.766210Z",
     "iopub.status.idle": "2023-12-12T20:58:35.774788Z",
     "shell.execute_reply": "2023-12-12T20:58:35.773513Z"
    },
    "papermill": {
     "duration": 0.044414,
     "end_time": "2023-12-12T20:58:35.777236",
     "exception": false,
     "start_time": "2023-12-12T20:58:35.732822",
     "status": "completed"
    },
    "tags": []
   },
   "outputs": [
    {
     "name": "stdout",
     "output_type": "stream",
     "text": [
      "(1628, 100)\n",
      "(1628,)\n"
     ]
    },
    {
     "data": {
      "text/plain": [
       "(None, None)"
      ]
     },
     "execution_count": 33,
     "metadata": {},
     "output_type": "execute_result"
    }
   ],
   "source": [
    "print(X_train.shape), print(y_train.shape)"
   ]
  },
  {
   "cell_type": "markdown",
   "id": "6bd68b1d",
   "metadata": {
    "papermill": {
     "duration": 0.032026,
     "end_time": "2023-12-12T20:58:35.841990",
     "exception": false,
     "start_time": "2023-12-12T20:58:35.809964",
     "status": "completed"
    },
    "tags": []
   },
   "source": [
    "Change the input format to [groups of data, time sequence, characteristics], as needed for LSTM"
   ]
  },
  {
   "cell_type": "code",
   "execution_count": 34,
   "id": "381ddc6e",
   "metadata": {
    "execution": {
     "iopub.execute_input": "2023-12-12T20:58:35.908569Z",
     "iopub.status.busy": "2023-12-12T20:58:35.908136Z",
     "iopub.status.idle": "2023-12-12T20:58:35.913817Z",
     "shell.execute_reply": "2023-12-12T20:58:35.912694Z"
    },
    "papermill": {
     "duration": 0.042012,
     "end_time": "2023-12-12T20:58:35.916199",
     "exception": false,
     "start_time": "2023-12-12T20:58:35.874187",
     "status": "completed"
    },
    "tags": []
   },
   "outputs": [],
   "source": [
    "X_train =X_train.reshape(X_train.shape[0],X_train.shape[1] , 1)\n",
    "X_test = X_test.reshape(X_test.shape[0],X_test.shape[1] , 1)"
   ]
  },
  {
   "cell_type": "markdown",
   "id": "2dfef588",
   "metadata": {
    "papermill": {
     "duration": 0.033951,
     "end_time": "2023-12-12T20:58:35.982686",
     "exception": false,
     "start_time": "2023-12-12T20:58:35.948735",
     "status": "completed"
    },
    "tags": []
   },
   "source": [
    "# Create the Stocked LSTM model"
   ]
  },
  {
   "cell_type": "code",
   "execution_count": 35,
   "id": "38e4ab36",
   "metadata": {
    "execution": {
     "iopub.execute_input": "2023-12-12T20:58:36.050683Z",
     "iopub.status.busy": "2023-12-12T20:58:36.049900Z",
     "iopub.status.idle": "2023-12-12T20:58:36.206930Z",
     "shell.execute_reply": "2023-12-12T20:58:36.205714Z"
    },
    "papermill": {
     "duration": 0.194825,
     "end_time": "2023-12-12T20:58:36.209910",
     "exception": false,
     "start_time": "2023-12-12T20:58:36.015085",
     "status": "completed"
    },
    "tags": []
   },
   "outputs": [],
   "source": [
    "from tensorflow.keras.models import Sequential\n",
    "from tensorflow.keras.layers import Dense\n",
    "from tensorflow.keras.layers import LSTM\n",
    "from tensorflow.keras.layers import GRU"
   ]
  },
  {
   "cell_type": "code",
   "execution_count": 36,
   "id": "bf40dce2",
   "metadata": {
    "execution": {
     "iopub.execute_input": "2023-12-12T20:58:36.277968Z",
     "iopub.status.busy": "2023-12-12T20:58:36.277529Z",
     "iopub.status.idle": "2023-12-12T20:58:37.661836Z",
     "shell.execute_reply": "2023-12-12T20:58:37.660499Z"
    },
    "papermill": {
     "duration": 1.421137,
     "end_time": "2023-12-12T20:58:37.664634",
     "exception": false,
     "start_time": "2023-12-12T20:58:36.243497",
     "status": "completed"
    },
    "tags": []
   },
   "outputs": [],
   "source": [
    "model=Sequential()\n",
    "model.add(LSTM(50,return_sequences=True,input_shape=(100,1)))\n",
    "model.add(LSTM(50,return_sequences=True))\n",
    "#model.add(LSTM(50,return_sequences=True))\n",
    "model.add(GRU(50,return_sequences=True))\n",
    "model.add(LSTM(50))\n",
    "model.add(Dense(1))\n",
    "model.compile(loss='mean_squared_error',optimizer='adam')"
   ]
  },
  {
   "cell_type": "code",
   "execution_count": 37,
   "id": "c85e9a80",
   "metadata": {
    "execution": {
     "iopub.execute_input": "2023-12-12T20:58:37.731940Z",
     "iopub.status.busy": "2023-12-12T20:58:37.731367Z",
     "iopub.status.idle": "2023-12-12T20:58:37.757915Z",
     "shell.execute_reply": "2023-12-12T20:58:37.756604Z"
    },
    "papermill": {
     "duration": 0.068685,
     "end_time": "2023-12-12T20:58:37.766324",
     "exception": false,
     "start_time": "2023-12-12T20:58:37.697639",
     "status": "completed"
    },
    "tags": []
   },
   "outputs": [
    {
     "name": "stdout",
     "output_type": "stream",
     "text": [
      "Model: \"sequential\"\n",
      "_________________________________________________________________\n",
      " Layer (type)                Output Shape              Param #   \n",
      "=================================================================\n",
      " lstm (LSTM)                 (None, 100, 50)           10400     \n",
      "                                                                 \n",
      " lstm_1 (LSTM)               (None, 100, 50)           20200     \n",
      "                                                                 \n",
      " gru (GRU)                   (None, 100, 50)           15300     \n",
      "                                                                 \n",
      " lstm_2 (LSTM)               (None, 50)                20200     \n",
      "                                                                 \n",
      " dense (Dense)               (None, 1)                 51        \n",
      "                                                                 \n",
      "=================================================================\n",
      "Total params: 66151 (258.40 KB)\n",
      "Trainable params: 66151 (258.40 KB)\n",
      "Non-trainable params: 0 (0.00 Byte)\n",
      "_________________________________________________________________\n"
     ]
    }
   ],
   "source": [
    "model.summary()"
   ]
  },
  {
   "cell_type": "code",
   "execution_count": 38,
   "id": "003a589c",
   "metadata": {
    "execution": {
     "iopub.execute_input": "2023-12-12T20:58:37.838221Z",
     "iopub.status.busy": "2023-12-12T20:58:37.837552Z",
     "iopub.status.idle": "2023-12-12T20:58:37.867849Z",
     "shell.execute_reply": "2023-12-12T20:58:37.866426Z"
    },
    "papermill": {
     "duration": 0.072476,
     "end_time": "2023-12-12T20:58:37.873716",
     "exception": false,
     "start_time": "2023-12-12T20:58:37.801240",
     "status": "completed"
    },
    "tags": []
   },
   "outputs": [
    {
     "name": "stdout",
     "output_type": "stream",
     "text": [
      "Model: \"sequential\"\n",
      "_________________________________________________________________\n",
      " Layer (type)                Output Shape              Param #   \n",
      "=================================================================\n",
      " lstm (LSTM)                 (None, 100, 50)           10400     \n",
      "                                                                 \n",
      " lstm_1 (LSTM)               (None, 100, 50)           20200     \n",
      "                                                                 \n",
      " gru (GRU)                   (None, 100, 50)           15300     \n",
      "                                                                 \n",
      " lstm_2 (LSTM)               (None, 50)                20200     \n",
      "                                                                 \n",
      " dense (Dense)               (None, 1)                 51        \n",
      "                                                                 \n",
      "=================================================================\n",
      "Total params: 66151 (258.40 KB)\n",
      "Trainable params: 66151 (258.40 KB)\n",
      "Non-trainable params: 0 (0.00 Byte)\n",
      "_________________________________________________________________\n"
     ]
    }
   ],
   "source": [
    "model.summary()"
   ]
  },
  {
   "cell_type": "code",
   "execution_count": 39,
   "id": "65dd9f66",
   "metadata": {
    "execution": {
     "iopub.execute_input": "2023-12-12T20:58:37.949949Z",
     "iopub.status.busy": "2023-12-12T20:58:37.949555Z",
     "iopub.status.idle": "2023-12-12T21:16:52.697708Z",
     "shell.execute_reply": "2023-12-12T21:16:52.696503Z"
    },
    "papermill": {
     "duration": 1094.789207,
     "end_time": "2023-12-12T21:16:52.700434",
     "exception": false,
     "start_time": "2023-12-12T20:58:37.911227",
     "status": "completed"
    },
    "tags": []
   },
   "outputs": [
    {
     "name": "stdout",
     "output_type": "stream",
     "text": [
      "Epoch 1/200\n",
      "26/26 [==============================] - 16s 285ms/step - loss: 0.0191 - val_loss: 5.7426e-04\n",
      "Epoch 2/200\n",
      "26/26 [==============================] - 5s 208ms/step - loss: 0.0021 - val_loss: 6.1775e-04\n",
      "Epoch 3/200\n",
      "26/26 [==============================] - 6s 217ms/step - loss: 0.0016 - val_loss: 5.0074e-04\n",
      "Epoch 4/200\n",
      "26/26 [==============================] - 6s 213ms/step - loss: 0.0014 - val_loss: 5.1673e-04\n",
      "Epoch 5/200\n",
      "26/26 [==============================] - 6s 218ms/step - loss: 0.0014 - val_loss: 4.5231e-04\n",
      "Epoch 6/200\n",
      "26/26 [==============================] - 5s 207ms/step - loss: 0.0012 - val_loss: 4.0890e-04\n",
      "Epoch 7/200\n",
      "26/26 [==============================] - 5s 207ms/step - loss: 0.0011 - val_loss: 4.1916e-04\n",
      "Epoch 8/200\n",
      "26/26 [==============================] - 6s 215ms/step - loss: 0.0010 - val_loss: 3.9464e-04\n",
      "Epoch 9/200\n",
      "26/26 [==============================] - 6s 215ms/step - loss: 9.8801e-04 - val_loss: 3.7274e-04\n",
      "Epoch 10/200\n",
      "26/26 [==============================] - 5s 208ms/step - loss: 9.4960e-04 - val_loss: 4.3539e-04\n",
      "Epoch 11/200\n",
      "26/26 [==============================] - 6s 218ms/step - loss: 9.1646e-04 - val_loss: 3.4312e-04\n",
      "Epoch 12/200\n",
      "26/26 [==============================] - 5s 206ms/step - loss: 8.0990e-04 - val_loss: 3.7798e-04\n",
      "Epoch 13/200\n",
      "26/26 [==============================] - 5s 212ms/step - loss: 7.7856e-04 - val_loss: 3.3084e-04\n",
      "Epoch 14/200\n",
      "26/26 [==============================] - 6s 213ms/step - loss: 8.1377e-04 - val_loss: 3.6362e-04\n",
      "Epoch 15/200\n",
      "26/26 [==============================] - 5s 206ms/step - loss: 7.1953e-04 - val_loss: 3.9466e-04\n",
      "Epoch 16/200\n",
      "26/26 [==============================] - 6s 214ms/step - loss: 7.3387e-04 - val_loss: 3.0762e-04\n",
      "Epoch 17/200\n",
      "26/26 [==============================] - 6s 213ms/step - loss: 8.5002e-04 - val_loss: 3.0210e-04\n",
      "Epoch 18/200\n",
      "26/26 [==============================] - 5s 206ms/step - loss: 6.8362e-04 - val_loss: 3.0938e-04\n",
      "Epoch 19/200\n",
      "26/26 [==============================] - 5s 202ms/step - loss: 6.8659e-04 - val_loss: 2.9024e-04\n",
      "Epoch 20/200\n",
      "26/26 [==============================] - 5s 201ms/step - loss: 6.1255e-04 - val_loss: 2.9043e-04\n",
      "Epoch 21/200\n",
      "26/26 [==============================] - 5s 204ms/step - loss: 5.8377e-04 - val_loss: 2.9816e-04\n",
      "Epoch 22/200\n",
      "26/26 [==============================] - 6s 214ms/step - loss: 6.7203e-04 - val_loss: 2.7188e-04\n",
      "Epoch 23/200\n",
      "26/26 [==============================] - 5s 204ms/step - loss: 5.1459e-04 - val_loss: 2.7651e-04\n",
      "Epoch 24/200\n",
      "26/26 [==============================] - 5s 205ms/step - loss: 5.2369e-04 - val_loss: 2.7326e-04\n",
      "Epoch 25/200\n",
      "26/26 [==============================] - 5s 207ms/step - loss: 6.1233e-04 - val_loss: 3.1050e-04\n",
      "Epoch 26/200\n",
      "26/26 [==============================] - 5s 207ms/step - loss: 5.3306e-04 - val_loss: 2.4599e-04\n",
      "Epoch 27/200\n",
      "26/26 [==============================] - 5s 204ms/step - loss: 4.7191e-04 - val_loss: 2.4916e-04\n",
      "Epoch 28/200\n",
      "26/26 [==============================] - 6s 212ms/step - loss: 4.3384e-04 - val_loss: 2.3498e-04\n",
      "Epoch 29/200\n",
      "26/26 [==============================] - 5s 202ms/step - loss: 4.6064e-04 - val_loss: 2.3105e-04\n",
      "Epoch 30/200\n",
      "26/26 [==============================] - 5s 206ms/step - loss: 4.0708e-04 - val_loss: 2.2133e-04\n",
      "Epoch 31/200\n",
      "26/26 [==============================] - 5s 201ms/step - loss: 4.5274e-04 - val_loss: 2.2373e-04\n",
      "Epoch 32/200\n",
      "26/26 [==============================] - 5s 206ms/step - loss: 3.7941e-04 - val_loss: 2.2684e-04\n",
      "Epoch 33/200\n",
      "26/26 [==============================] - 5s 203ms/step - loss: 3.5577e-04 - val_loss: 2.0512e-04\n",
      "Epoch 34/200\n",
      "26/26 [==============================] - 6s 214ms/step - loss: 3.9636e-04 - val_loss: 1.9767e-04\n",
      "Epoch 35/200\n",
      "26/26 [==============================] - 5s 203ms/step - loss: 3.4275e-04 - val_loss: 1.9329e-04\n",
      "Epoch 36/200\n",
      "26/26 [==============================] - 5s 205ms/step - loss: 3.6431e-04 - val_loss: 2.5721e-04\n",
      "Epoch 37/200\n",
      "26/26 [==============================] - 5s 203ms/step - loss: 3.1842e-04 - val_loss: 1.9163e-04\n",
      "Epoch 38/200\n",
      "26/26 [==============================] - 5s 204ms/step - loss: 4.0053e-04 - val_loss: 2.2614e-04\n",
      "Epoch 39/200\n",
      "26/26 [==============================] - 5s 205ms/step - loss: 3.5562e-04 - val_loss: 1.9315e-04\n",
      "Epoch 40/200\n",
      "26/26 [==============================] - 5s 207ms/step - loss: 2.7582e-04 - val_loss: 1.6585e-04\n",
      "Epoch 41/200\n",
      "26/26 [==============================] - 5s 204ms/step - loss: 2.7928e-04 - val_loss: 1.6638e-04\n",
      "Epoch 42/200\n",
      "26/26 [==============================] - 5s 203ms/step - loss: 2.5685e-04 - val_loss: 1.7041e-04\n",
      "Epoch 43/200\n",
      "26/26 [==============================] - 5s 211ms/step - loss: 2.8285e-04 - val_loss: 1.5355e-04\n",
      "Epoch 44/200\n",
      "26/26 [==============================] - 5s 207ms/step - loss: 2.6611e-04 - val_loss: 1.4759e-04\n",
      "Epoch 45/200\n",
      "26/26 [==============================] - 5s 206ms/step - loss: 2.6022e-04 - val_loss: 1.5409e-04\n",
      "Epoch 46/200\n",
      "26/26 [==============================] - 6s 215ms/step - loss: 2.3496e-04 - val_loss: 1.6045e-04\n",
      "Epoch 47/200\n",
      "26/26 [==============================] - 5s 209ms/step - loss: 2.8948e-04 - val_loss: 1.8071e-04\n",
      "Epoch 48/200\n",
      "26/26 [==============================] - 5s 201ms/step - loss: 2.4960e-04 - val_loss: 1.3689e-04\n",
      "Epoch 49/200\n",
      "26/26 [==============================] - 5s 207ms/step - loss: 2.3418e-04 - val_loss: 1.3140e-04\n",
      "Epoch 50/200\n",
      "26/26 [==============================] - 5s 208ms/step - loss: 2.4437e-04 - val_loss: 1.5522e-04\n",
      "Epoch 51/200\n",
      "26/26 [==============================] - 5s 210ms/step - loss: 2.3395e-04 - val_loss: 1.2617e-04\n",
      "Epoch 52/200\n",
      "26/26 [==============================] - 6s 218ms/step - loss: 2.2531e-04 - val_loss: 1.2670e-04\n",
      "Epoch 53/200\n",
      "26/26 [==============================] - 5s 204ms/step - loss: 2.3839e-04 - val_loss: 1.3978e-04\n",
      "Epoch 54/200\n",
      "26/26 [==============================] - 6s 214ms/step - loss: 2.1773e-04 - val_loss: 1.2669e-04\n",
      "Epoch 55/200\n",
      "26/26 [==============================] - 5s 208ms/step - loss: 2.1541e-04 - val_loss: 1.2123e-04\n",
      "Epoch 56/200\n",
      "26/26 [==============================] - 5s 211ms/step - loss: 2.4540e-04 - val_loss: 1.6014e-04\n",
      "Epoch 57/200\n",
      "26/26 [==============================] - 5s 207ms/step - loss: 2.3850e-04 - val_loss: 1.2219e-04\n",
      "Epoch 58/200\n",
      "26/26 [==============================] - 6s 222ms/step - loss: 3.0549e-04 - val_loss: 1.2515e-04\n",
      "Epoch 59/200\n",
      "26/26 [==============================] - 5s 205ms/step - loss: 2.0312e-04 - val_loss: 1.1938e-04\n",
      "Epoch 60/200\n",
      "26/26 [==============================] - 5s 210ms/step - loss: 2.2092e-04 - val_loss: 1.2141e-04\n",
      "Epoch 61/200\n",
      "26/26 [==============================] - 5s 211ms/step - loss: 2.1585e-04 - val_loss: 1.1233e-04\n",
      "Epoch 62/200\n",
      "26/26 [==============================] - 6s 213ms/step - loss: 2.1232e-04 - val_loss: 1.2838e-04\n",
      "Epoch 63/200\n",
      "26/26 [==============================] - 6s 213ms/step - loss: 1.9265e-04 - val_loss: 1.2098e-04\n",
      "Epoch 64/200\n",
      "26/26 [==============================] - 6s 220ms/step - loss: 2.3047e-04 - val_loss: 1.4779e-04\n",
      "Epoch 65/200\n",
      "26/26 [==============================] - 5s 210ms/step - loss: 2.5207e-04 - val_loss: 1.2025e-04\n",
      "Epoch 66/200\n",
      "26/26 [==============================] - 5s 206ms/step - loss: 2.2763e-04 - val_loss: 1.0814e-04\n",
      "Epoch 67/200\n",
      "26/26 [==============================] - 5s 208ms/step - loss: 2.3005e-04 - val_loss: 1.0779e-04\n",
      "Epoch 68/200\n",
      "26/26 [==============================] - 5s 207ms/step - loss: 1.8803e-04 - val_loss: 1.0862e-04\n",
      "Epoch 69/200\n",
      "26/26 [==============================] - 5s 207ms/step - loss: 2.1888e-04 - val_loss: 1.2485e-04\n",
      "Epoch 70/200\n",
      "26/26 [==============================] - 6s 213ms/step - loss: 2.2746e-04 - val_loss: 1.1629e-04\n",
      "Epoch 71/200\n",
      "26/26 [==============================] - 5s 205ms/step - loss: 2.2063e-04 - val_loss: 1.0692e-04\n",
      "Epoch 72/200\n",
      "26/26 [==============================] - 5s 205ms/step - loss: 2.1581e-04 - val_loss: 1.0276e-04\n",
      "Epoch 73/200\n",
      "26/26 [==============================] - 5s 204ms/step - loss: 2.1097e-04 - val_loss: 1.0660e-04\n",
      "Epoch 74/200\n",
      "26/26 [==============================] - 5s 203ms/step - loss: 2.1909e-04 - val_loss: 1.1621e-04\n",
      "Epoch 75/200\n",
      "26/26 [==============================] - 5s 204ms/step - loss: 1.9358e-04 - val_loss: 1.3066e-04\n",
      "Epoch 76/200\n",
      "26/26 [==============================] - 6s 219ms/step - loss: 1.8989e-04 - val_loss: 1.0246e-04\n",
      "Epoch 77/200\n",
      "26/26 [==============================] - 5s 211ms/step - loss: 1.9459e-04 - val_loss: 1.2173e-04\n",
      "Epoch 78/200\n",
      "26/26 [==============================] - 5s 209ms/step - loss: 2.0051e-04 - val_loss: 1.3781e-04\n",
      "Epoch 79/200\n",
      "26/26 [==============================] - 5s 208ms/step - loss: 2.3063e-04 - val_loss: 1.7326e-04\n",
      "Epoch 80/200\n",
      "26/26 [==============================] - 5s 207ms/step - loss: 2.2012e-04 - val_loss: 1.0631e-04\n",
      "Epoch 81/200\n",
      "26/26 [==============================] - 6s 214ms/step - loss: 2.5008e-04 - val_loss: 1.8581e-04\n",
      "Epoch 82/200\n",
      "26/26 [==============================] - 6s 222ms/step - loss: 2.9788e-04 - val_loss: 1.0720e-04\n",
      "Epoch 83/200\n",
      "26/26 [==============================] - 5s 208ms/step - loss: 1.8911e-04 - val_loss: 9.8788e-05\n",
      "Epoch 84/200\n",
      "26/26 [==============================] - 5s 212ms/step - loss: 2.1518e-04 - val_loss: 9.7692e-05\n",
      "Epoch 85/200\n",
      "26/26 [==============================] - 5s 207ms/step - loss: 1.9995e-04 - val_loss: 9.6542e-05\n",
      "Epoch 86/200\n",
      "26/26 [==============================] - 5s 207ms/step - loss: 1.8269e-04 - val_loss: 9.6443e-05\n",
      "Epoch 87/200\n",
      "26/26 [==============================] - 6s 220ms/step - loss: 2.0508e-04 - val_loss: 1.0253e-04\n",
      "Epoch 88/200\n",
      "26/26 [==============================] - 6s 214ms/step - loss: 2.1089e-04 - val_loss: 1.0064e-04\n",
      "Epoch 89/200\n",
      "26/26 [==============================] - 6s 216ms/step - loss: 2.1838e-04 - val_loss: 1.0843e-04\n",
      "Epoch 90/200\n",
      "26/26 [==============================] - 5s 205ms/step - loss: 2.4201e-04 - val_loss: 1.0382e-04\n",
      "Epoch 91/200\n",
      "26/26 [==============================] - 6s 212ms/step - loss: 2.3760e-04 - val_loss: 1.1333e-04\n",
      "Epoch 92/200\n",
      "26/26 [==============================] - 6s 215ms/step - loss: 2.2414e-04 - val_loss: 9.4327e-05\n",
      "Epoch 93/200\n",
      "26/26 [==============================] - 6s 222ms/step - loss: 1.9092e-04 - val_loss: 1.2340e-04\n",
      "Epoch 94/200\n",
      "26/26 [==============================] - 6s 215ms/step - loss: 1.8602e-04 - val_loss: 1.0113e-04\n",
      "Epoch 95/200\n",
      "26/26 [==============================] - 5s 203ms/step - loss: 1.9885e-04 - val_loss: 1.0476e-04\n",
      "Epoch 96/200\n",
      "26/26 [==============================] - 5s 211ms/step - loss: 1.9079e-04 - val_loss: 1.2085e-04\n",
      "Epoch 97/200\n",
      "26/26 [==============================] - 6s 215ms/step - loss: 2.0003e-04 - val_loss: 1.0245e-04\n",
      "Epoch 98/200\n",
      "26/26 [==============================] - 5s 208ms/step - loss: 2.3302e-04 - val_loss: 9.5225e-05\n",
      "Epoch 99/200\n",
      "26/26 [==============================] - 6s 219ms/step - loss: 2.0431e-04 - val_loss: 9.7138e-05\n",
      "Epoch 100/200\n",
      "26/26 [==============================] - 6s 214ms/step - loss: 1.8719e-04 - val_loss: 9.0849e-05\n",
      "Epoch 101/200\n",
      "26/26 [==============================] - 5s 209ms/step - loss: 2.3370e-04 - val_loss: 1.0152e-04\n",
      "Epoch 102/200\n",
      "26/26 [==============================] - 5s 207ms/step - loss: 1.9511e-04 - val_loss: 9.6740e-05\n",
      "Epoch 103/200\n",
      "26/26 [==============================] - 5s 206ms/step - loss: 2.1981e-04 - val_loss: 1.0931e-04\n",
      "Epoch 104/200\n",
      "26/26 [==============================] - 5s 203ms/step - loss: 1.8972e-04 - val_loss: 1.1329e-04\n",
      "Epoch 105/200\n",
      "26/26 [==============================] - 6s 220ms/step - loss: 1.8879e-04 - val_loss: 9.3755e-05\n",
      "Epoch 106/200\n",
      "26/26 [==============================] - 5s 199ms/step - loss: 1.8138e-04 - val_loss: 9.5302e-05\n",
      "Epoch 107/200\n",
      "26/26 [==============================] - 5s 205ms/step - loss: 1.8161e-04 - val_loss: 8.8803e-05\n",
      "Epoch 108/200\n",
      "26/26 [==============================] - 5s 204ms/step - loss: 1.7853e-04 - val_loss: 8.9298e-05\n",
      "Epoch 109/200\n",
      "26/26 [==============================] - 5s 202ms/step - loss: 1.7563e-04 - val_loss: 1.3148e-04\n",
      "Epoch 110/200\n",
      "26/26 [==============================] - 5s 207ms/step - loss: 2.2254e-04 - val_loss: 9.7598e-05\n",
      "Epoch 111/200\n",
      "26/26 [==============================] - 6s 216ms/step - loss: 2.7528e-04 - val_loss: 2.2776e-04\n",
      "Epoch 112/200\n",
      "26/26 [==============================] - 5s 203ms/step - loss: 2.8256e-04 - val_loss: 1.1199e-04\n",
      "Epoch 113/200\n",
      "26/26 [==============================] - 5s 203ms/step - loss: 2.0348e-04 - val_loss: 1.0766e-04\n",
      "Epoch 114/200\n",
      "26/26 [==============================] - 5s 202ms/step - loss: 1.8062e-04 - val_loss: 9.9383e-05\n",
      "Epoch 115/200\n",
      "26/26 [==============================] - 5s 203ms/step - loss: 2.0286e-04 - val_loss: 9.2380e-05\n",
      "Epoch 116/200\n",
      "26/26 [==============================] - 5s 204ms/step - loss: 1.9533e-04 - val_loss: 8.8787e-05\n",
      "Epoch 117/200\n",
      "26/26 [==============================] - 6s 213ms/step - loss: 1.9119e-04 - val_loss: 1.0842e-04\n",
      "Epoch 118/200\n",
      "26/26 [==============================] - 5s 204ms/step - loss: 2.1036e-04 - val_loss: 1.0313e-04\n",
      "Epoch 119/200\n",
      "26/26 [==============================] - 5s 204ms/step - loss: 1.8428e-04 - val_loss: 8.9686e-05\n",
      "Epoch 120/200\n",
      "26/26 [==============================] - 5s 205ms/step - loss: 1.9321e-04 - val_loss: 1.0862e-04\n",
      "Epoch 121/200\n",
      "26/26 [==============================] - 5s 204ms/step - loss: 1.9511e-04 - val_loss: 9.1725e-05\n",
      "Epoch 122/200\n",
      "26/26 [==============================] - 5s 212ms/step - loss: 1.8551e-04 - val_loss: 9.9831e-05\n",
      "Epoch 123/200\n",
      "26/26 [==============================] - 6s 215ms/step - loss: 1.8868e-04 - val_loss: 1.0156e-04\n",
      "Epoch 124/200\n",
      "26/26 [==============================] - 5s 205ms/step - loss: 1.9294e-04 - val_loss: 1.7745e-04\n",
      "Epoch 125/200\n",
      "26/26 [==============================] - 5s 203ms/step - loss: 2.2723e-04 - val_loss: 1.1009e-04\n",
      "Epoch 126/200\n",
      "26/26 [==============================] - 5s 206ms/step - loss: 1.9097e-04 - val_loss: 8.7924e-05\n",
      "Epoch 127/200\n",
      "26/26 [==============================] - 5s 203ms/step - loss: 1.7462e-04 - val_loss: 9.2212e-05\n",
      "Epoch 128/200\n",
      "26/26 [==============================] - 5s 206ms/step - loss: 1.8353e-04 - val_loss: 9.0844e-05\n",
      "Epoch 129/200\n",
      "26/26 [==============================] - 6s 220ms/step - loss: 2.2938e-04 - val_loss: 8.8017e-05\n",
      "Epoch 130/200\n",
      "26/26 [==============================] - 5s 206ms/step - loss: 1.9825e-04 - val_loss: 9.4902e-05\n",
      "Epoch 131/200\n",
      "26/26 [==============================] - 6s 219ms/step - loss: 1.8307e-04 - val_loss: 9.1888e-05\n",
      "Epoch 132/200\n",
      "26/26 [==============================] - 5s 205ms/step - loss: 2.0816e-04 - val_loss: 9.6523e-05\n",
      "Epoch 133/200\n",
      "26/26 [==============================] - 5s 210ms/step - loss: 2.7651e-04 - val_loss: 2.7760e-04\n",
      "Epoch 134/200\n",
      "26/26 [==============================] - 5s 207ms/step - loss: 2.9711e-04 - val_loss: 9.2367e-05\n",
      "Epoch 135/200\n",
      "26/26 [==============================] - 6s 217ms/step - loss: 1.7602e-04 - val_loss: 1.1982e-04\n",
      "Epoch 136/200\n",
      "26/26 [==============================] - 5s 206ms/step - loss: 1.8064e-04 - val_loss: 8.6145e-05\n",
      "Epoch 137/200\n",
      "26/26 [==============================] - 5s 208ms/step - loss: 1.9277e-04 - val_loss: 9.3702e-05\n",
      "Epoch 138/200\n",
      "26/26 [==============================] - 5s 207ms/step - loss: 1.9248e-04 - val_loss: 8.7088e-05\n",
      "Epoch 139/200\n",
      "26/26 [==============================] - 6s 214ms/step - loss: 2.2319e-04 - val_loss: 9.2381e-05\n",
      "Epoch 140/200\n",
      "26/26 [==============================] - 5s 207ms/step - loss: 1.9177e-04 - val_loss: 1.1230e-04\n",
      "Epoch 141/200\n",
      "26/26 [==============================] - 6s 215ms/step - loss: 1.8549e-04 - val_loss: 9.7571e-05\n",
      "Epoch 142/200\n",
      "26/26 [==============================] - 5s 211ms/step - loss: 1.7563e-04 - val_loss: 8.4485e-05\n",
      "Epoch 143/200\n",
      "26/26 [==============================] - 5s 206ms/step - loss: 1.8112e-04 - val_loss: 1.2599e-04\n",
      "Epoch 144/200\n",
      "26/26 [==============================] - 6s 213ms/step - loss: 2.4522e-04 - val_loss: 1.1760e-04\n",
      "Epoch 145/200\n",
      "26/26 [==============================] - 5s 201ms/step - loss: 2.2048e-04 - val_loss: 8.5079e-05\n",
      "Epoch 146/200\n",
      "26/26 [==============================] - 5s 211ms/step - loss: 1.9663e-04 - val_loss: 9.8128e-05\n",
      "Epoch 147/200\n",
      "26/26 [==============================] - 5s 210ms/step - loss: 1.8632e-04 - val_loss: 8.4754e-05\n",
      "Epoch 148/200\n",
      "26/26 [==============================] - 5s 207ms/step - loss: 1.7725e-04 - val_loss: 9.0479e-05\n",
      "Epoch 149/200\n",
      "26/26 [==============================] - 5s 206ms/step - loss: 2.1415e-04 - val_loss: 1.5025e-04\n",
      "Epoch 150/200\n",
      "26/26 [==============================] - 5s 208ms/step - loss: 2.1909e-04 - val_loss: 8.7324e-05\n",
      "Epoch 151/200\n",
      "26/26 [==============================] - 5s 204ms/step - loss: 2.5304e-04 - val_loss: 8.8952e-05\n",
      "Epoch 152/200\n",
      "26/26 [==============================] - 6s 218ms/step - loss: 2.0879e-04 - val_loss: 8.6994e-05\n",
      "Epoch 153/200\n",
      "26/26 [==============================] - 5s 203ms/step - loss: 1.8008e-04 - val_loss: 8.5027e-05\n",
      "Epoch 154/200\n",
      "26/26 [==============================] - 5s 204ms/step - loss: 1.7356e-04 - val_loss: 9.1022e-05\n",
      "Epoch 155/200\n",
      "26/26 [==============================] - 5s 199ms/step - loss: 1.7733e-04 - val_loss: 8.9567e-05\n",
      "Epoch 156/200\n",
      "26/26 [==============================] - 5s 206ms/step - loss: 2.4519e-04 - val_loss: 1.2102e-04\n",
      "Epoch 157/200\n",
      "26/26 [==============================] - 5s 203ms/step - loss: 1.8662e-04 - val_loss: 1.3683e-04\n",
      "Epoch 158/200\n",
      "26/26 [==============================] - 5s 210ms/step - loss: 1.9269e-04 - val_loss: 1.0184e-04\n",
      "Epoch 159/200\n",
      "26/26 [==============================] - 5s 206ms/step - loss: 2.0586e-04 - val_loss: 9.7792e-05\n",
      "Epoch 160/200\n",
      "26/26 [==============================] - 5s 211ms/step - loss: 2.0993e-04 - val_loss: 1.0997e-04\n",
      "Epoch 161/200\n",
      "26/26 [==============================] - 5s 204ms/step - loss: 1.8728e-04 - val_loss: 1.2290e-04\n",
      "Epoch 162/200\n",
      "26/26 [==============================] - 5s 207ms/step - loss: 2.2251e-04 - val_loss: 8.4505e-05\n",
      "Epoch 163/200\n",
      "26/26 [==============================] - 5s 207ms/step - loss: 1.7623e-04 - val_loss: 1.0226e-04\n",
      "Epoch 164/200\n",
      "26/26 [==============================] - 6s 221ms/step - loss: 1.6911e-04 - val_loss: 9.3198e-05\n",
      "Epoch 165/200\n",
      "26/26 [==============================] - 5s 207ms/step - loss: 1.7768e-04 - val_loss: 8.7985e-05\n",
      "Epoch 166/200\n",
      "26/26 [==============================] - 5s 203ms/step - loss: 1.9316e-04 - val_loss: 8.5927e-05\n",
      "Epoch 167/200\n",
      "26/26 [==============================] - 6s 217ms/step - loss: 2.2605e-04 - val_loss: 1.1699e-04\n",
      "Epoch 168/200\n",
      "26/26 [==============================] - 5s 202ms/step - loss: 1.8322e-04 - val_loss: 9.3310e-05\n",
      "Epoch 169/200\n",
      "26/26 [==============================] - 5s 204ms/step - loss: 1.8487e-04 - val_loss: 1.0080e-04\n",
      "Epoch 170/200\n",
      "26/26 [==============================] - 6s 215ms/step - loss: 1.8480e-04 - val_loss: 8.8201e-05\n",
      "Epoch 171/200\n",
      "26/26 [==============================] - 5s 201ms/step - loss: 1.7019e-04 - val_loss: 8.4992e-05\n",
      "Epoch 172/200\n",
      "26/26 [==============================] - 5s 203ms/step - loss: 1.8526e-04 - val_loss: 8.8839e-05\n",
      "Epoch 173/200\n",
      "26/26 [==============================] - 5s 207ms/step - loss: 2.1609e-04 - val_loss: 1.2499e-04\n",
      "Epoch 174/200\n",
      "26/26 [==============================] - 5s 205ms/step - loss: 1.7606e-04 - val_loss: 8.5105e-05\n",
      "Epoch 175/200\n",
      "26/26 [==============================] - 5s 210ms/step - loss: 1.6917e-04 - val_loss: 8.3460e-05\n",
      "Epoch 176/200\n",
      "26/26 [==============================] - 6s 223ms/step - loss: 1.8698e-04 - val_loss: 1.1404e-04\n",
      "Epoch 177/200\n",
      "26/26 [==============================] - 6s 213ms/step - loss: 2.1164e-04 - val_loss: 9.1841e-05\n",
      "Epoch 178/200\n",
      "26/26 [==============================] - 5s 209ms/step - loss: 1.8154e-04 - val_loss: 8.1962e-05\n",
      "Epoch 179/200\n",
      "26/26 [==============================] - 5s 203ms/step - loss: 1.8850e-04 - val_loss: 8.8746e-05\n",
      "Epoch 180/200\n",
      "26/26 [==============================] - 5s 212ms/step - loss: 2.2146e-04 - val_loss: 8.3564e-05\n",
      "Epoch 181/200\n",
      "26/26 [==============================] - 5s 209ms/step - loss: 1.9358e-04 - val_loss: 1.0813e-04\n",
      "Epoch 182/200\n",
      "26/26 [==============================] - 6s 215ms/step - loss: 2.4927e-04 - val_loss: 8.9171e-05\n",
      "Epoch 183/200\n",
      "26/26 [==============================] - 5s 207ms/step - loss: 2.0345e-04 - val_loss: 9.1419e-05\n",
      "Epoch 184/200\n",
      "26/26 [==============================] - 5s 208ms/step - loss: 1.7323e-04 - val_loss: 8.3722e-05\n",
      "Epoch 185/200\n",
      "26/26 [==============================] - 5s 205ms/step - loss: 1.9870e-04 - val_loss: 1.0999e-04\n",
      "Epoch 186/200\n",
      "26/26 [==============================] - 5s 204ms/step - loss: 2.1416e-04 - val_loss: 8.4308e-05\n",
      "Epoch 187/200\n",
      "26/26 [==============================] - 5s 208ms/step - loss: 1.8615e-04 - val_loss: 8.3049e-05\n",
      "Epoch 188/200\n",
      "26/26 [==============================] - 6s 215ms/step - loss: 1.7424e-04 - val_loss: 8.4880e-05\n",
      "Epoch 189/200\n",
      "26/26 [==============================] - 5s 201ms/step - loss: 2.1594e-04 - val_loss: 8.5409e-05\n",
      "Epoch 190/200\n",
      "26/26 [==============================] - 5s 209ms/step - loss: 1.8664e-04 - val_loss: 8.8318e-05\n",
      "Epoch 191/200\n",
      "26/26 [==============================] - 5s 203ms/step - loss: 1.8554e-04 - val_loss: 8.7408e-05\n",
      "Epoch 192/200\n",
      "26/26 [==============================] - 5s 203ms/step - loss: 1.7686e-04 - val_loss: 8.9660e-05\n",
      "Epoch 193/200\n",
      "26/26 [==============================] - 5s 205ms/step - loss: 1.6927e-04 - val_loss: 9.8968e-05\n",
      "Epoch 194/200\n",
      "26/26 [==============================] - 6s 218ms/step - loss: 1.7325e-04 - val_loss: 8.6820e-05\n",
      "Epoch 195/200\n",
      "26/26 [==============================] - 5s 201ms/step - loss: 1.7166e-04 - val_loss: 8.2457e-05\n",
      "Epoch 196/200\n",
      "26/26 [==============================] - 5s 209ms/step - loss: 1.9224e-04 - val_loss: 9.5485e-05\n",
      "Epoch 197/200\n",
      "26/26 [==============================] - 5s 205ms/step - loss: 1.6975e-04 - val_loss: 8.2976e-05\n",
      "Epoch 198/200\n",
      "26/26 [==============================] - 5s 206ms/step - loss: 1.8821e-04 - val_loss: 1.0203e-04\n",
      "Epoch 199/200\n",
      "26/26 [==============================] - 5s 203ms/step - loss: 1.7434e-04 - val_loss: 8.3336e-05\n",
      "Epoch 200/200\n",
      "26/26 [==============================] - 5s 212ms/step - loss: 1.9655e-04 - val_loss: 8.1719e-05\n"
     ]
    },
    {
     "data": {
      "text/plain": [
       "<keras.src.callbacks.History at 0x7e08b4049e10>"
      ]
     },
     "execution_count": 39,
     "metadata": {},
     "output_type": "execute_result"
    }
   ],
   "source": [
    "model.fit(X_train,y_train,validation_data=(X_test,ytest),epochs=200,batch_size=64,verbose=1)"
   ]
  },
  {
   "cell_type": "code",
   "execution_count": 40,
   "id": "c06a70cb",
   "metadata": {
    "execution": {
     "iopub.execute_input": "2023-12-12T21:16:53.916315Z",
     "iopub.status.busy": "2023-12-12T21:16:53.915914Z",
     "iopub.status.idle": "2023-12-12T21:16:53.921161Z",
     "shell.execute_reply": "2023-12-12T21:16:53.919987Z"
    },
    "papermill": {
     "duration": 0.651343,
     "end_time": "2023-12-12T21:16:53.923520",
     "exception": false,
     "start_time": "2023-12-12T21:16:53.272177",
     "status": "completed"
    },
    "tags": []
   },
   "outputs": [],
   "source": [
    "import tensorflow as tf"
   ]
  },
  {
   "cell_type": "code",
   "execution_count": 41,
   "id": "f974ae38",
   "metadata": {
    "execution": {
     "iopub.execute_input": "2023-12-12T21:16:55.081419Z",
     "iopub.status.busy": "2023-12-12T21:16:55.081004Z",
     "iopub.status.idle": "2023-12-12T21:16:55.088675Z",
     "shell.execute_reply": "2023-12-12T21:16:55.087458Z"
    },
    "papermill": {
     "duration": 0.587334,
     "end_time": "2023-12-12T21:16:55.091110",
     "exception": false,
     "start_time": "2023-12-12T21:16:54.503776",
     "status": "completed"
    },
    "tags": []
   },
   "outputs": [
    {
     "data": {
      "text/plain": [
       "['__notebook__.ipynb']"
      ]
     },
     "execution_count": 41,
     "metadata": {},
     "output_type": "execute_result"
    }
   ],
   "source": [
    "import os \n",
    "aa=os.listdir()\n",
    "aa"
   ]
  },
  {
   "cell_type": "code",
   "execution_count": 42,
   "id": "113a6b8d",
   "metadata": {
    "execution": {
     "iopub.execute_input": "2023-12-12T21:16:56.232666Z",
     "iopub.status.busy": "2023-12-12T21:16:56.231270Z",
     "iopub.status.idle": "2023-12-12T21:16:56.237911Z",
     "shell.execute_reply": "2023-12-12T21:16:56.236940Z"
    },
    "papermill": {
     "duration": 0.573767,
     "end_time": "2023-12-12T21:16:56.240359",
     "exception": false,
     "start_time": "2023-12-12T21:16:55.666592",
     "status": "completed"
    },
    "tags": []
   },
   "outputs": [
    {
     "data": {
      "text/plain": [
       "'2.13.0'"
      ]
     },
     "execution_count": 42,
     "metadata": {},
     "output_type": "execute_result"
    }
   ],
   "source": [
    "tf.__version__"
   ]
  },
  {
   "cell_type": "markdown",
   "id": "798dc3f0",
   "metadata": {
    "papermill": {
     "duration": 0.573034,
     "end_time": "2023-12-12T21:16:57.457352",
     "exception": false,
     "start_time": "2023-12-12T21:16:56.884318",
     "status": "completed"
    },
    "tags": []
   },
   "source": [
    "Let's make predictions and assess how well we did\n"
   ]
  },
  {
   "cell_type": "code",
   "execution_count": 43,
   "id": "ef458cfe",
   "metadata": {
    "execution": {
     "iopub.execute_input": "2023-12-12T21:16:58.599526Z",
     "iopub.status.busy": "2023-12-12T21:16:58.599113Z",
     "iopub.status.idle": "2023-12-12T21:17:03.372926Z",
     "shell.execute_reply": "2023-12-12T21:17:03.371715Z"
    },
    "papermill": {
     "duration": 5.350082,
     "end_time": "2023-12-12T21:17:03.375920",
     "exception": false,
     "start_time": "2023-12-12T21:16:58.025838",
     "status": "completed"
    },
    "tags": []
   },
   "outputs": [
    {
     "name": "stdout",
     "output_type": "stream",
     "text": [
      "51/51 [==============================] - 4s 51ms/step\n",
      "7/7 [==============================] - 0s 49ms/step\n"
     ]
    }
   ],
   "source": [
    "train_predict=model.predict(X_train)\n",
    "test_predict=model.predict(X_test)"
   ]
  },
  {
   "cell_type": "markdown",
   "id": "f969a82b",
   "metadata": {
    "papermill": {
     "duration": 0.6449,
     "end_time": "2023-12-12T21:17:04.598078",
     "exception": false,
     "start_time": "2023-12-12T21:17:03.953178",
     "status": "completed"
    },
    "tags": []
   },
   "source": [
    "Change back to how it was before"
   ]
  },
  {
   "cell_type": "code",
   "execution_count": 44,
   "id": "04c9a12f",
   "metadata": {
    "execution": {
     "iopub.execute_input": "2023-12-12T21:17:05.748276Z",
     "iopub.status.busy": "2023-12-12T21:17:05.747874Z",
     "iopub.status.idle": "2023-12-12T21:17:05.753822Z",
     "shell.execute_reply": "2023-12-12T21:17:05.752625Z"
    },
    "papermill": {
     "duration": 0.585533,
     "end_time": "2023-12-12T21:17:05.756087",
     "exception": false,
     "start_time": "2023-12-12T21:17:05.170554",
     "status": "completed"
    },
    "tags": []
   },
   "outputs": [],
   "source": [
    "train_predict=scaler.inverse_transform(train_predict)\n",
    "test_predict=scaler.inverse_transform(test_predict)"
   ]
  },
  {
   "cell_type": "markdown",
   "id": "7924dc7f",
   "metadata": {
    "papermill": {
     "duration": 0.641879,
     "end_time": "2023-12-12T21:17:06.964801",
     "exception": false,
     "start_time": "2023-12-12T21:17:06.322922",
     "status": "completed"
    },
    "tags": []
   },
   "source": [
    "Find the Root Mean Square Error to measure how well something is performing\n"
   ]
  },
  {
   "cell_type": "code",
   "execution_count": 45,
   "id": "c8af1db4",
   "metadata": {
    "execution": {
     "iopub.execute_input": "2023-12-12T21:17:08.106825Z",
     "iopub.status.busy": "2023-12-12T21:17:08.106248Z",
     "iopub.status.idle": "2023-12-12T21:17:08.215472Z",
     "shell.execute_reply": "2023-12-12T21:17:08.214260Z"
    },
    "papermill": {
     "duration": 0.684684,
     "end_time": "2023-12-12T21:17:08.218123",
     "exception": false,
     "start_time": "2023-12-12T21:17:07.533439",
     "status": "completed"
    },
    "tags": []
   },
   "outputs": [
    {
     "data": {
      "text/plain": [
       "156.60026313176152"
      ]
     },
     "execution_count": 45,
     "metadata": {},
     "output_type": "execute_result"
    }
   ],
   "source": [
    "import math\n",
    "from sklearn.metrics import mean_squared_error\n",
    "math.sqrt(mean_squared_error(y_train,train_predict))"
   ]
  },
  {
   "cell_type": "markdown",
   "id": "557bf084",
   "metadata": {
    "papermill": {
     "duration": 0.647167,
     "end_time": "2023-12-12T21:17:09.435180",
     "exception": false,
     "start_time": "2023-12-12T21:17:08.788013",
     "status": "completed"
    },
    "tags": []
   },
   "source": [
    "Root Mean Square Error for Test Data"
   ]
  },
  {
   "cell_type": "code",
   "execution_count": 46,
   "id": "6509bea3",
   "metadata": {
    "execution": {
     "iopub.execute_input": "2023-12-12T21:17:10.599652Z",
     "iopub.status.busy": "2023-12-12T21:17:10.598924Z",
     "iopub.status.idle": "2023-12-12T21:17:10.605559Z",
     "shell.execute_reply": "2023-12-12T21:17:10.604666Z"
    },
    "papermill": {
     "duration": 0.603793,
     "end_time": "2023-12-12T21:17:10.607774",
     "exception": false,
     "start_time": "2023-12-12T21:17:10.003981",
     "status": "completed"
    },
    "tags": []
   },
   "outputs": [
    {
     "data": {
      "text/plain": [
       "111.41102497462596"
      ]
     },
     "execution_count": 46,
     "metadata": {},
     "output_type": "execute_result"
    }
   ],
   "source": [
    "math.sqrt(mean_squared_error(ytest,test_predict))"
   ]
  },
  {
   "cell_type": "markdown",
   "id": "e1a49697",
   "metadata": {
    "papermill": {
     "duration": 0.585487,
     "end_time": "2023-12-12T21:17:11.765059",
     "exception": false,
     "start_time": "2023-12-12T21:17:11.179572",
     "status": "completed"
    },
    "tags": []
   },
   "source": [
    "shift train predictions for plotting\n"
   ]
  },
  {
   "cell_type": "code",
   "execution_count": 47,
   "id": "86078586",
   "metadata": {
    "execution": {
     "iopub.execute_input": "2023-12-12T21:17:12.990724Z",
     "iopub.status.busy": "2023-12-12T21:17:12.989957Z",
     "iopub.status.idle": "2023-12-12T21:17:12.996990Z",
     "shell.execute_reply": "2023-12-12T21:17:12.995822Z"
    },
    "papermill": {
     "duration": 0.656509,
     "end_time": "2023-12-12T21:17:12.999417",
     "exception": false,
     "start_time": "2023-12-12T21:17:12.342908",
     "status": "completed"
    },
    "tags": []
   },
   "outputs": [],
   "source": [
    "look_back=100\n",
    "trainPredictPlot = numpy.empty_like(df1)\n",
    "trainPredictPlot[:, :] = np.nan\n",
    "trainPredictPlot[look_back:len(train_predict)+look_back, :] = train_predict\n",
    "# shift test predictions for plotting\n",
    "testPredictPlot = numpy.empty_like(df1)\n",
    "testPredictPlot[:, :] = numpy.nan\n",
    "testPredictPlot[len(train_predict)+(look_back*2)+1:len(df1)-1, :] = test_predict\n",
    "# plot baseline and predictions"
   ]
  },
  {
   "cell_type": "markdown",
   "id": "22c4faf8",
   "metadata": {
    "papermill": {
     "duration": 0.574239,
     "end_time": "2023-12-12T21:17:14.144728",
     "exception": false,
     "start_time": "2023-12-12T21:17:13.570489",
     "status": "completed"
    },
    "tags": []
   },
   "source": [
    "Flatten arrays"
   ]
  },
  {
   "cell_type": "code",
   "execution_count": 48,
   "id": "27f22ba8",
   "metadata": {
    "execution": {
     "iopub.execute_input": "2023-12-12T21:17:15.300177Z",
     "iopub.status.busy": "2023-12-12T21:17:15.299161Z",
     "iopub.status.idle": "2023-12-12T21:17:15.316856Z",
     "shell.execute_reply": "2023-12-12T21:17:15.315549Z"
    },
    "papermill": {
     "duration": 0.601709,
     "end_time": "2023-12-12T21:17:15.319272",
     "exception": false,
     "start_time": "2023-12-12T21:17:14.717563",
     "status": "completed"
    },
    "tags": []
   },
   "outputs": [
    {
     "data": {
      "text/html": [
       "<div>\n",
       "<style scoped>\n",
       "    .dataframe tbody tr th:only-of-type {\n",
       "        vertical-align: middle;\n",
       "    }\n",
       "\n",
       "    .dataframe tbody tr th {\n",
       "        vertical-align: top;\n",
       "    }\n",
       "\n",
       "    .dataframe thead th {\n",
       "        text-align: right;\n",
       "    }\n",
       "</style>\n",
       "<table border=\"1\" class=\"dataframe\">\n",
       "  <thead>\n",
       "    <tr style=\"text-align: right;\">\n",
       "      <th></th>\n",
       "      <th>Date</th>\n",
       "      <th>Main</th>\n",
       "      <th>Train</th>\n",
       "      <th>Test</th>\n",
       "    </tr>\n",
       "  </thead>\n",
       "  <tbody>\n",
       "    <tr>\n",
       "      <th>0</th>\n",
       "      <td>2018-09-28</td>\n",
       "      <td>233.75</td>\n",
       "      <td>NaN</td>\n",
       "      <td>NaN</td>\n",
       "    </tr>\n",
       "    <tr>\n",
       "      <th>1</th>\n",
       "      <td>2018-09-27</td>\n",
       "      <td>233.25</td>\n",
       "      <td>NaN</td>\n",
       "      <td>NaN</td>\n",
       "    </tr>\n",
       "    <tr>\n",
       "      <th>2</th>\n",
       "      <td>2018-09-26</td>\n",
       "      <td>234.25</td>\n",
       "      <td>NaN</td>\n",
       "      <td>NaN</td>\n",
       "    </tr>\n",
       "    <tr>\n",
       "      <th>3</th>\n",
       "      <td>2018-09-25</td>\n",
       "      <td>236.10</td>\n",
       "      <td>NaN</td>\n",
       "      <td>NaN</td>\n",
       "    </tr>\n",
       "    <tr>\n",
       "      <th>4</th>\n",
       "      <td>2018-09-24</td>\n",
       "      <td>233.30</td>\n",
       "      <td>NaN</td>\n",
       "      <td>NaN</td>\n",
       "    </tr>\n",
       "    <tr>\n",
       "      <th>...</th>\n",
       "      <td>...</td>\n",
       "      <td>...</td>\n",
       "      <td>...</td>\n",
       "      <td>...</td>\n",
       "    </tr>\n",
       "    <tr>\n",
       "      <th>2030</th>\n",
       "      <td>2010-07-27</td>\n",
       "      <td>118.65</td>\n",
       "      <td>NaN</td>\n",
       "      <td>117.75</td>\n",
       "    </tr>\n",
       "    <tr>\n",
       "      <th>2031</th>\n",
       "      <td>2010-07-26</td>\n",
       "      <td>117.60</td>\n",
       "      <td>NaN</td>\n",
       "      <td>118.48</td>\n",
       "    </tr>\n",
       "    <tr>\n",
       "      <th>2032</th>\n",
       "      <td>2010-07-23</td>\n",
       "      <td>120.65</td>\n",
       "      <td>NaN</td>\n",
       "      <td>117.80</td>\n",
       "    </tr>\n",
       "    <tr>\n",
       "      <th>2033</th>\n",
       "      <td>2010-07-22</td>\n",
       "      <td>120.90</td>\n",
       "      <td>NaN</td>\n",
       "      <td>120.09</td>\n",
       "    </tr>\n",
       "    <tr>\n",
       "      <th>2034</th>\n",
       "      <td>2010-07-21</td>\n",
       "      <td>121.55</td>\n",
       "      <td>NaN</td>\n",
       "      <td>NaN</td>\n",
       "    </tr>\n",
       "  </tbody>\n",
       "</table>\n",
       "<p>2035 rows × 4 columns</p>\n",
       "</div>"
      ],
      "text/plain": [
       "           Date   Main  Train   Test\n",
       "0    2018-09-28 233.75    NaN    NaN\n",
       "1    2018-09-27 233.25    NaN    NaN\n",
       "2    2018-09-26 234.25    NaN    NaN\n",
       "3    2018-09-25 236.10    NaN    NaN\n",
       "4    2018-09-24 233.30    NaN    NaN\n",
       "...         ...    ...    ...    ...\n",
       "2030 2010-07-27 118.65    NaN 117.75\n",
       "2031 2010-07-26 117.60    NaN 118.48\n",
       "2032 2010-07-23 120.65    NaN 117.80\n",
       "2033 2010-07-22 120.90    NaN 120.09\n",
       "2034 2010-07-21 121.55    NaN    NaN\n",
       "\n",
       "[2035 rows x 4 columns]"
      ]
     },
     "execution_count": 48,
     "metadata": {},
     "output_type": "execute_result"
    }
   ],
   "source": [
    "trPP=trainPredictPlot.ravel()\n",
    "tePP=testPredictPlot.ravel()\n",
    "bc={\"Date\":df11.ravel(),\"Main\":dgp.ravel(),\"Train\":trPP,\"Test\":tePP}\n",
    "bc=pd.DataFrame(data=bc)\n",
    "bc"
   ]
  },
  {
   "cell_type": "code",
   "execution_count": 49,
   "id": "3cbad87e",
   "metadata": {
    "execution": {
     "iopub.execute_input": "2023-12-12T21:17:16.538516Z",
     "iopub.status.busy": "2023-12-12T21:17:16.538021Z",
     "iopub.status.idle": "2023-12-12T21:17:16.563841Z",
     "shell.execute_reply": "2023-12-12T21:17:16.562468Z"
    },
    "papermill": {
     "duration": 0.606686,
     "end_time": "2023-12-12T21:17:16.566857",
     "exception": false,
     "start_time": "2023-12-12T21:17:15.960171",
     "status": "completed"
    },
    "tags": []
   },
   "outputs": [],
   "source": [
    "bc.to_csv(\"TestingData.csv\")"
   ]
  },
  {
   "cell_type": "code",
   "execution_count": 50,
   "id": "8e75eb5a",
   "metadata": {
    "execution": {
     "iopub.execute_input": "2023-12-12T21:17:17.721355Z",
     "iopub.status.busy": "2023-12-12T21:17:17.720902Z",
     "iopub.status.idle": "2023-12-12T21:17:33.785190Z",
     "shell.execute_reply": "2023-12-12T21:17:33.783798Z"
    },
    "papermill": {
     "duration": 16.65007,
     "end_time": "2023-12-12T21:17:33.788214",
     "exception": false,
     "start_time": "2023-12-12T21:17:17.138144",
     "status": "completed"
    },
    "tags": []
   },
   "outputs": [
    {
     "name": "stdout",
     "output_type": "stream",
     "text": [
      "Requirement already satisfied: plotly in /opt/conda/lib/python3.10/site-packages (5.16.1)\r\n",
      "Requirement already satisfied: tenacity>=6.2.0 in /opt/conda/lib/python3.10/site-packages (from plotly) (8.2.3)\r\n",
      "Requirement already satisfied: packaging in /opt/conda/lib/python3.10/site-packages (from plotly) (21.3)\r\n",
      "Requirement already satisfied: pyparsing!=3.0.5,>=2.0.2 in /opt/conda/lib/python3.10/site-packages (from packaging->plotly) (3.0.9)\r\n"
     ]
    }
   ],
   "source": [
    "!pip install plotly"
   ]
  },
  {
   "cell_type": "code",
   "execution_count": 51,
   "id": "25b9d85f",
   "metadata": {
    "execution": {
     "iopub.execute_input": "2023-12-12T21:17:35.012288Z",
     "iopub.status.busy": "2023-12-12T21:17:35.011763Z",
     "iopub.status.idle": "2023-12-12T21:17:35.029281Z",
     "shell.execute_reply": "2023-12-12T21:17:35.027901Z"
    },
    "papermill": {
     "duration": 0.59195,
     "end_time": "2023-12-12T21:17:35.031992",
     "exception": false,
     "start_time": "2023-12-12T21:17:34.440042",
     "status": "completed"
    },
    "tags": []
   },
   "outputs": [],
   "source": [
    "bc[\"Date\"]=pd.to_datetime(bc[\"Date\"])"
   ]
  },
  {
   "cell_type": "code",
   "execution_count": 52,
   "id": "dece01e8",
   "metadata": {
    "execution": {
     "iopub.execute_input": "2023-12-12T21:17:36.177501Z",
     "iopub.status.busy": "2023-12-12T21:17:36.177004Z",
     "iopub.status.idle": "2023-12-12T21:17:36.184790Z",
     "shell.execute_reply": "2023-12-12T21:17:36.183712Z"
    },
    "papermill": {
     "duration": 0.58596,
     "end_time": "2023-12-12T21:17:36.187156",
     "exception": false,
     "start_time": "2023-12-12T21:17:35.601196",
     "status": "completed"
    },
    "tags": []
   },
   "outputs": [
    {
     "data": {
      "text/plain": [
       "2035"
      ]
     },
     "execution_count": 52,
     "metadata": {},
     "output_type": "execute_result"
    }
   ],
   "source": [
    "len(trainPredictPlot)"
   ]
  },
  {
   "cell_type": "code",
   "execution_count": 53,
   "id": "7b3bfb74",
   "metadata": {
    "execution": {
     "iopub.execute_input": "2023-12-12T21:17:37.418147Z",
     "iopub.status.busy": "2023-12-12T21:17:37.417742Z",
     "iopub.status.idle": "2023-12-12T21:17:37.425227Z",
     "shell.execute_reply": "2023-12-12T21:17:37.423870Z"
    },
    "papermill": {
     "duration": 0.587478,
     "end_time": "2023-12-12T21:17:37.427598",
     "exception": false,
     "start_time": "2023-12-12T21:17:36.840120",
     "status": "completed"
    },
    "tags": []
   },
   "outputs": [
    {
     "data": {
      "text/plain": [
       "306"
      ]
     },
     "execution_count": 53,
     "metadata": {},
     "output_type": "execute_result"
    }
   ],
   "source": [
    "len(test_data)"
   ]
  },
  {
   "cell_type": "code",
   "execution_count": 54,
   "id": "7f044c3b",
   "metadata": {
    "execution": {
     "iopub.execute_input": "2023-12-12T21:17:38.580245Z",
     "iopub.status.busy": "2023-12-12T21:17:38.579838Z",
     "iopub.status.idle": "2023-12-12T21:17:38.587913Z",
     "shell.execute_reply": "2023-12-12T21:17:38.586369Z"
    },
    "papermill": {
     "duration": 0.588531,
     "end_time": "2023-12-12T21:17:38.590357",
     "exception": false,
     "start_time": "2023-12-12T21:17:38.001826",
     "status": "completed"
    },
    "tags": []
   },
   "outputs": [
    {
     "data": {
      "text/plain": [
       "(1, 100)"
      ]
     },
     "execution_count": 54,
     "metadata": {},
     "output_type": "execute_result"
    }
   ],
   "source": [
    "x_input=test_data[-100:].reshape(1,-1)\n",
    "x_input.shape"
   ]
  },
  {
   "cell_type": "code",
   "execution_count": 55,
   "id": "0661d420",
   "metadata": {
    "execution": {
     "iopub.execute_input": "2023-12-12T21:17:39.752188Z",
     "iopub.status.busy": "2023-12-12T21:17:39.751758Z",
     "iopub.status.idle": "2023-12-12T21:17:39.763870Z",
     "shell.execute_reply": "2023-12-12T21:17:39.762772Z"
    },
    "papermill": {
     "duration": 0.591292,
     "end_time": "2023-12-12T21:17:39.766585",
     "exception": false,
     "start_time": "2023-12-12T21:17:39.175293",
     "status": "completed"
    },
    "tags": []
   },
   "outputs": [
    {
     "data": {
      "text/plain": [
       "0      2018-09-28\n",
       "1      2018-09-27\n",
       "2      2018-09-26\n",
       "3      2018-09-25\n",
       "4      2018-09-24\n",
       "          ...    \n",
       "2030   2010-07-27\n",
       "2031   2010-07-26\n",
       "2032   2010-07-23\n",
       "2033   2010-07-22\n",
       "2034   2010-07-21\n",
       "Name: Date, Length: 2035, dtype: datetime64[ns]"
      ]
     },
     "execution_count": 55,
     "metadata": {},
     "output_type": "execute_result"
    }
   ],
   "source": [
    "df11"
   ]
  },
  {
   "cell_type": "code",
   "execution_count": 56,
   "id": "cac0d50e",
   "metadata": {
    "execution": {
     "iopub.execute_input": "2023-12-12T21:17:41.015988Z",
     "iopub.status.busy": "2023-12-12T21:17:41.015585Z",
     "iopub.status.idle": "2023-12-12T21:17:41.020720Z",
     "shell.execute_reply": "2023-12-12T21:17:41.019489Z"
    },
    "papermill": {
     "duration": 0.578176,
     "end_time": "2023-12-12T21:17:41.023176",
     "exception": false,
     "start_time": "2023-12-12T21:17:40.445000",
     "status": "completed"
    },
    "tags": []
   },
   "outputs": [],
   "source": [
    "temp_input=list(x_input)\n",
    "temp_input=temp_input[0].tolist()"
   ]
  },
  {
   "cell_type": "markdown",
   "id": "dfe6eaba",
   "metadata": {
    "papermill": {
     "duration": 0.575395,
     "end_time": "2023-12-12T21:17:42.180698",
     "exception": false,
     "start_time": "2023-12-12T21:17:41.605303",
     "status": "completed"
    },
    "tags": []
   },
   "source": [
    "demonstrate prediction for next 10 days"
   ]
  },
  {
   "cell_type": "code",
   "execution_count": 57,
   "id": "95371fc8",
   "metadata": {
    "execution": {
     "iopub.execute_input": "2023-12-12T21:17:43.395791Z",
     "iopub.status.busy": "2023-12-12T21:17:43.395353Z",
     "iopub.status.idle": "2023-12-12T21:17:46.075608Z",
     "shell.execute_reply": "2023-12-12T21:17:46.074553Z"
    },
    "papermill": {
     "duration": 3.25829,
     "end_time": "2023-12-12T21:17:46.078372",
     "exception": false,
     "start_time": "2023-12-12T21:17:42.820082",
     "status": "completed"
    },
    "tags": []
   },
   "outputs": [
    {
     "name": "stdout",
     "output_type": "stream",
     "text": [
      "[0.16550526]\n",
      "101\n",
      "1 day input [0.13848039 0.14011438 0.13888889 0.13541667 0.14011438 0.1380719\n",
      " 0.13071895 0.13071895 0.12867647 0.11846405 0.14644608 0.14808007\n",
      " 0.15910948 0.15992647 0.15788399 0.16441993 0.17892157 0.17933007\n",
      " 0.19260621 0.20812908 0.18974673 0.18055556 0.18239379 0.17708333\n",
      " 0.17810458 0.18055556 0.17810458 0.17851307 0.19607843 0.18913399\n",
      " 0.18954248 0.19403595 0.19444444 0.20200163 0.19771242 0.19934641\n",
      " 0.19873366 0.1997549  0.2128268  0.21568627 0.20445261 0.21772876\n",
      " 0.21098856 0.21425654 0.19750817 0.18811275 0.17851307 0.17381536\n",
      " 0.16033497 0.16564542 0.17116013 0.17422386 0.18035131 0.17401961\n",
      " 0.16278595 0.16973039 0.17810458 0.17034314 0.16830065 0.17279412\n",
      " 0.17544935 0.18382353 0.19138072 0.18913399 0.19097222 0.17238562\n",
      " 0.16830065 0.1693219  0.17177288 0.16156046 0.14971405 0.1503268\n",
      " 0.15196078 0.14726307 0.14501634 0.14603758 0.12479575 0.13112745\n",
      " 0.11397059 0.1190768  0.12377451 0.13562092 0.12908497 0.13459967\n",
      " 0.12806373 0.13031046 0.12724673 0.13521242 0.14522059 0.15257353\n",
      " 0.14848856 0.14338235 0.14562908 0.15236928 0.15400327 0.14971405\n",
      " 0.1621732  0.16319444 0.16584967 0.16550526]\n",
      "1 day output [[0.16474167]]\n",
      "2 day input [0.14011438 0.13888889 0.13541667 0.14011438 0.1380719  0.13071895\n",
      " 0.13071895 0.12867647 0.11846405 0.14644608 0.14808007 0.15910948\n",
      " 0.15992647 0.15788399 0.16441993 0.17892157 0.17933007 0.19260621\n",
      " 0.20812908 0.18974673 0.18055556 0.18239379 0.17708333 0.17810458\n",
      " 0.18055556 0.17810458 0.17851307 0.19607843 0.18913399 0.18954248\n",
      " 0.19403595 0.19444444 0.20200163 0.19771242 0.19934641 0.19873366\n",
      " 0.1997549  0.2128268  0.21568627 0.20445261 0.21772876 0.21098856\n",
      " 0.21425654 0.19750817 0.18811275 0.17851307 0.17381536 0.16033497\n",
      " 0.16564542 0.17116013 0.17422386 0.18035131 0.17401961 0.16278595\n",
      " 0.16973039 0.17810458 0.17034314 0.16830065 0.17279412 0.17544935\n",
      " 0.18382353 0.19138072 0.18913399 0.19097222 0.17238562 0.16830065\n",
      " 0.1693219  0.17177288 0.16156046 0.14971405 0.1503268  0.15196078\n",
      " 0.14726307 0.14501634 0.14603758 0.12479575 0.13112745 0.11397059\n",
      " 0.1190768  0.12377451 0.13562092 0.12908497 0.13459967 0.12806373\n",
      " 0.13031046 0.12724673 0.13521242 0.14522059 0.15257353 0.14848856\n",
      " 0.14338235 0.14562908 0.15236928 0.15400327 0.14971405 0.1621732\n",
      " 0.16319444 0.16584967 0.16550526 0.16474167]\n",
      "2 day output [[0.16412812]]\n",
      "3 day input [0.13888889 0.13541667 0.14011438 0.1380719  0.13071895 0.13071895\n",
      " 0.12867647 0.11846405 0.14644608 0.14808007 0.15910948 0.15992647\n",
      " 0.15788399 0.16441993 0.17892157 0.17933007 0.19260621 0.20812908\n",
      " 0.18974673 0.18055556 0.18239379 0.17708333 0.17810458 0.18055556\n",
      " 0.17810458 0.17851307 0.19607843 0.18913399 0.18954248 0.19403595\n",
      " 0.19444444 0.20200163 0.19771242 0.19934641 0.19873366 0.1997549\n",
      " 0.2128268  0.21568627 0.20445261 0.21772876 0.21098856 0.21425654\n",
      " 0.19750817 0.18811275 0.17851307 0.17381536 0.16033497 0.16564542\n",
      " 0.17116013 0.17422386 0.18035131 0.17401961 0.16278595 0.16973039\n",
      " 0.17810458 0.17034314 0.16830065 0.17279412 0.17544935 0.18382353\n",
      " 0.19138072 0.18913399 0.19097222 0.17238562 0.16830065 0.1693219\n",
      " 0.17177288 0.16156046 0.14971405 0.1503268  0.15196078 0.14726307\n",
      " 0.14501634 0.14603758 0.12479575 0.13112745 0.11397059 0.1190768\n",
      " 0.12377451 0.13562092 0.12908497 0.13459967 0.12806373 0.13031046\n",
      " 0.12724673 0.13521242 0.14522059 0.15257353 0.14848856 0.14338235\n",
      " 0.14562908 0.15236928 0.15400327 0.14971405 0.1621732  0.16319444\n",
      " 0.16584967 0.16550526 0.16474167 0.16412812]\n",
      "3 day output [[0.16314122]]\n",
      "4 day input [0.13541667 0.14011438 0.1380719  0.13071895 0.13071895 0.12867647\n",
      " 0.11846405 0.14644608 0.14808007 0.15910948 0.15992647 0.15788399\n",
      " 0.16441993 0.17892157 0.17933007 0.19260621 0.20812908 0.18974673\n",
      " 0.18055556 0.18239379 0.17708333 0.17810458 0.18055556 0.17810458\n",
      " 0.17851307 0.19607843 0.18913399 0.18954248 0.19403595 0.19444444\n",
      " 0.20200163 0.19771242 0.19934641 0.19873366 0.1997549  0.2128268\n",
      " 0.21568627 0.20445261 0.21772876 0.21098856 0.21425654 0.19750817\n",
      " 0.18811275 0.17851307 0.17381536 0.16033497 0.16564542 0.17116013\n",
      " 0.17422386 0.18035131 0.17401961 0.16278595 0.16973039 0.17810458\n",
      " 0.17034314 0.16830065 0.17279412 0.17544935 0.18382353 0.19138072\n",
      " 0.18913399 0.19097222 0.17238562 0.16830065 0.1693219  0.17177288\n",
      " 0.16156046 0.14971405 0.1503268  0.15196078 0.14726307 0.14501634\n",
      " 0.14603758 0.12479575 0.13112745 0.11397059 0.1190768  0.12377451\n",
      " 0.13562092 0.12908497 0.13459967 0.12806373 0.13031046 0.12724673\n",
      " 0.13521242 0.14522059 0.15257353 0.14848856 0.14338235 0.14562908\n",
      " 0.15236928 0.15400327 0.14971405 0.1621732  0.16319444 0.16584967\n",
      " 0.16550526 0.16474167 0.16412812 0.16314122]\n",
      "4 day output [[0.16232806]]\n",
      "5 day input [0.14011438 0.1380719  0.13071895 0.13071895 0.12867647 0.11846405\n",
      " 0.14644608 0.14808007 0.15910948 0.15992647 0.15788399 0.16441993\n",
      " 0.17892157 0.17933007 0.19260621 0.20812908 0.18974673 0.18055556\n",
      " 0.18239379 0.17708333 0.17810458 0.18055556 0.17810458 0.17851307\n",
      " 0.19607843 0.18913399 0.18954248 0.19403595 0.19444444 0.20200163\n",
      " 0.19771242 0.19934641 0.19873366 0.1997549  0.2128268  0.21568627\n",
      " 0.20445261 0.21772876 0.21098856 0.21425654 0.19750817 0.18811275\n",
      " 0.17851307 0.17381536 0.16033497 0.16564542 0.17116013 0.17422386\n",
      " 0.18035131 0.17401961 0.16278595 0.16973039 0.17810458 0.17034314\n",
      " 0.16830065 0.17279412 0.17544935 0.18382353 0.19138072 0.18913399\n",
      " 0.19097222 0.17238562 0.16830065 0.1693219  0.17177288 0.16156046\n",
      " 0.14971405 0.1503268  0.15196078 0.14726307 0.14501634 0.14603758\n",
      " 0.12479575 0.13112745 0.11397059 0.1190768  0.12377451 0.13562092\n",
      " 0.12908497 0.13459967 0.12806373 0.13031046 0.12724673 0.13521242\n",
      " 0.14522059 0.15257353 0.14848856 0.14338235 0.14562908 0.15236928\n",
      " 0.15400327 0.14971405 0.1621732  0.16319444 0.16584967 0.16550526\n",
      " 0.16474167 0.16412812 0.16314122 0.16232806]\n",
      "5 day output [[0.16156259]]\n",
      "6 day input [0.1380719  0.13071895 0.13071895 0.12867647 0.11846405 0.14644608\n",
      " 0.14808007 0.15910948 0.15992647 0.15788399 0.16441993 0.17892157\n",
      " 0.17933007 0.19260621 0.20812908 0.18974673 0.18055556 0.18239379\n",
      " 0.17708333 0.17810458 0.18055556 0.17810458 0.17851307 0.19607843\n",
      " 0.18913399 0.18954248 0.19403595 0.19444444 0.20200163 0.19771242\n",
      " 0.19934641 0.19873366 0.1997549  0.2128268  0.21568627 0.20445261\n",
      " 0.21772876 0.21098856 0.21425654 0.19750817 0.18811275 0.17851307\n",
      " 0.17381536 0.16033497 0.16564542 0.17116013 0.17422386 0.18035131\n",
      " 0.17401961 0.16278595 0.16973039 0.17810458 0.17034314 0.16830065\n",
      " 0.17279412 0.17544935 0.18382353 0.19138072 0.18913399 0.19097222\n",
      " 0.17238562 0.16830065 0.1693219  0.17177288 0.16156046 0.14971405\n",
      " 0.1503268  0.15196078 0.14726307 0.14501634 0.14603758 0.12479575\n",
      " 0.13112745 0.11397059 0.1190768  0.12377451 0.13562092 0.12908497\n",
      " 0.13459967 0.12806373 0.13031046 0.12724673 0.13521242 0.14522059\n",
      " 0.15257353 0.14848856 0.14338235 0.14562908 0.15236928 0.15400327\n",
      " 0.14971405 0.1621732  0.16319444 0.16584967 0.16550526 0.16474167\n",
      " 0.16412812 0.16314122 0.16232806 0.16156259]\n",
      "6 day output [[0.16089812]]\n",
      "7 day input [0.13071895 0.13071895 0.12867647 0.11846405 0.14644608 0.14808007\n",
      " 0.15910948 0.15992647 0.15788399 0.16441993 0.17892157 0.17933007\n",
      " 0.19260621 0.20812908 0.18974673 0.18055556 0.18239379 0.17708333\n",
      " 0.17810458 0.18055556 0.17810458 0.17851307 0.19607843 0.18913399\n",
      " 0.18954248 0.19403595 0.19444444 0.20200163 0.19771242 0.19934641\n",
      " 0.19873366 0.1997549  0.2128268  0.21568627 0.20445261 0.21772876\n",
      " 0.21098856 0.21425654 0.19750817 0.18811275 0.17851307 0.17381536\n",
      " 0.16033497 0.16564542 0.17116013 0.17422386 0.18035131 0.17401961\n",
      " 0.16278595 0.16973039 0.17810458 0.17034314 0.16830065 0.17279412\n",
      " 0.17544935 0.18382353 0.19138072 0.18913399 0.19097222 0.17238562\n",
      " 0.16830065 0.1693219  0.17177288 0.16156046 0.14971405 0.1503268\n",
      " 0.15196078 0.14726307 0.14501634 0.14603758 0.12479575 0.13112745\n",
      " 0.11397059 0.1190768  0.12377451 0.13562092 0.12908497 0.13459967\n",
      " 0.12806373 0.13031046 0.12724673 0.13521242 0.14522059 0.15257353\n",
      " 0.14848856 0.14338235 0.14562908 0.15236928 0.15400327 0.14971405\n",
      " 0.1621732  0.16319444 0.16584967 0.16550526 0.16474167 0.16412812\n",
      " 0.16314122 0.16232806 0.16156259 0.16089812]\n",
      "7 day output [[0.1602948]]\n",
      "8 day input [0.13071895 0.12867647 0.11846405 0.14644608 0.14808007 0.15910948\n",
      " 0.15992647 0.15788399 0.16441993 0.17892157 0.17933007 0.19260621\n",
      " 0.20812908 0.18974673 0.18055556 0.18239379 0.17708333 0.17810458\n",
      " 0.18055556 0.17810458 0.17851307 0.19607843 0.18913399 0.18954248\n",
      " 0.19403595 0.19444444 0.20200163 0.19771242 0.19934641 0.19873366\n",
      " 0.1997549  0.2128268  0.21568627 0.20445261 0.21772876 0.21098856\n",
      " 0.21425654 0.19750817 0.18811275 0.17851307 0.17381536 0.16033497\n",
      " 0.16564542 0.17116013 0.17422386 0.18035131 0.17401961 0.16278595\n",
      " 0.16973039 0.17810458 0.17034314 0.16830065 0.17279412 0.17544935\n",
      " 0.18382353 0.19138072 0.18913399 0.19097222 0.17238562 0.16830065\n",
      " 0.1693219  0.17177288 0.16156046 0.14971405 0.1503268  0.15196078\n",
      " 0.14726307 0.14501634 0.14603758 0.12479575 0.13112745 0.11397059\n",
      " 0.1190768  0.12377451 0.13562092 0.12908497 0.13459967 0.12806373\n",
      " 0.13031046 0.12724673 0.13521242 0.14522059 0.15257353 0.14848856\n",
      " 0.14338235 0.14562908 0.15236928 0.15400327 0.14971405 0.1621732\n",
      " 0.16319444 0.16584967 0.16550526 0.16474167 0.16412812 0.16314122\n",
      " 0.16232806 0.16156259 0.16089812 0.1602948 ]\n",
      "8 day output [[0.15974548]]\n",
      "9 day input [0.12867647 0.11846405 0.14644608 0.14808007 0.15910948 0.15992647\n",
      " 0.15788399 0.16441993 0.17892157 0.17933007 0.19260621 0.20812908\n",
      " 0.18974673 0.18055556 0.18239379 0.17708333 0.17810458 0.18055556\n",
      " 0.17810458 0.17851307 0.19607843 0.18913399 0.18954248 0.19403595\n",
      " 0.19444444 0.20200163 0.19771242 0.19934641 0.19873366 0.1997549\n",
      " 0.2128268  0.21568627 0.20445261 0.21772876 0.21098856 0.21425654\n",
      " 0.19750817 0.18811275 0.17851307 0.17381536 0.16033497 0.16564542\n",
      " 0.17116013 0.17422386 0.18035131 0.17401961 0.16278595 0.16973039\n",
      " 0.17810458 0.17034314 0.16830065 0.17279412 0.17544935 0.18382353\n",
      " 0.19138072 0.18913399 0.19097222 0.17238562 0.16830065 0.1693219\n",
      " 0.17177288 0.16156046 0.14971405 0.1503268  0.15196078 0.14726307\n",
      " 0.14501634 0.14603758 0.12479575 0.13112745 0.11397059 0.1190768\n",
      " 0.12377451 0.13562092 0.12908497 0.13459967 0.12806373 0.13031046\n",
      " 0.12724673 0.13521242 0.14522059 0.15257353 0.14848856 0.14338235\n",
      " 0.14562908 0.15236928 0.15400327 0.14971405 0.1621732  0.16319444\n",
      " 0.16584967 0.16550526 0.16474167 0.16412812 0.16314122 0.16232806\n",
      " 0.16156259 0.16089812 0.1602948  0.15974548]\n",
      "9 day output [[0.15923658]]\n",
      "10 day input [0.11846405 0.14644608 0.14808007 0.15910948 0.15992647 0.15788399\n",
      " 0.16441993 0.17892157 0.17933007 0.19260621 0.20812908 0.18974673\n",
      " 0.18055556 0.18239379 0.17708333 0.17810458 0.18055556 0.17810458\n",
      " 0.17851307 0.19607843 0.18913399 0.18954248 0.19403595 0.19444444\n",
      " 0.20200163 0.19771242 0.19934641 0.19873366 0.1997549  0.2128268\n",
      " 0.21568627 0.20445261 0.21772876 0.21098856 0.21425654 0.19750817\n",
      " 0.18811275 0.17851307 0.17381536 0.16033497 0.16564542 0.17116013\n",
      " 0.17422386 0.18035131 0.17401961 0.16278595 0.16973039 0.17810458\n",
      " 0.17034314 0.16830065 0.17279412 0.17544935 0.18382353 0.19138072\n",
      " 0.18913399 0.19097222 0.17238562 0.16830065 0.1693219  0.17177288\n",
      " 0.16156046 0.14971405 0.1503268  0.15196078 0.14726307 0.14501634\n",
      " 0.14603758 0.12479575 0.13112745 0.11397059 0.1190768  0.12377451\n",
      " 0.13562092 0.12908497 0.13459967 0.12806373 0.13031046 0.12724673\n",
      " 0.13521242 0.14522059 0.15257353 0.14848856 0.14338235 0.14562908\n",
      " 0.15236928 0.15400327 0.14971405 0.1621732  0.16319444 0.16584967\n",
      " 0.16550526 0.16474167 0.16412812 0.16314122 0.16232806 0.16156259\n",
      " 0.16089812 0.1602948  0.15974548 0.15923658]\n",
      "10 day output [[0.15876502]]\n",
      "11 day input [0.14644608 0.14808007 0.15910948 0.15992647 0.15788399 0.16441993\n",
      " 0.17892157 0.17933007 0.19260621 0.20812908 0.18974673 0.18055556\n",
      " 0.18239379 0.17708333 0.17810458 0.18055556 0.17810458 0.17851307\n",
      " 0.19607843 0.18913399 0.18954248 0.19403595 0.19444444 0.20200163\n",
      " 0.19771242 0.19934641 0.19873366 0.1997549  0.2128268  0.21568627\n",
      " 0.20445261 0.21772876 0.21098856 0.21425654 0.19750817 0.18811275\n",
      " 0.17851307 0.17381536 0.16033497 0.16564542 0.17116013 0.17422386\n",
      " 0.18035131 0.17401961 0.16278595 0.16973039 0.17810458 0.17034314\n",
      " 0.16830065 0.17279412 0.17544935 0.18382353 0.19138072 0.18913399\n",
      " 0.19097222 0.17238562 0.16830065 0.1693219  0.17177288 0.16156046\n",
      " 0.14971405 0.1503268  0.15196078 0.14726307 0.14501634 0.14603758\n",
      " 0.12479575 0.13112745 0.11397059 0.1190768  0.12377451 0.13562092\n",
      " 0.12908497 0.13459967 0.12806373 0.13031046 0.12724673 0.13521242\n",
      " 0.14522059 0.15257353 0.14848856 0.14338235 0.14562908 0.15236928\n",
      " 0.15400327 0.14971405 0.1621732  0.16319444 0.16584967 0.16550526\n",
      " 0.16474167 0.16412812 0.16314122 0.16232806 0.16156259 0.16089812\n",
      " 0.1602948  0.15974548 0.15923658 0.15876502]\n",
      "11 day output [[0.15832981]]\n",
      "12 day input [0.14808007 0.15910948 0.15992647 0.15788399 0.16441993 0.17892157\n",
      " 0.17933007 0.19260621 0.20812908 0.18974673 0.18055556 0.18239379\n",
      " 0.17708333 0.17810458 0.18055556 0.17810458 0.17851307 0.19607843\n",
      " 0.18913399 0.18954248 0.19403595 0.19444444 0.20200163 0.19771242\n",
      " 0.19934641 0.19873366 0.1997549  0.2128268  0.21568627 0.20445261\n",
      " 0.21772876 0.21098856 0.21425654 0.19750817 0.18811275 0.17851307\n",
      " 0.17381536 0.16033497 0.16564542 0.17116013 0.17422386 0.18035131\n",
      " 0.17401961 0.16278595 0.16973039 0.17810458 0.17034314 0.16830065\n",
      " 0.17279412 0.17544935 0.18382353 0.19138072 0.18913399 0.19097222\n",
      " 0.17238562 0.16830065 0.1693219  0.17177288 0.16156046 0.14971405\n",
      " 0.1503268  0.15196078 0.14726307 0.14501634 0.14603758 0.12479575\n",
      " 0.13112745 0.11397059 0.1190768  0.12377451 0.13562092 0.12908497\n",
      " 0.13459967 0.12806373 0.13031046 0.12724673 0.13521242 0.14522059\n",
      " 0.15257353 0.14848856 0.14338235 0.14562908 0.15236928 0.15400327\n",
      " 0.14971405 0.1621732  0.16319444 0.16584967 0.16550526 0.16474167\n",
      " 0.16412812 0.16314122 0.16232806 0.16156259 0.16089812 0.1602948\n",
      " 0.15974548 0.15923658 0.15876502 0.15832981]\n",
      "12 day output [[0.15793207]]\n",
      "13 day input [0.15910948 0.15992647 0.15788399 0.16441993 0.17892157 0.17933007\n",
      " 0.19260621 0.20812908 0.18974673 0.18055556 0.18239379 0.17708333\n",
      " 0.17810458 0.18055556 0.17810458 0.17851307 0.19607843 0.18913399\n",
      " 0.18954248 0.19403595 0.19444444 0.20200163 0.19771242 0.19934641\n",
      " 0.19873366 0.1997549  0.2128268  0.21568627 0.20445261 0.21772876\n",
      " 0.21098856 0.21425654 0.19750817 0.18811275 0.17851307 0.17381536\n",
      " 0.16033497 0.16564542 0.17116013 0.17422386 0.18035131 0.17401961\n",
      " 0.16278595 0.16973039 0.17810458 0.17034314 0.16830065 0.17279412\n",
      " 0.17544935 0.18382353 0.19138072 0.18913399 0.19097222 0.17238562\n",
      " 0.16830065 0.1693219  0.17177288 0.16156046 0.14971405 0.1503268\n",
      " 0.15196078 0.14726307 0.14501634 0.14603758 0.12479575 0.13112745\n",
      " 0.11397059 0.1190768  0.12377451 0.13562092 0.12908497 0.13459967\n",
      " 0.12806373 0.13031046 0.12724673 0.13521242 0.14522059 0.15257353\n",
      " 0.14848856 0.14338235 0.14562908 0.15236928 0.15400327 0.14971405\n",
      " 0.1621732  0.16319444 0.16584967 0.16550526 0.16474167 0.16412812\n",
      " 0.16314122 0.16232806 0.16156259 0.16089812 0.1602948  0.15974548\n",
      " 0.15923658 0.15876502 0.15832981 0.15793207]\n",
      "13 day output [[0.15757233]]\n",
      "14 day input [0.15992647 0.15788399 0.16441993 0.17892157 0.17933007 0.19260621\n",
      " 0.20812908 0.18974673 0.18055556 0.18239379 0.17708333 0.17810458\n",
      " 0.18055556 0.17810458 0.17851307 0.19607843 0.18913399 0.18954248\n",
      " 0.19403595 0.19444444 0.20200163 0.19771242 0.19934641 0.19873366\n",
      " 0.1997549  0.2128268  0.21568627 0.20445261 0.21772876 0.21098856\n",
      " 0.21425654 0.19750817 0.18811275 0.17851307 0.17381536 0.16033497\n",
      " 0.16564542 0.17116013 0.17422386 0.18035131 0.17401961 0.16278595\n",
      " 0.16973039 0.17810458 0.17034314 0.16830065 0.17279412 0.17544935\n",
      " 0.18382353 0.19138072 0.18913399 0.19097222 0.17238562 0.16830065\n",
      " 0.1693219  0.17177288 0.16156046 0.14971405 0.1503268  0.15196078\n",
      " 0.14726307 0.14501634 0.14603758 0.12479575 0.13112745 0.11397059\n",
      " 0.1190768  0.12377451 0.13562092 0.12908497 0.13459967 0.12806373\n",
      " 0.13031046 0.12724673 0.13521242 0.14522059 0.15257353 0.14848856\n",
      " 0.14338235 0.14562908 0.15236928 0.15400327 0.14971405 0.1621732\n",
      " 0.16319444 0.16584967 0.16550526 0.16474167 0.16412812 0.16314122\n",
      " 0.16232806 0.16156259 0.16089812 0.1602948  0.15974548 0.15923658\n",
      " 0.15876502 0.15832981 0.15793207 0.15757233]\n",
      "14 day output [[0.15724969]]\n",
      "15 day input [0.15788399 0.16441993 0.17892157 0.17933007 0.19260621 0.20812908\n",
      " 0.18974673 0.18055556 0.18239379 0.17708333 0.17810458 0.18055556\n",
      " 0.17810458 0.17851307 0.19607843 0.18913399 0.18954248 0.19403595\n",
      " 0.19444444 0.20200163 0.19771242 0.19934641 0.19873366 0.1997549\n",
      " 0.2128268  0.21568627 0.20445261 0.21772876 0.21098856 0.21425654\n",
      " 0.19750817 0.18811275 0.17851307 0.17381536 0.16033497 0.16564542\n",
      " 0.17116013 0.17422386 0.18035131 0.17401961 0.16278595 0.16973039\n",
      " 0.17810458 0.17034314 0.16830065 0.17279412 0.17544935 0.18382353\n",
      " 0.19138072 0.18913399 0.19097222 0.17238562 0.16830065 0.1693219\n",
      " 0.17177288 0.16156046 0.14971405 0.1503268  0.15196078 0.14726307\n",
      " 0.14501634 0.14603758 0.12479575 0.13112745 0.11397059 0.1190768\n",
      " 0.12377451 0.13562092 0.12908497 0.13459967 0.12806373 0.13031046\n",
      " 0.12724673 0.13521242 0.14522059 0.15257353 0.14848856 0.14338235\n",
      " 0.14562908 0.15236928 0.15400327 0.14971405 0.1621732  0.16319444\n",
      " 0.16584967 0.16550526 0.16474167 0.16412812 0.16314122 0.16232806\n",
      " 0.16156259 0.16089812 0.1602948  0.15974548 0.15923658 0.15876502\n",
      " 0.15832981 0.15793207 0.15757233 0.15724969]\n",
      "15 day output [[0.15696174]]\n",
      "16 day input [0.16441993 0.17892157 0.17933007 0.19260621 0.20812908 0.18974673\n",
      " 0.18055556 0.18239379 0.17708333 0.17810458 0.18055556 0.17810458\n",
      " 0.17851307 0.19607843 0.18913399 0.18954248 0.19403595 0.19444444\n",
      " 0.20200163 0.19771242 0.19934641 0.19873366 0.1997549  0.2128268\n",
      " 0.21568627 0.20445261 0.21772876 0.21098856 0.21425654 0.19750817\n",
      " 0.18811275 0.17851307 0.17381536 0.16033497 0.16564542 0.17116013\n",
      " 0.17422386 0.18035131 0.17401961 0.16278595 0.16973039 0.17810458\n",
      " 0.17034314 0.16830065 0.17279412 0.17544935 0.18382353 0.19138072\n",
      " 0.18913399 0.19097222 0.17238562 0.16830065 0.1693219  0.17177288\n",
      " 0.16156046 0.14971405 0.1503268  0.15196078 0.14726307 0.14501634\n",
      " 0.14603758 0.12479575 0.13112745 0.11397059 0.1190768  0.12377451\n",
      " 0.13562092 0.12908497 0.13459967 0.12806373 0.13031046 0.12724673\n",
      " 0.13521242 0.14522059 0.15257353 0.14848856 0.14338235 0.14562908\n",
      " 0.15236928 0.15400327 0.14971405 0.1621732  0.16319444 0.16584967\n",
      " 0.16550526 0.16474167 0.16412812 0.16314122 0.16232806 0.16156259\n",
      " 0.16089812 0.1602948  0.15974548 0.15923658 0.15876502 0.15832981\n",
      " 0.15793207 0.15757233 0.15724969 0.15696174]\n",
      "16 day output [[0.15670455]]\n",
      "17 day input [0.17892157 0.17933007 0.19260621 0.20812908 0.18974673 0.18055556\n",
      " 0.18239379 0.17708333 0.17810458 0.18055556 0.17810458 0.17851307\n",
      " 0.19607843 0.18913399 0.18954248 0.19403595 0.19444444 0.20200163\n",
      " 0.19771242 0.19934641 0.19873366 0.1997549  0.2128268  0.21568627\n",
      " 0.20445261 0.21772876 0.21098856 0.21425654 0.19750817 0.18811275\n",
      " 0.17851307 0.17381536 0.16033497 0.16564542 0.17116013 0.17422386\n",
      " 0.18035131 0.17401961 0.16278595 0.16973039 0.17810458 0.17034314\n",
      " 0.16830065 0.17279412 0.17544935 0.18382353 0.19138072 0.18913399\n",
      " 0.19097222 0.17238562 0.16830065 0.1693219  0.17177288 0.16156046\n",
      " 0.14971405 0.1503268  0.15196078 0.14726307 0.14501634 0.14603758\n",
      " 0.12479575 0.13112745 0.11397059 0.1190768  0.12377451 0.13562092\n",
      " 0.12908497 0.13459967 0.12806373 0.13031046 0.12724673 0.13521242\n",
      " 0.14522059 0.15257353 0.14848856 0.14338235 0.14562908 0.15236928\n",
      " 0.15400327 0.14971405 0.1621732  0.16319444 0.16584967 0.16550526\n",
      " 0.16474167 0.16412812 0.16314122 0.16232806 0.16156259 0.16089812\n",
      " 0.1602948  0.15974548 0.15923658 0.15876502 0.15832981 0.15793207\n",
      " 0.15757233 0.15724969 0.15696174 0.15670455]\n",
      "17 day output [[0.15647337]]\n",
      "18 day input [0.17933007 0.19260621 0.20812908 0.18974673 0.18055556 0.18239379\n",
      " 0.17708333 0.17810458 0.18055556 0.17810458 0.17851307 0.19607843\n",
      " 0.18913399 0.18954248 0.19403595 0.19444444 0.20200163 0.19771242\n",
      " 0.19934641 0.19873366 0.1997549  0.2128268  0.21568627 0.20445261\n",
      " 0.21772876 0.21098856 0.21425654 0.19750817 0.18811275 0.17851307\n",
      " 0.17381536 0.16033497 0.16564542 0.17116013 0.17422386 0.18035131\n",
      " 0.17401961 0.16278595 0.16973039 0.17810458 0.17034314 0.16830065\n",
      " 0.17279412 0.17544935 0.18382353 0.19138072 0.18913399 0.19097222\n",
      " 0.17238562 0.16830065 0.1693219  0.17177288 0.16156046 0.14971405\n",
      " 0.1503268  0.15196078 0.14726307 0.14501634 0.14603758 0.12479575\n",
      " 0.13112745 0.11397059 0.1190768  0.12377451 0.13562092 0.12908497\n",
      " 0.13459967 0.12806373 0.13031046 0.12724673 0.13521242 0.14522059\n",
      " 0.15257353 0.14848856 0.14338235 0.14562908 0.15236928 0.15400327\n",
      " 0.14971405 0.1621732  0.16319444 0.16584967 0.16550526 0.16474167\n",
      " 0.16412812 0.16314122 0.16232806 0.16156259 0.16089812 0.1602948\n",
      " 0.15974548 0.15923658 0.15876502 0.15832981 0.15793207 0.15757233\n",
      " 0.15724969 0.15696174 0.15670455 0.15647337]\n",
      "18 day output [[0.15626293]]\n",
      "19 day input [0.19260621 0.20812908 0.18974673 0.18055556 0.18239379 0.17708333\n",
      " 0.17810458 0.18055556 0.17810458 0.17851307 0.19607843 0.18913399\n",
      " 0.18954248 0.19403595 0.19444444 0.20200163 0.19771242 0.19934641\n",
      " 0.19873366 0.1997549  0.2128268  0.21568627 0.20445261 0.21772876\n",
      " 0.21098856 0.21425654 0.19750817 0.18811275 0.17851307 0.17381536\n",
      " 0.16033497 0.16564542 0.17116013 0.17422386 0.18035131 0.17401961\n",
      " 0.16278595 0.16973039 0.17810458 0.17034314 0.16830065 0.17279412\n",
      " 0.17544935 0.18382353 0.19138072 0.18913399 0.19097222 0.17238562\n",
      " 0.16830065 0.1693219  0.17177288 0.16156046 0.14971405 0.1503268\n",
      " 0.15196078 0.14726307 0.14501634 0.14603758 0.12479575 0.13112745\n",
      " 0.11397059 0.1190768  0.12377451 0.13562092 0.12908497 0.13459967\n",
      " 0.12806373 0.13031046 0.12724673 0.13521242 0.14522059 0.15257353\n",
      " 0.14848856 0.14338235 0.14562908 0.15236928 0.15400327 0.14971405\n",
      " 0.1621732  0.16319444 0.16584967 0.16550526 0.16474167 0.16412812\n",
      " 0.16314122 0.16232806 0.16156259 0.16089812 0.1602948  0.15974548\n",
      " 0.15923658 0.15876502 0.15832981 0.15793207 0.15757233 0.15724969\n",
      " 0.15696174 0.15670455 0.15647337 0.15626293]\n",
      "19 day output [[0.15606838]]\n",
      "20 day input [0.20812908 0.18974673 0.18055556 0.18239379 0.17708333 0.17810458\n",
      " 0.18055556 0.17810458 0.17851307 0.19607843 0.18913399 0.18954248\n",
      " 0.19403595 0.19444444 0.20200163 0.19771242 0.19934641 0.19873366\n",
      " 0.1997549  0.2128268  0.21568627 0.20445261 0.21772876 0.21098856\n",
      " 0.21425654 0.19750817 0.18811275 0.17851307 0.17381536 0.16033497\n",
      " 0.16564542 0.17116013 0.17422386 0.18035131 0.17401961 0.16278595\n",
      " 0.16973039 0.17810458 0.17034314 0.16830065 0.17279412 0.17544935\n",
      " 0.18382353 0.19138072 0.18913399 0.19097222 0.17238562 0.16830065\n",
      " 0.1693219  0.17177288 0.16156046 0.14971405 0.1503268  0.15196078\n",
      " 0.14726307 0.14501634 0.14603758 0.12479575 0.13112745 0.11397059\n",
      " 0.1190768  0.12377451 0.13562092 0.12908497 0.13459967 0.12806373\n",
      " 0.13031046 0.12724673 0.13521242 0.14522059 0.15257353 0.14848856\n",
      " 0.14338235 0.14562908 0.15236928 0.15400327 0.14971405 0.1621732\n",
      " 0.16319444 0.16584967 0.16550526 0.16474167 0.16412812 0.16314122\n",
      " 0.16232806 0.16156259 0.16089812 0.1602948  0.15974548 0.15923658\n",
      " 0.15876502 0.15832981 0.15793207 0.15757233 0.15724969 0.15696174\n",
      " 0.15670455 0.15647337 0.15626293 0.15606838]\n",
      "20 day output [[0.15588507]]\n",
      "21 day input [0.18974673 0.18055556 0.18239379 0.17708333 0.17810458 0.18055556\n",
      " 0.17810458 0.17851307 0.19607843 0.18913399 0.18954248 0.19403595\n",
      " 0.19444444 0.20200163 0.19771242 0.19934641 0.19873366 0.1997549\n",
      " 0.2128268  0.21568627 0.20445261 0.21772876 0.21098856 0.21425654\n",
      " 0.19750817 0.18811275 0.17851307 0.17381536 0.16033497 0.16564542\n",
      " 0.17116013 0.17422386 0.18035131 0.17401961 0.16278595 0.16973039\n",
      " 0.17810458 0.17034314 0.16830065 0.17279412 0.17544935 0.18382353\n",
      " 0.19138072 0.18913399 0.19097222 0.17238562 0.16830065 0.1693219\n",
      " 0.17177288 0.16156046 0.14971405 0.1503268  0.15196078 0.14726307\n",
      " 0.14501634 0.14603758 0.12479575 0.13112745 0.11397059 0.1190768\n",
      " 0.12377451 0.13562092 0.12908497 0.13459967 0.12806373 0.13031046\n",
      " 0.12724673 0.13521242 0.14522059 0.15257353 0.14848856 0.14338235\n",
      " 0.14562908 0.15236928 0.15400327 0.14971405 0.1621732  0.16319444\n",
      " 0.16584967 0.16550526 0.16474167 0.16412812 0.16314122 0.16232806\n",
      " 0.16156259 0.16089812 0.1602948  0.15974548 0.15923658 0.15876502\n",
      " 0.15832981 0.15793207 0.15757233 0.15724969 0.15696174 0.15670455\n",
      " 0.15647337 0.15626293 0.15606838 0.15588507]\n",
      "21 day output [[0.15570918]]\n",
      "22 day input [0.18055556 0.18239379 0.17708333 0.17810458 0.18055556 0.17810458\n",
      " 0.17851307 0.19607843 0.18913399 0.18954248 0.19403595 0.19444444\n",
      " 0.20200163 0.19771242 0.19934641 0.19873366 0.1997549  0.2128268\n",
      " 0.21568627 0.20445261 0.21772876 0.21098856 0.21425654 0.19750817\n",
      " 0.18811275 0.17851307 0.17381536 0.16033497 0.16564542 0.17116013\n",
      " 0.17422386 0.18035131 0.17401961 0.16278595 0.16973039 0.17810458\n",
      " 0.17034314 0.16830065 0.17279412 0.17544935 0.18382353 0.19138072\n",
      " 0.18913399 0.19097222 0.17238562 0.16830065 0.1693219  0.17177288\n",
      " 0.16156046 0.14971405 0.1503268  0.15196078 0.14726307 0.14501634\n",
      " 0.14603758 0.12479575 0.13112745 0.11397059 0.1190768  0.12377451\n",
      " 0.13562092 0.12908497 0.13459967 0.12806373 0.13031046 0.12724673\n",
      " 0.13521242 0.14522059 0.15257353 0.14848856 0.14338235 0.14562908\n",
      " 0.15236928 0.15400327 0.14971405 0.1621732  0.16319444 0.16584967\n",
      " 0.16550526 0.16474167 0.16412812 0.16314122 0.16232806 0.16156259\n",
      " 0.16089812 0.1602948  0.15974548 0.15923658 0.15876502 0.15832981\n",
      " 0.15793207 0.15757233 0.15724969 0.15696174 0.15670455 0.15647337\n",
      " 0.15626293 0.15606838 0.15588507 0.15570918]\n",
      "22 day output [[0.15553758]]\n",
      "23 day input [0.18239379 0.17708333 0.17810458 0.18055556 0.17810458 0.17851307\n",
      " 0.19607843 0.18913399 0.18954248 0.19403595 0.19444444 0.20200163\n",
      " 0.19771242 0.19934641 0.19873366 0.1997549  0.2128268  0.21568627\n",
      " 0.20445261 0.21772876 0.21098856 0.21425654 0.19750817 0.18811275\n",
      " 0.17851307 0.17381536 0.16033497 0.16564542 0.17116013 0.17422386\n",
      " 0.18035131 0.17401961 0.16278595 0.16973039 0.17810458 0.17034314\n",
      " 0.16830065 0.17279412 0.17544935 0.18382353 0.19138072 0.18913399\n",
      " 0.19097222 0.17238562 0.16830065 0.1693219  0.17177288 0.16156046\n",
      " 0.14971405 0.1503268  0.15196078 0.14726307 0.14501634 0.14603758\n",
      " 0.12479575 0.13112745 0.11397059 0.1190768  0.12377451 0.13562092\n",
      " 0.12908497 0.13459967 0.12806373 0.13031046 0.12724673 0.13521242\n",
      " 0.14522059 0.15257353 0.14848856 0.14338235 0.14562908 0.15236928\n",
      " 0.15400327 0.14971405 0.1621732  0.16319444 0.16584967 0.16550526\n",
      " 0.16474167 0.16412812 0.16314122 0.16232806 0.16156259 0.16089812\n",
      " 0.1602948  0.15974548 0.15923658 0.15876502 0.15832981 0.15793207\n",
      " 0.15757233 0.15724969 0.15696174 0.15670455 0.15647337 0.15626293\n",
      " 0.15606838 0.15588507 0.15570918 0.15553758]\n",
      "23 day output [[0.15536788]]\n",
      "24 day input [0.17708333 0.17810458 0.18055556 0.17810458 0.17851307 0.19607843\n",
      " 0.18913399 0.18954248 0.19403595 0.19444444 0.20200163 0.19771242\n",
      " 0.19934641 0.19873366 0.1997549  0.2128268  0.21568627 0.20445261\n",
      " 0.21772876 0.21098856 0.21425654 0.19750817 0.18811275 0.17851307\n",
      " 0.17381536 0.16033497 0.16564542 0.17116013 0.17422386 0.18035131\n",
      " 0.17401961 0.16278595 0.16973039 0.17810458 0.17034314 0.16830065\n",
      " 0.17279412 0.17544935 0.18382353 0.19138072 0.18913399 0.19097222\n",
      " 0.17238562 0.16830065 0.1693219  0.17177288 0.16156046 0.14971405\n",
      " 0.1503268  0.15196078 0.14726307 0.14501634 0.14603758 0.12479575\n",
      " 0.13112745 0.11397059 0.1190768  0.12377451 0.13562092 0.12908497\n",
      " 0.13459967 0.12806373 0.13031046 0.12724673 0.13521242 0.14522059\n",
      " 0.15257353 0.14848856 0.14338235 0.14562908 0.15236928 0.15400327\n",
      " 0.14971405 0.1621732  0.16319444 0.16584967 0.16550526 0.16474167\n",
      " 0.16412812 0.16314122 0.16232806 0.16156259 0.16089812 0.1602948\n",
      " 0.15974548 0.15923658 0.15876502 0.15832981 0.15793207 0.15757233\n",
      " 0.15724969 0.15696174 0.15670455 0.15647337 0.15626293 0.15606838\n",
      " 0.15588507 0.15570918 0.15553758 0.15536788]\n",
      "24 day output [[0.15519845]]\n",
      "25 day input [0.17810458 0.18055556 0.17810458 0.17851307 0.19607843 0.18913399\n",
      " 0.18954248 0.19403595 0.19444444 0.20200163 0.19771242 0.19934641\n",
      " 0.19873366 0.1997549  0.2128268  0.21568627 0.20445261 0.21772876\n",
      " 0.21098856 0.21425654 0.19750817 0.18811275 0.17851307 0.17381536\n",
      " 0.16033497 0.16564542 0.17116013 0.17422386 0.18035131 0.17401961\n",
      " 0.16278595 0.16973039 0.17810458 0.17034314 0.16830065 0.17279412\n",
      " 0.17544935 0.18382353 0.19138072 0.18913399 0.19097222 0.17238562\n",
      " 0.16830065 0.1693219  0.17177288 0.16156046 0.14971405 0.1503268\n",
      " 0.15196078 0.14726307 0.14501634 0.14603758 0.12479575 0.13112745\n",
      " 0.11397059 0.1190768  0.12377451 0.13562092 0.12908497 0.13459967\n",
      " 0.12806373 0.13031046 0.12724673 0.13521242 0.14522059 0.15257353\n",
      " 0.14848856 0.14338235 0.14562908 0.15236928 0.15400327 0.14971405\n",
      " 0.1621732  0.16319444 0.16584967 0.16550526 0.16474167 0.16412812\n",
      " 0.16314122 0.16232806 0.16156259 0.16089812 0.1602948  0.15974548\n",
      " 0.15923658 0.15876502 0.15832981 0.15793207 0.15757233 0.15724969\n",
      " 0.15696174 0.15670455 0.15647337 0.15626293 0.15606838 0.15588507\n",
      " 0.15570918 0.15553758 0.15536788 0.15519845]\n",
      "25 day output [[0.15502822]]\n",
      "26 day input [0.18055556 0.17810458 0.17851307 0.19607843 0.18913399 0.18954248\n",
      " 0.19403595 0.19444444 0.20200163 0.19771242 0.19934641 0.19873366\n",
      " 0.1997549  0.2128268  0.21568627 0.20445261 0.21772876 0.21098856\n",
      " 0.21425654 0.19750817 0.18811275 0.17851307 0.17381536 0.16033497\n",
      " 0.16564542 0.17116013 0.17422386 0.18035131 0.17401961 0.16278595\n",
      " 0.16973039 0.17810458 0.17034314 0.16830065 0.17279412 0.17544935\n",
      " 0.18382353 0.19138072 0.18913399 0.19097222 0.17238562 0.16830065\n",
      " 0.1693219  0.17177288 0.16156046 0.14971405 0.1503268  0.15196078\n",
      " 0.14726307 0.14501634 0.14603758 0.12479575 0.13112745 0.11397059\n",
      " 0.1190768  0.12377451 0.13562092 0.12908497 0.13459967 0.12806373\n",
      " 0.13031046 0.12724673 0.13521242 0.14522059 0.15257353 0.14848856\n",
      " 0.14338235 0.14562908 0.15236928 0.15400327 0.14971405 0.1621732\n",
      " 0.16319444 0.16584967 0.16550526 0.16474167 0.16412812 0.16314122\n",
      " 0.16232806 0.16156259 0.16089812 0.1602948  0.15974548 0.15923658\n",
      " 0.15876502 0.15832981 0.15793207 0.15757233 0.15724969 0.15696174\n",
      " 0.15670455 0.15647337 0.15626293 0.15606838 0.15588507 0.15570918\n",
      " 0.15553758 0.15536788 0.15519845 0.15502822]\n",
      "26 day output [[0.15485659]]\n",
      "27 day input [0.17810458 0.17851307 0.19607843 0.18913399 0.18954248 0.19403595\n",
      " 0.19444444 0.20200163 0.19771242 0.19934641 0.19873366 0.1997549\n",
      " 0.2128268  0.21568627 0.20445261 0.21772876 0.21098856 0.21425654\n",
      " 0.19750817 0.18811275 0.17851307 0.17381536 0.16033497 0.16564542\n",
      " 0.17116013 0.17422386 0.18035131 0.17401961 0.16278595 0.16973039\n",
      " 0.17810458 0.17034314 0.16830065 0.17279412 0.17544935 0.18382353\n",
      " 0.19138072 0.18913399 0.19097222 0.17238562 0.16830065 0.1693219\n",
      " 0.17177288 0.16156046 0.14971405 0.1503268  0.15196078 0.14726307\n",
      " 0.14501634 0.14603758 0.12479575 0.13112745 0.11397059 0.1190768\n",
      " 0.12377451 0.13562092 0.12908497 0.13459967 0.12806373 0.13031046\n",
      " 0.12724673 0.13521242 0.14522059 0.15257353 0.14848856 0.14338235\n",
      " 0.14562908 0.15236928 0.15400327 0.14971405 0.1621732  0.16319444\n",
      " 0.16584967 0.16550526 0.16474167 0.16412812 0.16314122 0.16232806\n",
      " 0.16156259 0.16089812 0.1602948  0.15974548 0.15923658 0.15876502\n",
      " 0.15832981 0.15793207 0.15757233 0.15724969 0.15696174 0.15670455\n",
      " 0.15647337 0.15626293 0.15606838 0.15588507 0.15570918 0.15553758\n",
      " 0.15536788 0.15519845 0.15502822 0.15485659]\n",
      "27 day output [[0.15468341]]\n",
      "28 day input [0.17851307 0.19607843 0.18913399 0.18954248 0.19403595 0.19444444\n",
      " 0.20200163 0.19771242 0.19934641 0.19873366 0.1997549  0.2128268\n",
      " 0.21568627 0.20445261 0.21772876 0.21098856 0.21425654 0.19750817\n",
      " 0.18811275 0.17851307 0.17381536 0.16033497 0.16564542 0.17116013\n",
      " 0.17422386 0.18035131 0.17401961 0.16278595 0.16973039 0.17810458\n",
      " 0.17034314 0.16830065 0.17279412 0.17544935 0.18382353 0.19138072\n",
      " 0.18913399 0.19097222 0.17238562 0.16830065 0.1693219  0.17177288\n",
      " 0.16156046 0.14971405 0.1503268  0.15196078 0.14726307 0.14501634\n",
      " 0.14603758 0.12479575 0.13112745 0.11397059 0.1190768  0.12377451\n",
      " 0.13562092 0.12908497 0.13459967 0.12806373 0.13031046 0.12724673\n",
      " 0.13521242 0.14522059 0.15257353 0.14848856 0.14338235 0.14562908\n",
      " 0.15236928 0.15400327 0.14971405 0.1621732  0.16319444 0.16584967\n",
      " 0.16550526 0.16474167 0.16412812 0.16314122 0.16232806 0.16156259\n",
      " 0.16089812 0.1602948  0.15974548 0.15923658 0.15876502 0.15832981\n",
      " 0.15793207 0.15757233 0.15724969 0.15696174 0.15670455 0.15647337\n",
      " 0.15626293 0.15606838 0.15588507 0.15570918 0.15553758 0.15536788\n",
      " 0.15519845 0.15502822 0.15485659 0.15468341]\n",
      "28 day output [[0.15450871]]\n",
      "29 day input [0.19607843 0.18913399 0.18954248 0.19403595 0.19444444 0.20200163\n",
      " 0.19771242 0.19934641 0.19873366 0.1997549  0.2128268  0.21568627\n",
      " 0.20445261 0.21772876 0.21098856 0.21425654 0.19750817 0.18811275\n",
      " 0.17851307 0.17381536 0.16033497 0.16564542 0.17116013 0.17422386\n",
      " 0.18035131 0.17401961 0.16278595 0.16973039 0.17810458 0.17034314\n",
      " 0.16830065 0.17279412 0.17544935 0.18382353 0.19138072 0.18913399\n",
      " 0.19097222 0.17238562 0.16830065 0.1693219  0.17177288 0.16156046\n",
      " 0.14971405 0.1503268  0.15196078 0.14726307 0.14501634 0.14603758\n",
      " 0.12479575 0.13112745 0.11397059 0.1190768  0.12377451 0.13562092\n",
      " 0.12908497 0.13459967 0.12806373 0.13031046 0.12724673 0.13521242\n",
      " 0.14522059 0.15257353 0.14848856 0.14338235 0.14562908 0.15236928\n",
      " 0.15400327 0.14971405 0.1621732  0.16319444 0.16584967 0.16550526\n",
      " 0.16474167 0.16412812 0.16314122 0.16232806 0.16156259 0.16089812\n",
      " 0.1602948  0.15974548 0.15923658 0.15876502 0.15832981 0.15793207\n",
      " 0.15757233 0.15724969 0.15696174 0.15670455 0.15647337 0.15626293\n",
      " 0.15606838 0.15588507 0.15570918 0.15553758 0.15536788 0.15519845\n",
      " 0.15502822 0.15485659 0.15468341 0.15450871]\n",
      "29 day output [[0.15433282]]\n",
      "[[0.16550526022911072], [0.1647416651248932], [0.1641281247138977], [0.16314122080802917], [0.1623280644416809], [0.16156259179115295], [0.1608981192111969], [0.1602948009967804], [0.1597454845905304], [0.1592365801334381], [0.1587650179862976], [0.1583298146724701], [0.1579320728778839], [0.15757232904434204], [0.15724968910217285], [0.15696173906326294], [0.15670454502105713], [0.15647336840629578], [0.15626293420791626], [0.15606838464736938], [0.15588507056236267], [0.1557091772556305], [0.15553757548332214], [0.1553678810596466], [0.15519845485687256], [0.15502822399139404], [0.1548565924167633], [0.1546834111213684], [0.15450870990753174], [0.15433281660079956]]\n"
     ]
    }
   ],
   "source": [
    "from numpy import array\n",
    "\n",
    "lst_output=[]\n",
    "n_steps=100\n",
    "i=0\n",
    "while(i<30):\n",
    "    \n",
    "    if(len(temp_input)>100):\n",
    "        #print(temp_input)\n",
    "        x_input=np.array(temp_input[1:])\n",
    "        print(\"{} day input {}\".format(i,x_input))\n",
    "        x_input=x_input.reshape(1,-1)\n",
    "        x_input = x_input.reshape((1, n_steps, 1))\n",
    "        #print(x_input)\n",
    "        yhat = model.predict(x_input, verbose=0)\n",
    "        print(\"{} day output {}\".format(i,yhat))\n",
    "        temp_input.extend(yhat[0].tolist())\n",
    "        temp_input=temp_input[1:]\n",
    "        #print(temp_input)\n",
    "        lst_output.extend(yhat.tolist())\n",
    "        i=i+1\n",
    "    else:\n",
    "        x_input = x_input.reshape((1, n_steps,1))\n",
    "        yhat = model.predict(x_input, verbose=0)\n",
    "        print(yhat[0])\n",
    "        temp_input.extend(yhat[0].tolist())\n",
    "        print(len(temp_input))\n",
    "        lst_output.extend(yhat.tolist())\n",
    "        i=i+1\n",
    "    \n",
    "\n",
    "print(lst_output)"
   ]
  },
  {
   "cell_type": "code",
   "execution_count": 58,
   "id": "54d03c00",
   "metadata": {
    "execution": {
     "iopub.execute_input": "2023-12-12T21:17:47.243420Z",
     "iopub.status.busy": "2023-12-12T21:17:47.242652Z",
     "iopub.status.idle": "2023-12-12T21:17:47.248161Z",
     "shell.execute_reply": "2023-12-12T21:17:47.247235Z"
    },
    "papermill": {
     "duration": 0.58338,
     "end_time": "2023-12-12T21:17:47.250580",
     "exception": false,
     "start_time": "2023-12-12T21:17:46.667200",
     "status": "completed"
    },
    "tags": []
   },
   "outputs": [],
   "source": [
    "day_new=np.arange(1,101)\n",
    "day_pred=np.arange(101,131)"
   ]
  },
  {
   "cell_type": "code",
   "execution_count": 59,
   "id": "26907bdb",
   "metadata": {
    "execution": {
     "iopub.execute_input": "2023-12-12T21:17:48.476653Z",
     "iopub.status.busy": "2023-12-12T21:17:48.476176Z",
     "iopub.status.idle": "2023-12-12T21:17:48.481638Z",
     "shell.execute_reply": "2023-12-12T21:17:48.480348Z"
    },
    "papermill": {
     "duration": 0.588606,
     "end_time": "2023-12-12T21:17:48.484427",
     "exception": false,
     "start_time": "2023-12-12T21:17:47.895821",
     "status": "completed"
    },
    "tags": []
   },
   "outputs": [],
   "source": [
    "import matplotlib.pyplot as plt"
   ]
  },
  {
   "cell_type": "code",
   "execution_count": 60,
   "id": "060cf030",
   "metadata": {
    "execution": {
     "iopub.execute_input": "2023-12-12T21:17:49.639466Z",
     "iopub.status.busy": "2023-12-12T21:17:49.638641Z",
     "iopub.status.idle": "2023-12-12T21:17:49.645832Z",
     "shell.execute_reply": "2023-12-12T21:17:49.644634Z"
    },
    "papermill": {
     "duration": 0.590652,
     "end_time": "2023-12-12T21:17:49.648171",
     "exception": false,
     "start_time": "2023-12-12T21:17:49.057519",
     "status": "completed"
    },
    "tags": []
   },
   "outputs": [
    {
     "data": {
      "text/plain": [
       "2035"
      ]
     },
     "execution_count": 60,
     "metadata": {},
     "output_type": "execute_result"
    }
   ],
   "source": [
    "len(df1)"
   ]
  },
  {
   "cell_type": "code",
   "execution_count": 61,
   "id": "0384771c",
   "metadata": {
    "execution": {
     "iopub.execute_input": "2023-12-12T21:17:50.929809Z",
     "iopub.status.busy": "2023-12-12T21:17:50.929010Z",
     "iopub.status.idle": "2023-12-12T21:17:50.940769Z",
     "shell.execute_reply": "2023-12-12T21:17:50.939495Z"
    },
    "papermill": {
     "duration": 0.688836,
     "end_time": "2023-12-12T21:17:50.943412",
     "exception": false,
     "start_time": "2023-12-12T21:17:50.254576",
     "status": "completed"
    },
    "tags": []
   },
   "outputs": [
    {
     "data": {
      "text/plain": [
       "[111.5,\n",
       " 114.85,\n",
       " 115.25,\n",
       " 114.95,\n",
       " 114.1,\n",
       " 115.25,\n",
       " 114.75,\n",
       " 112.95,\n",
       " 112.95,\n",
       " 112.45,\n",
       " 109.95,\n",
       " 116.8,\n",
       " 117.2,\n",
       " 119.9,\n",
       " 120.1,\n",
       " 119.6,\n",
       " 121.2,\n",
       " 124.75000000000001,\n",
       " 124.84999999999998,\n",
       " 128.1,\n",
       " 131.9,\n",
       " 127.4,\n",
       " 125.15,\n",
       " 125.59999999999998,\n",
       " 124.29999999999998,\n",
       " 124.54999999999998,\n",
       " 125.15,\n",
       " 124.54999999999998,\n",
       " 124.65,\n",
       " 128.95,\n",
       " 127.25,\n",
       " 127.35000000000001,\n",
       " 128.45,\n",
       " 128.55,\n",
       " 130.4,\n",
       " 129.35,\n",
       " 129.75,\n",
       " 129.6,\n",
       " 129.85,\n",
       " 133.05,\n",
       " 133.75,\n",
       " 131.0,\n",
       " 134.25,\n",
       " 132.6,\n",
       " 133.4,\n",
       " 129.3,\n",
       " 127.0,\n",
       " 124.65,\n",
       " 123.49999999999999,\n",
       " 120.2,\n",
       " 121.5,\n",
       " 122.85,\n",
       " 123.6,\n",
       " 125.09999999999998,\n",
       " 123.54999999999998,\n",
       " 120.8,\n",
       " 122.49999999999999,\n",
       " 124.54999999999998,\n",
       " 122.64999999999999,\n",
       " 122.15,\n",
       " 123.24999999999999,\n",
       " 123.90000000000002,\n",
       " 125.95,\n",
       " 127.8,\n",
       " 127.25,\n",
       " 127.7,\n",
       " 123.15000000000002,\n",
       " 122.15,\n",
       " 122.39999999999999,\n",
       " 122.99999999999999,\n",
       " 120.5,\n",
       " 117.6,\n",
       " 117.75,\n",
       " 118.15,\n",
       " 117.0,\n",
       " 116.45,\n",
       " 116.7,\n",
       " 111.5,\n",
       " 113.05,\n",
       " 108.85,\n",
       " 110.1,\n",
       " 111.25,\n",
       " 114.15,\n",
       " 112.55,\n",
       " 113.9,\n",
       " 112.3,\n",
       " 112.85,\n",
       " 112.1,\n",
       " 114.05,\n",
       " 116.5,\n",
       " 118.3,\n",
       " 117.3,\n",
       " 116.05,\n",
       " 116.6,\n",
       " 118.25,\n",
       " 118.65,\n",
       " 117.6,\n",
       " 120.65,\n",
       " 120.9,\n",
       " 121.55,\n",
       " 121.4656877040863,\n",
       " 121.27875962257386,\n",
       " 121.12856492996217,\n",
       " 120.88697085380555,\n",
       " 120.6879101753235,\n",
       " 120.50052247047425,\n",
       " 120.337859582901,\n",
       " 120.19016728401185,\n",
       " 120.05569462776185,\n",
       " 119.93111481666566,\n",
       " 119.81567640304566,\n",
       " 119.70913863182068,\n",
       " 119.61177144050599,\n",
       " 119.52370615005493,\n",
       " 119.44472389221193,\n",
       " 119.37423372268677,\n",
       " 119.31127262115479,\n",
       " 119.25468058586121,\n",
       " 119.20316629409791,\n",
       " 119.15554056167603,\n",
       " 119.11066527366638,\n",
       " 119.06760659217835,\n",
       " 119.02559847831726,\n",
       " 118.9840572834015,\n",
       " 118.94258174896241,\n",
       " 118.90090923309327,\n",
       " 118.85889382362366,\n",
       " 118.816499042511,\n",
       " 118.77373218536377,\n",
       " 118.73067350387574]"
      ]
     },
     "execution_count": 61,
     "metadata": {},
     "output_type": "execute_result"
    }
   ],
   "source": [
    "pllt=scaler.inverse_transform(df1[-100:]).tolist()\n",
    "pllt.extend(scaler.inverse_transform(lst_output).tolist())\n",
    "jlk=[]\n",
    "for i in pllt:\n",
    "  jlk.append(i[0])\n",
    "\n",
    "jlk"
   ]
  },
  {
   "cell_type": "code",
   "execution_count": 62,
   "id": "f6a08172",
   "metadata": {
    "execution": {
     "iopub.execute_input": "2023-12-12T21:17:52.096965Z",
     "iopub.status.busy": "2023-12-12T21:17:52.096079Z",
     "iopub.status.idle": "2023-12-12T21:17:52.106033Z",
     "shell.execute_reply": "2023-12-12T21:17:52.104507Z"
    },
    "papermill": {
     "duration": 0.586957,
     "end_time": "2023-12-12T21:17:52.108885",
     "exception": false,
     "start_time": "2023-12-12T21:17:51.521928",
     "status": "completed"
    },
    "tags": []
   },
   "outputs": [],
   "source": [
    "pllt=pd.Series(jlk)\n",
    "pllt.to_csv(\"Extended.csv\")"
   ]
  },
  {
   "cell_type": "code",
   "execution_count": 63,
   "id": "d4b06719",
   "metadata": {
    "execution": {
     "iopub.execute_input": "2023-12-12T21:17:53.304051Z",
     "iopub.status.busy": "2023-12-12T21:17:53.303654Z",
     "iopub.status.idle": "2023-12-12T21:17:54.002893Z",
     "shell.execute_reply": "2023-12-12T21:17:54.001690Z"
    },
    "papermill": {
     "duration": 1.284505,
     "end_time": "2023-12-12T21:17:54.006841",
     "exception": false,
     "start_time": "2023-12-12T21:17:52.722336",
     "status": "completed"
    },
    "tags": []
   },
   "outputs": [
    {
     "data": {
      "text/plain": [
       "[<matplotlib.lines.Line2D at 0x7e089335c6a0>]"
      ]
     },
     "execution_count": 63,
     "metadata": {},
     "output_type": "execute_result"
    },
    {
     "data": {
      "image/png": "[encoded data removed]",
      "text/plain": [
       "<Figure size 2000x2000 with 1 Axes>"
      ]
     },
     "metadata": {},
     "output_type": "display_data"
    }
   ],
   "source": [
    "df3=df1.tolist()\n",
    "df3.extend(lst_output)\n",
    "plt.plot(df3[1200:])"
   ]
  },
  {
   "cell_type": "code",
   "execution_count": 64,
   "id": "7387d7b7",
   "metadata": {
    "execution": {
     "iopub.execute_input": "2023-12-12T21:17:55.242841Z",
     "iopub.status.busy": "2023-12-12T21:17:55.242384Z",
     "iopub.status.idle": "2023-12-12T21:17:55.253056Z",
     "shell.execute_reply": "2023-12-12T21:17:55.251699Z"
    },
    "papermill": {
     "duration": 0.589088,
     "end_time": "2023-12-12T21:17:55.255598",
     "exception": false,
     "start_time": "2023-12-12T21:17:54.666510",
     "status": "completed"
    },
    "tags": []
   },
   "outputs": [],
   "source": [
    "df3=scaler.inverse_transform(df3).tolist()"
   ]
  },
  {
   "cell_type": "code",
   "execution_count": 65,
   "id": "74ae7d00",
   "metadata": {
    "execution": {
     "iopub.execute_input": "2023-12-12T21:17:56.405560Z",
     "iopub.status.busy": "2023-12-12T21:17:56.405085Z",
     "iopub.status.idle": "2023-12-12T21:17:57.029207Z",
     "shell.execute_reply": "2023-12-12T21:17:57.027915Z"
    },
    "papermill": {
     "duration": 1.203982,
     "end_time": "2023-12-12T21:17:57.032641",
     "exception": false,
     "start_time": "2023-12-12T21:17:55.828659",
     "status": "completed"
    },
    "tags": []
   },
   "outputs": [
    {
     "data": {
      "text/plain": [
       "[<matplotlib.lines.Line2D at 0x7e0893350e20>]"
      ]
     },
     "execution_count": 65,
     "metadata": {},
     "output_type": "execute_result"
    },
    {
     "data": {
      "image/png": "[encoded data removed]",
      "text/plain": [
       "<Figure size 2000x2000 with 1 Axes>"
      ]
     },
     "metadata": {},
     "output_type": "display_data"
    }
   ],
   "source": [
    "plt.plot(df3)"
   ]
  },
  {
   "cell_type": "code",
   "execution_count": 66,
   "id": "a4efb47d",
   "metadata": {
    "execution": {
     "iopub.execute_input": "2023-12-12T21:17:58.277405Z",
     "iopub.status.busy": "2023-12-12T21:17:58.276929Z",
     "iopub.status.idle": "2023-12-12T21:17:58.296602Z",
     "shell.execute_reply": "2023-12-12T21:17:58.295492Z"
    },
    "papermill": {
     "duration": 0.603717,
     "end_time": "2023-12-12T21:17:58.299016",
     "exception": false,
     "start_time": "2023-12-12T21:17:57.695299",
     "status": "completed"
    },
    "tags": []
   },
   "outputs": [
    {
     "data": {
      "text/html": [
       "<div>\n",
       "<style scoped>\n",
       "    .dataframe tbody tr th:only-of-type {\n",
       "        vertical-align: middle;\n",
       "    }\n",
       "\n",
       "    .dataframe tbody tr th {\n",
       "        vertical-align: top;\n",
       "    }\n",
       "\n",
       "    .dataframe thead th {\n",
       "        text-align: right;\n",
       "    }\n",
       "</style>\n",
       "<table border=\"1\" class=\"dataframe\">\n",
       "  <thead>\n",
       "    <tr style=\"text-align: right;\">\n",
       "      <th></th>\n",
       "      <th>Date</th>\n",
       "      <th>Open</th>\n",
       "      <th>High</th>\n",
       "      <th>Low</th>\n",
       "      <th>Last</th>\n",
       "      <th>Close</th>\n",
       "      <th>Total Trade Quantity</th>\n",
       "      <th>Turnover (Lacs)</th>\n",
       "    </tr>\n",
       "  </thead>\n",
       "  <tbody>\n",
       "    <tr>\n",
       "      <th>0</th>\n",
       "      <td>2018-09-28</td>\n",
       "      <td>234.05</td>\n",
       "      <td>235.95</td>\n",
       "      <td>230.20</td>\n",
       "      <td>233.50</td>\n",
       "      <td>233.75</td>\n",
       "      <td>3069914</td>\n",
       "      <td>7162.35</td>\n",
       "    </tr>\n",
       "    <tr>\n",
       "      <th>1</th>\n",
       "      <td>2018-09-27</td>\n",
       "      <td>234.55</td>\n",
       "      <td>236.80</td>\n",
       "      <td>231.10</td>\n",
       "      <td>233.80</td>\n",
       "      <td>233.25</td>\n",
       "      <td>5082859</td>\n",
       "      <td>11859.95</td>\n",
       "    </tr>\n",
       "    <tr>\n",
       "      <th>2</th>\n",
       "      <td>2018-09-26</td>\n",
       "      <td>240.00</td>\n",
       "      <td>240.00</td>\n",
       "      <td>232.50</td>\n",
       "      <td>235.00</td>\n",
       "      <td>234.25</td>\n",
       "      <td>2240909</td>\n",
       "      <td>5248.60</td>\n",
       "    </tr>\n",
       "    <tr>\n",
       "      <th>3</th>\n",
       "      <td>2018-09-25</td>\n",
       "      <td>233.30</td>\n",
       "      <td>236.75</td>\n",
       "      <td>232.00</td>\n",
       "      <td>236.25</td>\n",
       "      <td>236.10</td>\n",
       "      <td>2349368</td>\n",
       "      <td>5503.90</td>\n",
       "    </tr>\n",
       "    <tr>\n",
       "      <th>4</th>\n",
       "      <td>2018-09-24</td>\n",
       "      <td>233.55</td>\n",
       "      <td>239.20</td>\n",
       "      <td>230.75</td>\n",
       "      <td>234.00</td>\n",
       "      <td>233.30</td>\n",
       "      <td>3423509</td>\n",
       "      <td>7999.55</td>\n",
       "    </tr>\n",
       "    <tr>\n",
       "      <th>...</th>\n",
       "      <td>...</td>\n",
       "      <td>...</td>\n",
       "      <td>...</td>\n",
       "      <td>...</td>\n",
       "      <td>...</td>\n",
       "      <td>...</td>\n",
       "      <td>...</td>\n",
       "      <td>...</td>\n",
       "    </tr>\n",
       "    <tr>\n",
       "      <th>2030</th>\n",
       "      <td>2010-07-27</td>\n",
       "      <td>117.60</td>\n",
       "      <td>119.50</td>\n",
       "      <td>112.00</td>\n",
       "      <td>118.80</td>\n",
       "      <td>118.65</td>\n",
       "      <td>586100</td>\n",
       "      <td>694.98</td>\n",
       "    </tr>\n",
       "    <tr>\n",
       "      <th>2031</th>\n",
       "      <td>2010-07-26</td>\n",
       "      <td>120.10</td>\n",
       "      <td>121.00</td>\n",
       "      <td>117.10</td>\n",
       "      <td>117.10</td>\n",
       "      <td>117.60</td>\n",
       "      <td>658440</td>\n",
       "      <td>780.01</td>\n",
       "    </tr>\n",
       "    <tr>\n",
       "      <th>2032</th>\n",
       "      <td>2010-07-23</td>\n",
       "      <td>121.80</td>\n",
       "      <td>121.95</td>\n",
       "      <td>120.25</td>\n",
       "      <td>120.35</td>\n",
       "      <td>120.65</td>\n",
       "      <td>281312</td>\n",
       "      <td>340.31</td>\n",
       "    </tr>\n",
       "    <tr>\n",
       "      <th>2033</th>\n",
       "      <td>2010-07-22</td>\n",
       "      <td>120.30</td>\n",
       "      <td>122.00</td>\n",
       "      <td>120.25</td>\n",
       "      <td>120.75</td>\n",
       "      <td>120.90</td>\n",
       "      <td>293312</td>\n",
       "      <td>355.17</td>\n",
       "    </tr>\n",
       "    <tr>\n",
       "      <th>2034</th>\n",
       "      <td>2010-07-21</td>\n",
       "      <td>122.10</td>\n",
       "      <td>123.00</td>\n",
       "      <td>121.05</td>\n",
       "      <td>121.10</td>\n",
       "      <td>121.55</td>\n",
       "      <td>658666</td>\n",
       "      <td>803.56</td>\n",
       "    </tr>\n",
       "  </tbody>\n",
       "</table>\n",
       "<p>2035 rows × 8 columns</p>\n",
       "</div>"
      ],
      "text/plain": [
       "           Date   Open   High    Low   Last  Close  Total Trade Quantity  \\\n",
       "0    2018-09-28 234.05 235.95 230.20 233.50 233.75               3069914   \n",
       "1    2018-09-27 234.55 236.80 231.10 233.80 233.25               5082859   \n",
       "2    2018-09-26 240.00 240.00 232.50 235.00 234.25               2240909   \n",
       "3    2018-09-25 233.30 236.75 232.00 236.25 236.10               2349368   \n",
       "4    2018-09-24 233.55 239.20 230.75 234.00 233.30               3423509   \n",
       "...         ...    ...    ...    ...    ...    ...                   ...   \n",
       "2030 2010-07-27 117.60 119.50 112.00 118.80 118.65                586100   \n",
       "2031 2010-07-26 120.10 121.00 117.10 117.10 117.60                658440   \n",
       "2032 2010-07-23 121.80 121.95 120.25 120.35 120.65                281312   \n",
       "2033 2010-07-22 120.30 122.00 120.25 120.75 120.90                293312   \n",
       "2034 2010-07-21 122.10 123.00 121.05 121.10 121.55                658666   \n",
       "\n",
       "      Turnover (Lacs)  \n",
       "0             7162.35  \n",
       "1            11859.95  \n",
       "2             5248.60  \n",
       "3             5503.90  \n",
       "4             7999.55  \n",
       "...               ...  \n",
       "2030           694.98  \n",
       "2031           780.01  \n",
       "2032           340.31  \n",
       "2033           355.17  \n",
       "2034           803.56  \n",
       "\n",
       "[2035 rows x 8 columns]"
      ]
     },
     "execution_count": 66,
     "metadata": {},
     "output_type": "execute_result"
    }
   ],
   "source": [
    "df"
   ]
  },
  {
   "cell_type": "code",
   "execution_count": 67,
   "id": "e5147a9f",
   "metadata": {
    "execution": {
     "iopub.execute_input": "2023-12-12T21:17:59.454182Z",
     "iopub.status.busy": "2023-12-12T21:17:59.453738Z",
     "iopub.status.idle": "2023-12-12T21:17:59.644589Z",
     "shell.execute_reply": "2023-12-12T21:17:59.642083Z"
    },
    "papermill": {
     "duration": 0.776263,
     "end_time": "2023-12-12T21:17:59.647218",
     "exception": false,
     "start_time": "2023-12-12T21:17:58.870955",
     "status": "completed"
    },
    "tags": []
   },
   "outputs": [
    {
     "name": "stdout",
     "output_type": "stream",
     "text": [
      "[[0.749174]] minute output\n",
      "[[0.7355615]] minute output\n"
     ]
    }
   ],
   "source": [
    "import pandas as pd\n",
    "import numpy as np\n",
    "from sklearn.preprocessing import MinMaxScaler\n",
    "from keras.models import Sequential\n",
    "from keras.layers import Dense, LSTM\n",
    "\n",
    "# Sample data creation\n",
    "data = {'Date': pd.date_range(start='2023-01-01', periods=200, freq='D'),\n",
    "        'Close': np.random.rand(200)}\n",
    "testt = pd.DataFrame(data)\n",
    "\n",
    "# Assuming you have already defined and trained your model\n",
    "# model = ...\n",
    "\n",
    "# Assuming 'Date' and 'Close' columns are present in your test data\n",
    "testt[\"Date\"] = pd.to_datetime(testt['Date'], unit='s')\n",
    "testt1 = testt[\"Close\"][-100:]\n",
    "\n",
    "scaler = MinMaxScaler(feature_range=(0, 1))\n",
    "testt1 = scaler.fit_transform(np.array(testt1).reshape(-1, 1))\n",
    "\n",
    "# Assuming you have already defined and trained your model\n",
    "# model = ...\n",
    "\n",
    "def turn(testt1):\n",
    "    x_input = testt1.reshape(1, -1)\n",
    "    x_input = x_input.reshape((1, 100, 1))\n",
    "    yhat = model.predict(x_input, verbose=0)\n",
    "    yhat = scaler.inverse_transform(yhat)\n",
    "    print(\"{} minute output\".format(yhat))\n",
    "    return yhat\n",
    "\n",
    "iop = []\n",
    "yo = turn(testt1)\n",
    "iop.append(yo)\n",
    "\n",
    "# Use np.concatenate to append the prediction to the array\n",
    "yo = np.array(yo[0][0])\n",
    "testt1 = np.concatenate((testt1, yo), axis=None)\n",
    "testt1 = testt1[1:]  # Remove the first element\n",
    "yo = turn(testt1)\n",
    "iop.append(yo)\n"
   ]
  },
  {
   "cell_type": "code",
   "execution_count": 68,
   "id": "41359bfd",
   "metadata": {
    "execution": {
     "iopub.execute_input": "2023-12-12T21:18:00.918716Z",
     "iopub.status.busy": "2023-12-12T21:18:00.918229Z",
     "iopub.status.idle": "2023-12-12T21:18:00.923028Z",
     "shell.execute_reply": "2023-12-12T21:18:00.922181Z"
    },
    "papermill": {
     "duration": 0.590335,
     "end_time": "2023-12-12T21:18:00.925307",
     "exception": false,
     "start_time": "2023-12-12T21:18:00.334972",
     "status": "completed"
    },
    "tags": []
   },
   "outputs": [],
   "source": [
    "yhat=pd.Series(np.ravel(iop))"
   ]
  },
  {
   "cell_type": "code",
   "execution_count": 69,
   "id": "c070c723",
   "metadata": {
    "execution": {
     "iopub.execute_input": "2023-12-12T21:18:02.099151Z",
     "iopub.status.busy": "2023-12-12T21:18:02.098577Z",
     "iopub.status.idle": "2023-12-12T21:18:02.106265Z",
     "shell.execute_reply": "2023-12-12T21:18:02.105010Z"
    },
    "papermill": {
     "duration": 0.594942,
     "end_time": "2023-12-12T21:18:02.108560",
     "exception": false,
     "start_time": "2023-12-12T21:18:01.513618",
     "status": "completed"
    },
    "tags": []
   },
   "outputs": [],
   "source": [
    "import pandas as pd\n",
    "df2 = pd.DataFrame()\n",
    "df2 = pd.concat([df2, yhat], ignore_index=True)"
   ]
  },
  {
   "cell_type": "code",
   "execution_count": 70,
   "id": "3f8d4299",
   "metadata": {
    "execution": {
     "iopub.execute_input": "2023-12-12T21:18:03.286709Z",
     "iopub.status.busy": "2023-12-12T21:18:03.285706Z",
     "iopub.status.idle": "2023-12-12T21:18:03.296143Z",
     "shell.execute_reply": "2023-12-12T21:18:03.294688Z"
    },
    "papermill": {
     "duration": 0.60614,
     "end_time": "2023-12-12T21:18:03.298721",
     "exception": false,
     "start_time": "2023-12-12T21:18:02.692581",
     "status": "completed"
    },
    "tags": []
   },
   "outputs": [
    {
     "data": {
      "text/html": [
       "<div>\n",
       "<style scoped>\n",
       "    .dataframe tbody tr th:only-of-type {\n",
       "        vertical-align: middle;\n",
       "    }\n",
       "\n",
       "    .dataframe tbody tr th {\n",
       "        vertical-align: top;\n",
       "    }\n",
       "\n",
       "    .dataframe thead th {\n",
       "        text-align: right;\n",
       "    }\n",
       "</style>\n",
       "<table border=\"1\" class=\"dataframe\">\n",
       "  <thead>\n",
       "    <tr style=\"text-align: right;\">\n",
       "      <th></th>\n",
       "      <th>0</th>\n",
       "    </tr>\n",
       "  </thead>\n",
       "  <tbody>\n",
       "    <tr>\n",
       "      <th>0</th>\n",
       "      <td>0.75</td>\n",
       "    </tr>\n",
       "    <tr>\n",
       "      <th>1</th>\n",
       "      <td>0.74</td>\n",
       "    </tr>\n",
       "  </tbody>\n",
       "</table>\n",
       "</div>"
      ],
      "text/plain": [
       "     0\n",
       "0 0.75\n",
       "1 0.74"
      ]
     },
     "execution_count": 70,
     "metadata": {},
     "output_type": "execute_result"
    }
   ],
   "source": [
    "df2"
   ]
  },
  {
   "cell_type": "code",
   "execution_count": 71,
   "id": "c82a65f5",
   "metadata": {
    "execution": {
     "iopub.execute_input": "2023-12-12T21:18:04.557659Z",
     "iopub.status.busy": "2023-12-12T21:18:04.556787Z",
     "iopub.status.idle": "2023-12-12T21:18:04.568502Z",
     "shell.execute_reply": "2023-12-12T21:18:04.567377Z"
    },
    "papermill": {
     "duration": 0.595501,
     "end_time": "2023-12-12T21:18:04.570880",
     "exception": false,
     "start_time": "2023-12-12T21:18:03.975379",
     "status": "completed"
    },
    "tags": []
   },
   "outputs": [
    {
     "data": {
      "text/plain": [
       "DatetimeIndex(['2023-01-01 00:00:00', '2023-01-01 00:05:00',\n",
       "               '2023-01-01 00:10:00', '2023-01-01 00:15:00',\n",
       "               '2023-01-01 00:20:00', '2023-01-01 00:25:00',\n",
       "               '2023-01-01 00:30:00', '2023-01-01 00:35:00',\n",
       "               '2023-01-01 00:40:00', '2023-01-01 00:45:00',\n",
       "               ...\n",
       "               '2023-01-01 07:40:00', '2023-01-01 07:45:00',\n",
       "               '2023-01-01 07:50:00', '2023-01-01 07:55:00',\n",
       "               '2023-01-01 08:00:00', '2023-01-01 08:05:00',\n",
       "               '2023-01-01 08:10:00', '2023-01-01 08:15:00',\n",
       "               '2023-01-01 08:20:00', '2023-01-01 08:25:00'],\n",
       "              dtype='datetime64[ns]', length=102, freq='5T')"
      ]
     },
     "execution_count": 71,
     "metadata": {},
     "output_type": "execute_result"
    }
   ],
   "source": [
    "import pandas as pd\n",
    "import numpy as np\n",
    "import plotly.graph_objects as go\n",
    "\n",
    "# Create a DataFrame with random data for demonstration purposes\n",
    "data = {'column1': np.random.rand(102), 'column2': np.random.rand(102)}\n",
    "df12 = pd.DataFrame(data)\n",
    "\n",
    "ann = df12.iloc[-100:]\n",
    "ann = pd.date_range(start='2023-01-01', periods=102, freq='5T')\n",
    "ann\n"
   ]
  },
  {
   "cell_type": "code",
   "execution_count": 72,
   "id": "cbf8190d",
   "metadata": {
    "execution": {
     "iopub.execute_input": "2023-12-12T21:18:05.723646Z",
     "iopub.status.busy": "2023-12-12T21:18:05.722950Z",
     "iopub.status.idle": "2023-12-12T21:18:05.743910Z",
     "shell.execute_reply": "2023-12-12T21:18:05.742656Z"
    },
    "papermill": {
     "duration": 0.60246,
     "end_time": "2023-12-12T21:18:05.746347",
     "exception": false,
     "start_time": "2023-12-12T21:18:05.143887",
     "status": "completed"
    },
    "tags": []
   },
   "outputs": [
    {
     "data": {
      "text/html": [
       "<div>                            <div id=\"5442e581-4337-459f-906d-d6a93c9cf32d\" class=\"plotly-graph-div\" style=\"height:525px; width:100%;\"></div>            <script type=\"text/javascript\">                require([\"plotly\"], function(Plotly) {                    window.PLOTLYENV=window.PLOTLYENV || {};                                    if (document.getElementById(\"5442e581-4337-459f-906d-d6a93c9cf32d\")) {                    Plotly.newPlot(                        \"5442e581-4337-459f-906d-d6a93c9cf32d\",                        [{\"marker\":{\"color\":\"seagreen\"},\"mode\":\"lines\",\"x\":[\"2023-01-01T00:00:00\",\"2023-01-01T00:05:00\",\"2023-01-01T00:10:00\",\"2023-01-01T00:15:00\",\"2023-01-01T00:20:00\",\"2023-01-01T00:25:00\",\"2023-01-01T00:30:00\",\"2023-01-01T00:35:00\",\"2023-01-01T00:40:00\",\"2023-01-01T00:45:00\",\"2023-01-01T00:50:00\",\"2023-01-01T00:55:00\",\"2023-01-01T01:00:00\",\"2023-01-01T01:05:00\",\"2023-01-01T01:10:00\",\"2023-01-01T01:15:00\",\"2023-01-01T01:20:00\",\"2023-01-01T01:25:00\",\"2023-01-01T01:30:00\",\"2023-01-01T01:35:00\",\"2023-01-01T01:40:00\",\"2023-01-01T01:45:00\",\"2023-01-01T01:50:00\",\"2023-01-01T01:55:00\",\"2023-01-01T02:00:00\",\"2023-01-01T02:05:00\",\"2023-01-01T02:10:00\",\"2023-01-01T02:15:00\",\"2023-01-01T02:20:00\",\"2023-01-01T02:25:00\",\"2023-01-01T02:30:00\",\"2023-01-01T02:35:00\",\"2023-01-01T02:40:00\",\"2023-01-01T02:45:00\",\"2023-01-01T02:50:00\",\"2023-01-01T02:55:00\",\"2023-01-01T03:00:00\",\"2023-01-01T03:05:00\",\"2023-01-01T03:10:00\",\"2023-01-01T03:15:00\",\"2023-01-01T03:20:00\",\"2023-01-01T03:25:00\",\"2023-01-01T03:30:00\",\"2023-01-01T03:35:00\",\"2023-01-01T03:40:00\",\"2023-01-01T03:45:00\",\"2023-01-01T03:50:00\",\"2023-01-01T03:55:00\",\"2023-01-01T04:00:00\",\"2023-01-01T04:05:00\",\"2023-01-01T04:10:00\",\"2023-01-01T04:15:00\",\"2023-01-01T04:20:00\",\"2023-01-01T04:25:00\",\"2023-01-01T04:30:00\",\"2023-01-01T04:35:00\",\"2023-01-01T04:40:00\",\"2023-01-01T04:45:00\",\"2023-01-01T04:50:00\",\"2023-01-01T04:55:00\",\"2023-01-01T05:00:00\",\"2023-01-01T05:05:00\",\"2023-01-01T05:10:00\",\"2023-01-01T05:15:00\",\"2023-01-01T05:20:00\",\"2023-01-01T05:25:00\",\"2023-01-01T05:30:00\",\"2023-01-01T05:35:00\",\"2023-01-01T05:40:00\",\"2023-01-01T05:45:00\",\"2023-01-01T05:50:00\",\"2023-01-01T05:55:00\",\"2023-01-01T06:00:00\",\"2023-01-01T06:05:00\",\"2023-01-01T06:10:00\",\"2023-01-01T06:15:00\",\"2023-01-01T06:20:00\",\"2023-01-01T06:25:00\",\"2023-01-01T06:30:00\",\"2023-01-01T06:35:00\",\"2023-01-01T06:40:00\",\"2023-01-01T06:45:00\",\"2023-01-01T06:50:00\",\"2023-01-01T06:55:00\",\"2023-01-01T07:00:00\",\"2023-01-01T07:05:00\",\"2023-01-01T07:10:00\",\"2023-01-01T07:15:00\",\"2023-01-01T07:20:00\",\"2023-01-01T07:25:00\",\"2023-01-01T07:30:00\",\"2023-01-01T07:35:00\",\"2023-01-01T07:40:00\",\"2023-01-01T07:45:00\",\"2023-01-01T07:50:00\",\"2023-01-01T07:55:00\",\"2023-01-01T08:00:00\",\"2023-01-01T08:05:00\",\"2023-01-01T08:10:00\",\"2023-01-01T08:15:00\",\"2023-01-01T08:20:00\",\"2023-01-01T08:25:00\"],\"y\":[[0.749174],[0.7355615]],\"type\":\"scatter\"}],                        {\"template\":{\"data\":{\"histogram2dcontour\":[{\"type\":\"histogram2dcontour\",\"colorbar\":{\"outlinewidth\":0,\"ticks\":\"\"},\"colorscale\":[[0.0,\"#0d0887\"],[0.1111111111111111,\"#46039f\"],[0.2222222222222222,\"#7201a8\"],[0.3333333333333333,\"#9c179e\"],[0.4444444444444444,\"#bd3786\"],[0.5555555555555556,\"#d8576b\"],[0.6666666666666666,\"#ed7953\"],[0.7777777777777778,\"#fb9f3a\"],[0.8888888888888888,\"#fdca26\"],[1.0,\"#f0f921\"]]}],\"choropleth\":[{\"type\":\"choropleth\",\"colorbar\":{\"outlinewidth\":0,\"ticks\":\"\"}}],\"histogram2d\":[{\"type\":\"histogram2d\",\"colorbar\":{\"outlinewidth\":0,\"ticks\":\"\"},\"colorscale\":[[0.0,\"#0d0887\"],[0.1111111111111111,\"#46039f\"],[0.2222222222222222,\"#7201a8\"],[0.3333333333333333,\"#9c179e\"],[0.4444444444444444,\"#bd3786\"],[0.5555555555555556,\"#d8576b\"],[0.6666666666666666,\"#ed7953\"],[0.7777777777777778,\"#fb9f3a\"],[0.8888888888888888,\"#fdca26\"],[1.0,\"#f0f921\"]]}],\"heatmap\":[{\"type\":\"heatmap\",\"colorbar\":{\"outlinewidth\":0,\"ticks\":\"\"},\"colorscale\":[[0.0,\"#0d0887\"],[0.1111111111111111,\"#46039f\"],[0.2222222222222222,\"#7201a8\"],[0.3333333333333333,\"#9c179e\"],[0.4444444444444444,\"#bd3786\"],[0.5555555555555556,\"#d8576b\"],[0.6666666666666666,\"#ed7953\"],[0.7777777777777778,\"#fb9f3a\"],[0.8888888888888888,\"#fdca26\"],[1.0,\"#f0f921\"]]}],\"heatmapgl\":[{\"type\":\"heatmapgl\",\"colorbar\":{\"outlinewidth\":0,\"ticks\":\"\"},\"colorscale\":[[0.0,\"#0d0887\"],[0.1111111111111111,\"#46039f\"],[0.2222222222222222,\"#7201a8\"],[0.3333333333333333,\"#9c179e\"],[0.4444444444444444,\"#bd3786\"],[0.5555555555555556,\"#d8576b\"],[0.6666666666666666,\"#ed7953\"],[0.7777777777777778,\"#fb9f3a\"],[0.8888888888888888,\"#fdca26\"],[1.0,\"#f0f921\"]]}],\"contourcarpet\":[{\"type\":\"contourcarpet\",\"colorbar\":{\"outlinewidth\":0,\"ticks\":\"\"}}],\"contour\":[{\"type\":\"contour\",\"colorbar\":{\"outlinewidth\":0,\"ticks\":\"\"},\"colorscale\":[[0.0,\"#0d0887\"],[0.1111111111111111,\"#46039f\"],[0.2222222222222222,\"#7201a8\"],[0.3333333333333333,\"#9c179e\"],[0.4444444444444444,\"#bd3786\"],[0.5555555555555556,\"#d8576b\"],[0.6666666666666666,\"#ed7953\"],[0.7777777777777778,\"#fb9f3a\"],[0.8888888888888888,\"#fdca26\"],[1.0,\"#f0f921\"]]}],\"surface\":[{\"type\":\"surface\",\"colorbar\":{\"outlinewidth\":0,\"ticks\":\"\"},\"colorscale\":[[0.0,\"#0d0887\"],[0.1111111111111111,\"#46039f\"],[0.2222222222222222,\"#7201a8\"],[0.3333333333333333,\"#9c179e\"],[0.4444444444444444,\"#bd3786\"],[0.5555555555555556,\"#d8576b\"],[0.6666666666666666,\"#ed7953\"],[0.7777777777777778,\"#fb9f3a\"],[0.8888888888888888,\"#fdca26\"],[1.0,\"#f0f921\"]]}],\"mesh3d\":[{\"type\":\"mesh3d\",\"colorbar\":{\"outlinewidth\":0,\"ticks\":\"\"}}],\"scatter\":[{\"fillpattern\":{\"fillmode\":\"overlay\",\"size\":10,\"solidity\":0.2},\"type\":\"scatter\"}],\"parcoords\":[{\"type\":\"parcoords\",\"line\":{\"colorbar\":{\"outlinewidth\":0,\"ticks\":\"\"}}}],\"scatterpolargl\":[{\"type\":\"scatterpolargl\",\"marker\":{\"colorbar\":{\"outlinewidth\":0,\"ticks\":\"\"}}}],\"bar\":[{\"error_x\":{\"color\":\"#2a3f5f\"},\"error_y\":{\"color\":\"#2a3f5f\"},\"marker\":{\"line\":{\"color\":\"#E5ECF6\",\"width\":0.5},\"pattern\":{\"fillmode\":\"overlay\",\"size\":10,\"solidity\":0.2}},\"type\":\"bar\"}],\"scattergeo\":[{\"type\":\"scattergeo\",\"marker\":{\"colorbar\":{\"outlinewidth\":0,\"ticks\":\"\"}}}],\"scatterpolar\":[{\"type\":\"scatterpolar\",\"marker\":{\"colorbar\":{\"outlinewidth\":0,\"ticks\":\"\"}}}],\"histogram\":[{\"marker\":{\"pattern\":{\"fillmode\":\"overlay\",\"size\":10,\"solidity\":0.2}},\"type\":\"histogram\"}],\"scattergl\":[{\"type\":\"scattergl\",\"marker\":{\"colorbar\":{\"outlinewidth\":0,\"ticks\":\"\"}}}],\"scatter3d\":[{\"type\":\"scatter3d\",\"line\":{\"colorbar\":{\"outlinewidth\":0,\"ticks\":\"\"}},\"marker\":{\"colorbar\":{\"outlinewidth\":0,\"ticks\":\"\"}}}],\"scattermapbox\":[{\"type\":\"scattermapbox\",\"marker\":{\"colorbar\":{\"outlinewidth\":0,\"ticks\":\"\"}}}],\"scatterternary\":[{\"type\":\"scatterternary\",\"marker\":{\"colorbar\":{\"outlinewidth\":0,\"ticks\":\"\"}}}],\"scattercarpet\":[{\"type\":\"scattercarpet\",\"marker\":{\"colorbar\":{\"outlinewidth\":0,\"ticks\":\"\"}}}],\"carpet\":[{\"aaxis\":{\"endlinecolor\":\"#2a3f5f\",\"gridcolor\":\"white\",\"linecolor\":\"white\",\"minorgridcolor\":\"white\",\"startlinecolor\":\"#2a3f5f\"},\"baxis\":{\"endlinecolor\":\"#2a3f5f\",\"gridcolor\":\"white\",\"linecolor\":\"white\",\"minorgridcolor\":\"white\",\"startlinecolor\":\"#2a3f5f\"},\"type\":\"carpet\"}],\"table\":[{\"cells\":{\"fill\":{\"color\":\"#EBF0F8\"},\"line\":{\"color\":\"white\"}},\"header\":{\"fill\":{\"color\":\"#C8D4E3\"},\"line\":{\"color\":\"white\"}},\"type\":\"table\"}],\"barpolar\":[{\"marker\":{\"line\":{\"color\":\"#E5ECF6\",\"width\":0.5},\"pattern\":{\"fillmode\":\"overlay\",\"size\":10,\"solidity\":0.2}},\"type\":\"barpolar\"}],\"pie\":[{\"automargin\":true,\"type\":\"pie\"}]},\"layout\":{\"autotypenumbers\":\"strict\",\"colorway\":[\"#636efa\",\"#EF553B\",\"#00cc96\",\"#ab63fa\",\"#FFA15A\",\"#19d3f3\",\"#FF6692\",\"#B6E880\",\"#FF97FF\",\"#FECB52\"],\"font\":{\"color\":\"#2a3f5f\"},\"hovermode\":\"closest\",\"hoverlabel\":{\"align\":\"left\"},\"paper_bgcolor\":\"white\",\"plot_bgcolor\":\"#E5ECF6\",\"polar\":{\"bgcolor\":\"#E5ECF6\",\"angularaxis\":{\"gridcolor\":\"white\",\"linecolor\":\"white\",\"ticks\":\"\"},\"radialaxis\":{\"gridcolor\":\"white\",\"linecolor\":\"white\",\"ticks\":\"\"}},\"ternary\":{\"bgcolor\":\"#E5ECF6\",\"aaxis\":{\"gridcolor\":\"white\",\"linecolor\":\"white\",\"ticks\":\"\"},\"baxis\":{\"gridcolor\":\"white\",\"linecolor\":\"white\",\"ticks\":\"\"},\"caxis\":{\"gridcolor\":\"white\",\"linecolor\":\"white\",\"ticks\":\"\"}},\"coloraxis\":{\"colorbar\":{\"outlinewidth\":0,\"ticks\":\"\"}},\"colorscale\":{\"sequential\":[[0.0,\"#0d0887\"],[0.1111111111111111,\"#46039f\"],[0.2222222222222222,\"#7201a8\"],[0.3333333333333333,\"#9c179e\"],[0.4444444444444444,\"#bd3786\"],[0.5555555555555556,\"#d8576b\"],[0.6666666666666666,\"#ed7953\"],[0.7777777777777778,\"#fb9f3a\"],[0.8888888888888888,\"#fdca26\"],[1.0,\"#f0f921\"]],\"sequentialminus\":[[0.0,\"#0d0887\"],[0.1111111111111111,\"#46039f\"],[0.2222222222222222,\"#7201a8\"],[0.3333333333333333,\"#9c179e\"],[0.4444444444444444,\"#bd3786\"],[0.5555555555555556,\"#d8576b\"],[0.6666666666666666,\"#ed7953\"],[0.7777777777777778,\"#fb9f3a\"],[0.8888888888888888,\"#fdca26\"],[1.0,\"#f0f921\"]],\"diverging\":[[0,\"#8e0152\"],[0.1,\"#c51b7d\"],[0.2,\"#de77ae\"],[0.3,\"#f1b6da\"],[0.4,\"#fde0ef\"],[0.5,\"#f7f7f7\"],[0.6,\"#e6f5d0\"],[0.7,\"#b8e186\"],[0.8,\"#7fbc41\"],[0.9,\"#4d9221\"],[1,\"#276419\"]]},\"xaxis\":{\"gridcolor\":\"white\",\"linecolor\":\"white\",\"ticks\":\"\",\"title\":{\"standoff\":15},\"zerolinecolor\":\"white\",\"automargin\":true,\"zerolinewidth\":2},\"yaxis\":{\"gridcolor\":\"white\",\"linecolor\":\"white\",\"ticks\":\"\",\"title\":{\"standoff\":15},\"zerolinecolor\":\"white\",\"automargin\":true,\"zerolinewidth\":2},\"scene\":{\"xaxis\":{\"backgroundcolor\":\"#E5ECF6\",\"gridcolor\":\"white\",\"linecolor\":\"white\",\"showbackground\":true,\"ticks\":\"\",\"zerolinecolor\":\"white\",\"gridwidth\":2},\"yaxis\":{\"backgroundcolor\":\"#E5ECF6\",\"gridcolor\":\"white\",\"linecolor\":\"white\",\"showbackground\":true,\"ticks\":\"\",\"zerolinecolor\":\"white\",\"gridwidth\":2},\"zaxis\":{\"backgroundcolor\":\"#E5ECF6\",\"gridcolor\":\"white\",\"linecolor\":\"white\",\"showbackground\":true,\"ticks\":\"\",\"zerolinecolor\":\"white\",\"gridwidth\":2}},\"shapedefaults\":{\"line\":{\"color\":\"#2a3f5f\"}},\"annotationdefaults\":{\"arrowcolor\":\"#2a3f5f\",\"arrowhead\":0,\"arrowwidth\":1},\"geo\":{\"bgcolor\":\"white\",\"landcolor\":\"#E5ECF6\",\"subunitcolor\":\"white\",\"showland\":true,\"showlakes\":true,\"lakecolor\":\"white\"},\"title\":{\"x\":0.05},\"mapbox\":{\"style\":\"light\"}}},\"xaxis\":{\"rangeslider\":{\"visible\":true}},\"title\":{\"text\":\"Stock\"}},                        {\"responsive\": true}                    ).then(function(){\n",
       "                            \n",
       "var gd = document.getElementById('5442e581-4337-459f-906d-d6a93c9cf32d');\n",
       "var x = new MutationObserver(function (mutations, observer) {{\n",
       "        var display = window.getComputedStyle(gd).display;\n",
       "        if (!display || display === 'none') {{\n",
       "            console.log([gd, 'removed!']);\n",
       "            Plotly.purge(gd);\n",
       "            observer.disconnect();\n",
       "        }}\n",
       "}});\n",
       "\n",
       "// Listen for the removal of the full notebook cells\n",
       "var notebookContainer = gd.closest('#notebook-container');\n",
       "if (notebookContainer) {{\n",
       "    x.observe(notebookContainer, {childList: true});\n",
       "}}\n",
       "\n",
       "// Listen for the clearing of the current output cell\n",
       "var outputEl = gd.closest('.output');\n",
       "if (outputEl) {{\n",
       "    x.observe(outputEl, {childList: true});\n",
       "}}\n",
       "\n",
       "                        })                };                });            </script>        </div>"
      ]
     },
     "metadata": {},
     "output_type": "display_data"
    }
   ],
   "source": [
    "import plotly.graph_objects as go\n",
    "\n",
    "fig=go.Figure(data=go.Scatter(x=ann,y=df2,mode=\"lines\",marker_color=\"seagreen\"))\n",
    "fig.update_xaxes(rangeslider_visible=True)\n",
    "fig.update_layout(title=\"Stock\")\n",
    "fig.show()"
   ]
  },
  {
   "cell_type": "code",
   "execution_count": 73,
   "id": "cdffa084",
   "metadata": {
    "execution": {
     "iopub.execute_input": "2023-12-12T21:18:06.995101Z",
     "iopub.status.busy": "2023-12-12T21:18:06.994442Z",
     "iopub.status.idle": "2023-12-12T21:18:07.013008Z",
     "shell.execute_reply": "2023-12-12T21:18:07.011751Z"
    },
    "papermill": {
     "duration": 0.679159,
     "end_time": "2023-12-12T21:18:07.015838",
     "exception": false,
     "start_time": "2023-12-12T21:18:06.336679",
     "status": "completed"
    },
    "tags": []
   },
   "outputs": [
    {
     "data": {
      "text/html": [
       "<div>\n",
       "<style scoped>\n",
       "    .dataframe tbody tr th:only-of-type {\n",
       "        vertical-align: middle;\n",
       "    }\n",
       "\n",
       "    .dataframe tbody tr th {\n",
       "        vertical-align: top;\n",
       "    }\n",
       "\n",
       "    .dataframe thead th {\n",
       "        text-align: right;\n",
       "    }\n",
       "</style>\n",
       "<table border=\"1\" class=\"dataframe\">\n",
       "  <thead>\n",
       "    <tr style=\"text-align: right;\">\n",
       "      <th></th>\n",
       "      <th>Date</th>\n",
       "      <th>Open</th>\n",
       "      <th>High</th>\n",
       "      <th>Low</th>\n",
       "      <th>Last</th>\n",
       "      <th>Close</th>\n",
       "      <th>Total Trade Quantity</th>\n",
       "      <th>Turnover (Lacs)</th>\n",
       "    </tr>\n",
       "  </thead>\n",
       "  <tbody>\n",
       "    <tr>\n",
       "      <th>0</th>\n",
       "      <td>2018-09-28</td>\n",
       "      <td>234.05</td>\n",
       "      <td>235.95</td>\n",
       "      <td>230.20</td>\n",
       "      <td>233.50</td>\n",
       "      <td>233.75</td>\n",
       "      <td>3069914</td>\n",
       "      <td>7162.35</td>\n",
       "    </tr>\n",
       "    <tr>\n",
       "      <th>1</th>\n",
       "      <td>2018-09-27</td>\n",
       "      <td>234.55</td>\n",
       "      <td>236.80</td>\n",
       "      <td>231.10</td>\n",
       "      <td>233.80</td>\n",
       "      <td>233.25</td>\n",
       "      <td>5082859</td>\n",
       "      <td>11859.95</td>\n",
       "    </tr>\n",
       "    <tr>\n",
       "      <th>2</th>\n",
       "      <td>2018-09-26</td>\n",
       "      <td>240.00</td>\n",
       "      <td>240.00</td>\n",
       "      <td>232.50</td>\n",
       "      <td>235.00</td>\n",
       "      <td>234.25</td>\n",
       "      <td>2240909</td>\n",
       "      <td>5248.60</td>\n",
       "    </tr>\n",
       "    <tr>\n",
       "      <th>3</th>\n",
       "      <td>2018-09-25</td>\n",
       "      <td>233.30</td>\n",
       "      <td>236.75</td>\n",
       "      <td>232.00</td>\n",
       "      <td>236.25</td>\n",
       "      <td>236.10</td>\n",
       "      <td>2349368</td>\n",
       "      <td>5503.90</td>\n",
       "    </tr>\n",
       "    <tr>\n",
       "      <th>4</th>\n",
       "      <td>2018-09-24</td>\n",
       "      <td>233.55</td>\n",
       "      <td>239.20</td>\n",
       "      <td>230.75</td>\n",
       "      <td>234.00</td>\n",
       "      <td>233.30</td>\n",
       "      <td>3423509</td>\n",
       "      <td>7999.55</td>\n",
       "    </tr>\n",
       "    <tr>\n",
       "      <th>...</th>\n",
       "      <td>...</td>\n",
       "      <td>...</td>\n",
       "      <td>...</td>\n",
       "      <td>...</td>\n",
       "      <td>...</td>\n",
       "      <td>...</td>\n",
       "      <td>...</td>\n",
       "      <td>...</td>\n",
       "    </tr>\n",
       "    <tr>\n",
       "      <th>2030</th>\n",
       "      <td>2010-07-27</td>\n",
       "      <td>117.60</td>\n",
       "      <td>119.50</td>\n",
       "      <td>112.00</td>\n",
       "      <td>118.80</td>\n",
       "      <td>118.65</td>\n",
       "      <td>586100</td>\n",
       "      <td>694.98</td>\n",
       "    </tr>\n",
       "    <tr>\n",
       "      <th>2031</th>\n",
       "      <td>2010-07-26</td>\n",
       "      <td>120.10</td>\n",
       "      <td>121.00</td>\n",
       "      <td>117.10</td>\n",
       "      <td>117.10</td>\n",
       "      <td>117.60</td>\n",
       "      <td>658440</td>\n",
       "      <td>780.01</td>\n",
       "    </tr>\n",
       "    <tr>\n",
       "      <th>2032</th>\n",
       "      <td>2010-07-23</td>\n",
       "      <td>121.80</td>\n",
       "      <td>121.95</td>\n",
       "      <td>120.25</td>\n",
       "      <td>120.35</td>\n",
       "      <td>120.65</td>\n",
       "      <td>281312</td>\n",
       "      <td>340.31</td>\n",
       "    </tr>\n",
       "    <tr>\n",
       "      <th>2033</th>\n",
       "      <td>2010-07-22</td>\n",
       "      <td>120.30</td>\n",
       "      <td>122.00</td>\n",
       "      <td>120.25</td>\n",
       "      <td>120.75</td>\n",
       "      <td>120.90</td>\n",
       "      <td>293312</td>\n",
       "      <td>355.17</td>\n",
       "    </tr>\n",
       "    <tr>\n",
       "      <th>2034</th>\n",
       "      <td>2010-07-21</td>\n",
       "      <td>122.10</td>\n",
       "      <td>123.00</td>\n",
       "      <td>121.05</td>\n",
       "      <td>121.10</td>\n",
       "      <td>121.55</td>\n",
       "      <td>658666</td>\n",
       "      <td>803.56</td>\n",
       "    </tr>\n",
       "  </tbody>\n",
       "</table>\n",
       "<p>2035 rows × 8 columns</p>\n",
       "</div>"
      ],
      "text/plain": [
       "           Date   Open   High    Low   Last  Close  Total Trade Quantity  \\\n",
       "0    2018-09-28 234.05 235.95 230.20 233.50 233.75               3069914   \n",
       "1    2018-09-27 234.55 236.80 231.10 233.80 233.25               5082859   \n",
       "2    2018-09-26 240.00 240.00 232.50 235.00 234.25               2240909   \n",
       "3    2018-09-25 233.30 236.75 232.00 236.25 236.10               2349368   \n",
       "4    2018-09-24 233.55 239.20 230.75 234.00 233.30               3423509   \n",
       "...         ...    ...    ...    ...    ...    ...                   ...   \n",
       "2030 2010-07-27 117.60 119.50 112.00 118.80 118.65                586100   \n",
       "2031 2010-07-26 120.10 121.00 117.10 117.10 117.60                658440   \n",
       "2032 2010-07-23 121.80 121.95 120.25 120.35 120.65                281312   \n",
       "2033 2010-07-22 120.30 122.00 120.25 120.75 120.90                293312   \n",
       "2034 2010-07-21 122.10 123.00 121.05 121.10 121.55                658666   \n",
       "\n",
       "      Turnover (Lacs)  \n",
       "0             7162.35  \n",
       "1            11859.95  \n",
       "2             5248.60  \n",
       "3             5503.90  \n",
       "4             7999.55  \n",
       "...               ...  \n",
       "2030           694.98  \n",
       "2031           780.01  \n",
       "2032           340.31  \n",
       "2033           355.17  \n",
       "2034           803.56  \n",
       "\n",
       "[2035 rows x 8 columns]"
      ]
     },
     "execution_count": 73,
     "metadata": {},
     "output_type": "execute_result"
    }
   ],
   "source": [
    "df"
   ]
  },
  {
   "cell_type": "code",
   "execution_count": 74,
   "id": "9df05876",
   "metadata": {
    "execution": {
     "iopub.execute_input": "2023-12-12T21:18:08.200053Z",
     "iopub.status.busy": "2023-12-12T21:18:08.199630Z",
     "iopub.status.idle": "2023-12-12T21:18:09.268326Z",
     "shell.execute_reply": "2023-12-12T21:18:09.266628Z"
    },
    "papermill": {
     "duration": 1.659557,
     "end_time": "2023-12-12T21:18:09.270583",
     "exception": true,
     "start_time": "2023-12-12T21:18:07.611026",
     "status": "failed"
    },
    "tags": []
   },
   "outputs": [
    {
     "ename": "StdinNotImplementedError",
     "evalue": "raw_input was called, but this frontend does not support input requests.",
     "output_type": "error",
     "traceback": [
      "\u001b[0;31m---------------------------------------------------------------------------\u001b[0m",
      "\u001b[0;31mStdinNotImplementedError\u001b[0m                  Traceback (most recent call last)",
      "Cell \u001b[0;32mIn[74], line 1\u001b[0m\n\u001b[0;32m----> 1\u001b[0m nop\u001b[38;5;241m=\u001b[39m\u001b[38;5;28mint\u001b[39m(\u001b[38;5;28;43minput\u001b[39;49m\u001b[43m(\u001b[49m\u001b[38;5;124;43m\"\u001b[39;49m\u001b[38;5;124;43mEnter the Number in csv :\u001b[39;49m\u001b[38;5;124;43m\"\u001b[39;49m\u001b[43m)\u001b[49m)\n",
      "File \u001b[0;32m/opt/conda/lib/python3.10/site-packages/ipykernel/kernelbase.py:1201\u001b[0m, in \u001b[0;36mKernel.raw_input\u001b[0;34m(self, prompt)\u001b[0m\n\u001b[1;32m   1199\u001b[0m \u001b[38;5;28;01mif\u001b[39;00m \u001b[38;5;129;01mnot\u001b[39;00m \u001b[38;5;28mself\u001b[39m\u001b[38;5;241m.\u001b[39m_allow_stdin:\n\u001b[1;32m   1200\u001b[0m     msg \u001b[38;5;241m=\u001b[39m \u001b[38;5;124m\"\u001b[39m\u001b[38;5;124mraw_input was called, but this frontend does not support input requests.\u001b[39m\u001b[38;5;124m\"\u001b[39m\n\u001b[0;32m-> 1201\u001b[0m     \u001b[38;5;28;01mraise\u001b[39;00m StdinNotImplementedError(msg)\n\u001b[1;32m   1202\u001b[0m \u001b[38;5;28;01mreturn\u001b[39;00m \u001b[38;5;28mself\u001b[39m\u001b[38;5;241m.\u001b[39m_input_request(\n\u001b[1;32m   1203\u001b[0m     \u001b[38;5;28mstr\u001b[39m(prompt),\n\u001b[1;32m   1204\u001b[0m     \u001b[38;5;28mself\u001b[39m\u001b[38;5;241m.\u001b[39m_parent_ident[\u001b[38;5;124m\"\u001b[39m\u001b[38;5;124mshell\u001b[39m\u001b[38;5;124m\"\u001b[39m],\n\u001b[1;32m   1205\u001b[0m     \u001b[38;5;28mself\u001b[39m\u001b[38;5;241m.\u001b[39mget_parent(\u001b[38;5;124m\"\u001b[39m\u001b[38;5;124mshell\u001b[39m\u001b[38;5;124m\"\u001b[39m),\n\u001b[1;32m   1206\u001b[0m     password\u001b[38;5;241m=\u001b[39m\u001b[38;5;28;01mFalse\u001b[39;00m,\n\u001b[1;32m   1207\u001b[0m )\n",
      "\u001b[0;31mStdinNotImplementedError\u001b[0m: raw_input was called, but this frontend does not support input requests."
     ]
    }
   ],
   "source": [
    "nop=int(input(\"Enter the Number in csv :\"))"
   ]
  }
 ],
 "metadata": {
  "kaggle": {
   "accelerator": "none",
   "dataSources": [
    {
     "datasetId": 4154555,
     "sourceId": 7186352,
     "sourceType": "datasetVersion"
    }
   ],
   "dockerImageVersionId": 30615,
   "isGpuEnabled": false,
   "isInternetEnabled": true,
   "language": "python",
   "sourceType": "notebook"
  },
  "kernelspec": {
   "display_name": "Python 3",
   "language": "python",
   "name": "python3"
  },
  "language_info": {
   "codemirror_mode": {
    "name": "ipython",
    "version": 3
   },
   "file_extension": ".py",
   "mimetype": "text/x-python",
   "name": "python",
   "nbconvert_exporter": "python",
   "pygments_lexer": "ipython3",
   "version": "3.10.12"
  },
  "papermill": {
   "default_parameters": {},
   "duration": 1201.008509,
   "end_time": "2023-12-12T21:18:12.355219",
   "environment_variables": {},
   "exception": true,
   "input_path": "__notebook__.ipynb",
   "output_path": "__notebook__.ipynb",
   "parameters": {},
   "start_time": "2023-12-12T20:58:11.346710",
   "version": "2.4.0"
  }
 },
 "nbformat": 4,
 "nbformat_minor": 5
}
